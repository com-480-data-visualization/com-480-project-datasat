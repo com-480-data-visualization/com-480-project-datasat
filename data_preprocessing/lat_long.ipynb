{
 "cells": [
  {
   "cell_type": "code",
   "execution_count": 1,
   "metadata": {},
   "outputs": [],
   "source": [
    "import pandas as pd\n",
    "import numpy as np\n",
    "import math\n",
    "import matplotlib.pyplot as plt"
   ]
  },
  {
   "cell_type": "code",
   "execution_count": 25,
   "metadata": {},
   "outputs": [],
   "source": [
    "from IPython.display import clear_output"
   ]
  },
  {
   "cell_type": "code",
   "execution_count": 2,
   "metadata": {},
   "outputs": [],
   "source": [
    "breweries_file = r'../data/bigData/breweries.csv'"
   ]
  },
  {
   "cell_type": "code",
   "execution_count": 3,
   "metadata": {},
   "outputs": [],
   "source": [
    "breweries = pd.read_csv (breweries_file)"
   ]
  },
  {
   "cell_type": "code",
   "execution_count": 4,
   "metadata": {},
   "outputs": [
    {
     "data": {
      "text/plain": [
       "Index(['id', 'name', 'city', 'state', 'country', 'notes', 'types'], dtype='object')"
      ]
     },
     "execution_count": 4,
     "metadata": {},
     "output_type": "execute_result"
    }
   ],
   "source": [
    "breweries.columns"
   ]
  },
  {
   "cell_type": "code",
   "execution_count": 5,
   "metadata": {},
   "outputs": [
    {
     "data": {
      "text/plain": [
       "array(['US', 'Effingham'], dtype=object)"
      ]
     },
     "execution_count": 5,
     "metadata": {},
     "output_type": "execute_result"
    }
   ],
   "source": [
    "cities = breweries[[\"country\",\"city\"]].drop_duplicates()\n",
    "cities = cities.values\n",
    "cities[100]"
   ]
  },
  {
   "cell_type": "code",
   "execution_count": 6,
   "metadata": {},
   "outputs": [
    {
     "data": {
      "text/plain": [
       "12077"
      ]
     },
     "execution_count": 6,
     "metadata": {},
     "output_type": "execute_result"
    }
   ],
   "source": [
    "len(cities)"
   ]
  },
  {
   "cell_type": "markdown",
   "metadata": {},
   "source": [
    "## geonames database"
   ]
  },
  {
   "cell_type": "code",
   "execution_count": 35,
   "metadata": {},
   "outputs": [
    {
     "name": "stderr",
     "output_type": "stream",
     "text": [
      "/home/loic/.local/lib/python3.6/site-packages/IPython/core/interactiveshell.py:3063: DtypeWarning: Columns (13) have mixed types. Specify dtype option on import or set low_memory=False.\n",
      "  interactivity=interactivity, compiler=compiler, result=result)\n"
     ]
    },
    {
     "data": {
      "text/plain": [
       "Index(['id', 'name', 'name2', 'alias', 'lat', 'long', 'iso', '6'], dtype='object')"
      ]
     },
     "execution_count": 35,
     "metadata": {},
     "output_type": "execute_result"
    }
   ],
   "source": [
    "names = [\"id\",\"name\",\"name2\",\"alias\",\"lat\",\"long\",\"d1\",\"d2\",\"iso\"]\n",
    "namesuseless =  [str(i) for i in range(10)]\n",
    "cities_loc = pd.read_csv(\"../../data/cities500.txt\",sep=\"\\t\",names=names+namesuseless)\n",
    "cities_loc = cities_loc[[\"id\",\"name\",\"name2\",\"alias\",\"lat\",\"long\",\"iso\",\"6\"]]\n",
    "cities_loc.columns"
   ]
  },
  {
   "cell_type": "code",
   "execution_count": 39,
   "metadata": {},
   "outputs": [
    {
     "name": "stdout",
     "output_type": "stream",
     "text": [
      "1558312\n"
     ]
    },
    {
     "data": {
      "text/html": [
       "<div>\n",
       "<style scoped>\n",
       "    .dataframe tbody tr th:only-of-type {\n",
       "        vertical-align: middle;\n",
       "    }\n",
       "\n",
       "    .dataframe tbody tr th {\n",
       "        vertical-align: top;\n",
       "    }\n",
       "\n",
       "    .dataframe thead th {\n",
       "        text-align: right;\n",
       "    }\n",
       "</style>\n",
       "<table border=\"1\" class=\"dataframe\">\n",
       "  <thead>\n",
       "    <tr style=\"text-align: right;\">\n",
       "      <th></th>\n",
       "      <th>id</th>\n",
       "      <th>name</th>\n",
       "      <th>name2</th>\n",
       "      <th>alias</th>\n",
       "      <th>lat</th>\n",
       "      <th>long</th>\n",
       "      <th>iso</th>\n",
       "      <th>6</th>\n",
       "    </tr>\n",
       "  </thead>\n",
       "  <tbody>\n",
       "    <tr>\n",
       "      <th>0</th>\n",
       "      <td>3038999</td>\n",
       "      <td>Soldeu</td>\n",
       "      <td>Soldeu</td>\n",
       "      <td>NaN</td>\n",
       "      <td>42.57688</td>\n",
       "      <td>1.66769</td>\n",
       "      <td>AD</td>\n",
       "      <td>NaN</td>\n",
       "    </tr>\n",
       "    <tr>\n",
       "      <th>1</th>\n",
       "      <td>3039154</td>\n",
       "      <td>El Tarter</td>\n",
       "      <td>El Tarter</td>\n",
       "      <td>Ehl Tarter,Эл Тартер</td>\n",
       "      <td>42.57952</td>\n",
       "      <td>1.65362</td>\n",
       "      <td>AD</td>\n",
       "      <td>NaN</td>\n",
       "    </tr>\n",
       "    <tr>\n",
       "      <th>2</th>\n",
       "      <td>3039163</td>\n",
       "      <td>Sant Julià de Lòria</td>\n",
       "      <td>Sant Julia de Loria</td>\n",
       "      <td>San Julia,San Julià,Sant Julia de Loria,Sant J...</td>\n",
       "      <td>42.46372</td>\n",
       "      <td>1.49129</td>\n",
       "      <td>AD</td>\n",
       "      <td>NaN</td>\n",
       "    </tr>\n",
       "    <tr>\n",
       "      <th>3</th>\n",
       "      <td>3039604</td>\n",
       "      <td>Pas de la Casa</td>\n",
       "      <td>Pas de la Casa</td>\n",
       "      <td>Pas de la Kasa,Пас де ла Каса</td>\n",
       "      <td>42.54277</td>\n",
       "      <td>1.73361</td>\n",
       "      <td>AD</td>\n",
       "      <td>2050.0</td>\n",
       "    </tr>\n",
       "    <tr>\n",
       "      <th>4</th>\n",
       "      <td>3039678</td>\n",
       "      <td>Ordino</td>\n",
       "      <td>Ordino</td>\n",
       "      <td>Ordino,ao er di nuo,orudino jiao qu,Ордино,オルデ...</td>\n",
       "      <td>42.55623</td>\n",
       "      <td>1.53319</td>\n",
       "      <td>AD</td>\n",
       "      <td>NaN</td>\n",
       "    </tr>\n",
       "  </tbody>\n",
       "</table>\n",
       "</div>"
      ],
      "text/plain": [
       "        id                 name                name2  \\\n",
       "0  3038999               Soldeu               Soldeu   \n",
       "1  3039154            El Tarter            El Tarter   \n",
       "2  3039163  Sant Julià de Lòria  Sant Julia de Loria   \n",
       "3  3039604       Pas de la Casa       Pas de la Casa   \n",
       "4  3039678               Ordino               Ordino   \n",
       "\n",
       "                                               alias       lat     long iso  \\\n",
       "0                                                NaN  42.57688  1.66769  AD   \n",
       "1                               Ehl Tarter,Эл Тартер  42.57952  1.65362  AD   \n",
       "2  San Julia,San Julià,Sant Julia de Loria,Sant J...  42.46372  1.49129  AD   \n",
       "3                      Pas de la Kasa,Пас де ла Каса  42.54277  1.73361  AD   \n",
       "4  Ordino,ao er di nuo,orudino jiao qu,Ордино,オルデ...  42.55623  1.53319  AD   \n",
       "\n",
       "        6  \n",
       "0     NaN  \n",
       "1     NaN  \n",
       "2     NaN  \n",
       "3  2050.0  \n",
       "4     NaN  "
      ]
     },
     "execution_count": 39,
     "metadata": {},
     "output_type": "execute_result"
    }
   ],
   "source": [
    "print(cities_loc.size)\n",
    "cities_loc.head()"
   ]
  },
  {
   "cell_type": "code",
   "execution_count": 132,
   "metadata": {},
   "outputs": [
    {
     "name": "stderr",
     "output_type": "stream",
     "text": [
      "/home/loic/.local/lib/python3.6/site-packages/ipykernel_launcher.py:2: DeprecationWarning: Using Nominatim with the default \"geopy/1.21.0\" `user_agent` is strongly discouraged, as it violates Nominatim's ToS https://operations.osmfoundation.org/policies/nominatim/ and may possibly cause 403 and 429 HTTP errors. Please specify a custom `user_agent` with `Nominatim(user_agent=\"my-application\")` or by overriding the default `user_agent`: `geopy.geocoders.options.default_user_agent = \"my-application\"`. In geopy 2.0 this will become an exception.\n",
      "  \n"
     ]
    }
   ],
   "source": [
    "from geopy.geocoders import Nominatim\n",
    "geolocator =Nominatim()\n",
    "\n"
   ]
  },
  {
   "cell_type": "code",
   "execution_count": 157,
   "metadata": {},
   "outputs": [
    {
     "name": "stdout",
     "output_type": "stream",
     "text": [
      "0.83%\r",
      "1.66%\r",
      "2.48%\r",
      "3.31%\r",
      "4.14%\r",
      "4.97%\r",
      "5.80%\r",
      "6.62%\r",
      "7.45%\r",
      "8.28%\r",
      "9.11%\r",
      "9.94%\r",
      "10.76%\r",
      "11.59%\r",
      "12.42%\r",
      "13.25%\r",
      "14.08%\r",
      "14.90%\r",
      "15.73%\r",
      "16.56%\r",
      "17.39%\r",
      "18.22%\r",
      "19.04%\r",
      "19.87%\r",
      "20.70%\r",
      "21.53%\r",
      "22.36%\r",
      "23.18%\r",
      "24.01%\r",
      "24.84%\r",
      "25.67%\r",
      "26.50%\r",
      "27.32%\r",
      "28.15%\r",
      "28.98%\r",
      "29.81%\r",
      "30.64%\r",
      "31.46%\r",
      "32.29%\r",
      "33.12%\r",
      "33.95%\r",
      "34.78%\r",
      "35.60%\r",
      "36.43%\r",
      "37.26%\r",
      "38.09%\r",
      "38.92%\r",
      "39.74%\r",
      "40.57%\r",
      "41.40%\r",
      "42.23%\r",
      "43.06%\r",
      "43.89%\r",
      "44.71%\r",
      "45.54%\r",
      "46.37%\r",
      "47.20%\r",
      "48.03%\r",
      "48.85%\r",
      "49.68%\r",
      "50.51%\r",
      "51.34%\r",
      "52.17%\r",
      "52.99%\r",
      "53.82%\r",
      "54.65%\r",
      "55.48%\r",
      "56.31%\r",
      "57.13%\r",
      "57.96%\r",
      "58.79%\r",
      "59.62%\r",
      "60.45%\r",
      "61.27%\r",
      "62.10%\r",
      "62.93%\r",
      "63.76%\r",
      "64.59%\r",
      "65.41%\r",
      "66.24%\r",
      "67.07%\r",
      "67.90%\r",
      "68.73%\r",
      "69.55%\r",
      "70.38%\r",
      "71.21%\r",
      "72.04%\r",
      "72.87%\r",
      "73.69%\r",
      "74.52%\r",
      "75.35%\r",
      "76.18%\r",
      "77.01%\r",
      "77.83%\r",
      "78.66%\r",
      "79.49%\r",
      "80.32%\r",
      "81.15%\r",
      "81.97%\r",
      "82.80%\r",
      "83.63%\r",
      "84.46%\r",
      "85.29%\r",
      "86.11%\r",
      "86.94%\r",
      "87.77%\r",
      "88.60%\r",
      "89.43%\r",
      "90.25%\r",
      "91.08%\r",
      "91.91%\r",
      "92.74%\r",
      "93.57%\r",
      "94.39%\r",
      "95.22%\r",
      "96.05%\r",
      "96.88%\r",
      "97.71%\r",
      "98.53%\r",
      "99.36%\r\n",
      "0\n",
      "0\n"
     ]
    }
   ],
   "source": [
    "i=0\n",
    "err = 0\n",
    "entries=0\n",
    "\n",
    "try:\n",
    "    cities_pos\n",
    "except NameError:\n",
    "    cities_pos = breweries[[\"country\",\"city\"]].drop_duplicates()\n",
    "    cities_pos = cities_pos.values.tolist()\n",
    "    \n",
    "\n",
    "alias_nonan = cities_loc.dropna(subset=[\"alias\"])\n",
    "\n",
    "\n",
    "\n",
    "\n",
    "\n",
    "for s_city in cities_pos:\n",
    "    i+=1\n",
    "    if i%100 == 0:\n",
    "        print(\"{:3.2f}%\".format(100*i/len(cities)),end=\"\\r\")\n",
    "    \n",
    "    if len(s_city) ==4:\n",
    "        continue\n",
    "    \n",
    "    state = s_city[0]\n",
    "    city = s_city[1]\n",
    "    \n",
    "    if type(city)!=str:\n",
    "        continue\n",
    "    \n",
    "    \n",
    "    filter_name = cities_loc[cities_loc[\"name\"] == city]\n",
    "    if type(state)==str:\n",
    "        filter_country = filter_name[filter_name[\"iso\"] == state]\n",
    "    else:\n",
    "        filter_country = filter_name\n",
    "    \n",
    "    done = False\n",
    "    \n",
    "    while(not done):\n",
    "        if len(filter_country)==0:\n",
    "            filter_name = alias_nonan[alias_nonan[\"alias\"].str.contains(city)]\n",
    "            filter_country = filter_name[filter_name[\"iso\"] ==state]\n",
    "\n",
    "        if len(filter_country)==1:\n",
    "            entries+=1\n",
    "            s_city += [ str(filter_country['lat'].values[0])]\n",
    "            s_city += [ str(filter_country['long'].values[0])]\n",
    "            \n",
    "            done= True\n",
    "\n",
    "        if len(filter_country)>1:\n",
    "            \n",
    "            \n",
    "            filter_country = filter_country.sort_values(\"6\",ascending=False)\n",
    "\n",
    "            s_city += [ str(filter_country['lat'].values[0])]\n",
    "            s_city += [ str(filter_country['long'].values[0])]\n",
    "            done=True\n",
    "\n",
    "        if len(filter_country)==0:\n",
    "            location = None\n",
    "            if type(state)==str:\n",
    "                location = geolocator.geocode(city,country_codes=[state])\n",
    "            if location is not None:\n",
    "                entries+=1\n",
    "                s_city += [ str(location.latitude)]\n",
    "                s_city += [ str(location.longitude)]\n",
    "                done = True\n",
    "            else:\n",
    "                err+=1\n",
    "                print(\"{:3.2f}%\".format(100*i/len(cities)))\n",
    "            \n",
    "                print(\"no data for:\",city, \"  \", state)\n",
    "\n",
    "                print(\"\"\"Search for  (or enter \"\" to enter lat and longitude manually)\"\"\")\n",
    "                city = input()\n",
    "\n",
    "                if(city ==\"\"):\n",
    "                    print(\"latitude\")\n",
    "                    lat = input()\n",
    "                    print(\"longitude\")\n",
    "                    long = input()\n",
    "                    done =True\n",
    "                    entries+=1\n",
    "                    s_city += [ lat]\n",
    "                    s_city += [ long]\n",
    "                    \n",
    "                clear_output()\n",
    "                \n",
    "\n",
    "\n",
    "   \n",
    "        \n",
    "        \n",
    "        \n",
    "    \n",
    "print()\n",
    "print(entries)\n",
    "print(err)\n",
    "    "
   ]
  },
  {
   "cell_type": "code",
   "execution_count": 156,
   "metadata": {},
   "outputs": [],
   "source": [
    "import csv\n",
    "from datetime import datetime\n",
    "\n",
    "today = datetime.now()\n",
    "f = open('lat_long_'+today.strftime(\"%d-%m-%Y_%H:%M\")+'.csv', 'w')\n",
    "cols = [\"Country\",\"City\",\"lat\",\"long\"]\n",
    "with f:\n",
    "    writer = csv.writer(f)\n",
    "    writer.writerow(cols)\n",
    "    writer.writerows(cities_pos)\n",
    "    \n",
    "    "
   ]
  },
  {
   "cell_type": "code",
   "execution_count": 146,
   "metadata": {},
   "outputs": [
    {
     "data": {
      "text/plain": [
       "'03-05-2020_18'"
      ]
     },
     "execution_count": 146,
     "metadata": {},
     "output_type": "execute_result"
    }
   ],
   "source": [
    "\n",
    "\n",
    "str(today.strftime(\"%d-%m-%Y_%H\"))"
   ]
  },
  {
   "cell_type": "code",
   "execution_count": 99,
   "metadata": {},
   "outputs": [],
   "source": [
    "cities_pos[2050] = ['IT', 'Lemignano', '44.7711928', '10.2633709']\n",
    "for i,s_city in enumerate(cities_pos):\n",
    "    if len(s_city)>4:\n",
    "        print(i,\" \",s_city)"
   ]
  }
 ],
 "metadata": {
  "kernelspec": {
   "display_name": "Python 3",
   "language": "python",
   "name": "python3"
  },
  "language_info": {
   "codemirror_mode": {
    "name": "ipython",
    "version": 3
   },
   "file_extension": ".py",
   "mimetype": "text/x-python",
   "name": "python",
   "nbconvert_exporter": "python",
   "pygments_lexer": "ipython3",
   "version": "3.7.4"
  }
 },
 "nbformat": 4,
 "nbformat_minor": 4
}
