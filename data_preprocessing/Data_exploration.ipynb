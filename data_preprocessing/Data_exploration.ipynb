{
 "cells": [
  {
   "cell_type": "code",
   "execution_count": 1,
   "metadata": {},
   "outputs": [],
   "source": [
    "import pandas as pd\n",
    "import numpy as np\n",
    "import math\n",
    "import matplotlib.pyplot as plt"
   ]
  },
  {
   "cell_type": "markdown",
   "metadata": {},
   "source": [
    "# DATA EXPLORATION"
   ]
  },
  {
   "cell_type": "markdown",
   "metadata": {},
   "source": [
    "---\n",
    "## Load Data"
   ]
  },
  {
   "cell_type": "code",
   "execution_count": 2,
   "metadata": {},
   "outputs": [],
   "source": [
    "beer_file = r'../data/bigData/beers.csv'\n",
    "breweries_file = r'../data/bigData/breweries.csv'\n",
    "\n",
    "beers = pd.read_csv (beer_file)\n",
    "\n",
    "breweries = pd.read_csv (breweries_file)\n",
    "breweries.rename(columns={'id':'brewery_id'},inplace=True)\n",
    "\n",
    "reviews = pd.read_csv (r\"../data/bigData/reviews.csv\")"
   ]
  },
  {
   "cell_type": "markdown",
   "metadata": {
    "scrolled": true
   },
   "source": [
    "## print columns and size"
   ]
  },
  {
   "cell_type": "code",
   "execution_count": 3,
   "metadata": {},
   "outputs": [
    {
     "name": "stdout",
     "output_type": "stream",
     "text": [
      "Index(['id', 'name', 'brewery_id', 'state', 'country', 'style', 'availability',\n",
      "       'abv', 'notes', 'retired'],\n",
      "      dtype='object')\n",
      "beers= 358873\n"
     ]
    }
   ],
   "source": [
    "print(beers.columns)\n",
    "print(\"beers=\" , beers.shape[0])"
   ]
  },
  {
   "cell_type": "code",
   "execution_count": null,
   "metadata": {},
   "outputs": [],
   "source": [
    "print(breweries.columns)\n",
    "print(\"n_breweries = \",breweries.shape[0])"
   ]
  },
  {
   "cell_type": "code",
   "execution_count": 4,
   "metadata": {},
   "outputs": [
    {
     "name": "stdout",
     "output_type": "stream",
     "text": [
      "Index(['beer_id', 'username', 'date', 'text', 'look', 'smell', 'taste', 'feel',\n",
      "       'overall', 'score'],\n",
      "      dtype='object')\n",
      "n_reviews =  9073128\n"
     ]
    }
   ],
   "source": [
    "print(reviews.columns)\n",
    "print(\"n_reviews = \",reviews.shape[0])"
   ]
  },
  {
   "cell_type": "code",
   "execution_count": null,
   "metadata": {},
   "outputs": [],
   "source": [
    "swiss_beers = beers[beers[\"country\"]]"
   ]
  },
  {
   "cell_type": "markdown",
   "metadata": {},
   "source": [
    "### Join Breweries and beer"
   ]
  },
  {
   "cell_type": "code",
   "execution_count": null,
   "metadata": {},
   "outputs": [],
   "source": [
    "beer_and_breweries = pd.merge(beers,breweries,on=\"brewery_id\")\n",
    "beer_and_breweries.rename(columns={'name_x':'beerName','name_y':'brewName'},inplace=True)"
   ]
  },
  {
   "cell_type": "code",
   "execution_count": null,
   "metadata": {},
   "outputs": [],
   "source": [
    "#remove beers (free memory)\n",
    "del(beers)"
   ]
  },
  {
   "cell_type": "markdown",
   "metadata": {},
   "source": [
    "---\n",
    "### Preview"
   ]
  },
  {
   "cell_type": "code",
   "execution_count": 7,
   "metadata": {},
   "outputs": [],
   "source": [
    "reviews_score = reviews[[\"beer_id\",\"score\"]].groupby(\"beer_id\").mean()\n",
    "reviews = reviews[[\"beer_id\",\"score\"]].groupby(\"beer_id\").count()"
   ]
  },
  {
   "cell_type": "code",
   "execution_count": 24,
   "metadata": {},
   "outputs": [
    {
     "data": {
      "text/html": [
       "<div>\n",
       "<style scoped>\n",
       "    .dataframe tbody tr th:only-of-type {\n",
       "        vertical-align: middle;\n",
       "    }\n",
       "\n",
       "    .dataframe tbody tr th {\n",
       "        vertical-align: top;\n",
       "    }\n",
       "\n",
       "    .dataframe thead th {\n",
       "        text-align: right;\n",
       "    }\n",
       "</style>\n",
       "<table border=\"1\" class=\"dataframe\">\n",
       "  <thead>\n",
       "    <tr style=\"text-align: right;\">\n",
       "      <th></th>\n",
       "      <th>id</th>\n",
       "      <th>name</th>\n",
       "      <th>brewery_id</th>\n",
       "      <th>state</th>\n",
       "      <th>country</th>\n",
       "      <th>style</th>\n",
       "      <th>availability</th>\n",
       "      <th>abv</th>\n",
       "      <th>notes</th>\n",
       "      <th>retired</th>\n",
       "      <th>score</th>\n",
       "    </tr>\n",
       "  </thead>\n",
       "  <tbody>\n",
       "    <tr>\n",
       "      <th>332</th>\n",
       "      <td>256314</td>\n",
       "      <td>Pilsen Paraguaya</td>\n",
       "      <td>34106</td>\n",
       "      <td>NaN</td>\n",
       "      <td>PY</td>\n",
       "      <td>German Pilsner</td>\n",
       "      <td>Year-round</td>\n",
       "      <td>5.0</td>\n",
       "      <td>No notes at this time.</td>\n",
       "      <td>f</td>\n",
       "      <td>2.79</td>\n",
       "    </tr>\n",
       "    <tr>\n",
       "      <th>1010</th>\n",
       "      <td>121330</td>\n",
       "      <td>Stout Au Bouleau</td>\n",
       "      <td>13905</td>\n",
       "      <td>QC</td>\n",
       "      <td>CA</td>\n",
       "      <td>Irish Dry Stout</td>\n",
       "      <td>Year-round</td>\n",
       "      <td>4.9</td>\n",
       "      <td>No notes at this time.</td>\n",
       "      <td>f</td>\n",
       "      <td>5.00</td>\n",
       "    </tr>\n",
       "    <tr>\n",
       "      <th>2198</th>\n",
       "      <td>263893</td>\n",
       "      <td>Belfast Lager</td>\n",
       "      <td>38754</td>\n",
       "      <td>OR</td>\n",
       "      <td>US</td>\n",
       "      <td>Vienna Lager</td>\n",
       "      <td>Year-round</td>\n",
       "      <td>4.5</td>\n",
       "      <td>No notes at this time.</td>\n",
       "      <td>f</td>\n",
       "      <td>5.00</td>\n",
       "    </tr>\n",
       "    <tr>\n",
       "      <th>2694</th>\n",
       "      <td>81826</td>\n",
       "      <td>Iwatekura Barleywine</td>\n",
       "      <td>4974</td>\n",
       "      <td>NaN</td>\n",
       "      <td>JP</td>\n",
       "      <td>American Barleywine</td>\n",
       "      <td>Year-round</td>\n",
       "      <td>14.3</td>\n",
       "      <td>No notes at this time.</td>\n",
       "      <td>f</td>\n",
       "      <td>4.87</td>\n",
       "    </tr>\n",
       "    <tr>\n",
       "      <th>2937</th>\n",
       "      <td>368158</td>\n",
       "      <td>Hipster in a Vanilla Field</td>\n",
       "      <td>48831</td>\n",
       "      <td>CA</td>\n",
       "      <td>US</td>\n",
       "      <td>Russian Imperial Stout</td>\n",
       "      <td>Rotating</td>\n",
       "      <td>10.0</td>\n",
       "      <td>No notes at this time.</td>\n",
       "      <td>f</td>\n",
       "      <td>5.00</td>\n",
       "    </tr>\n",
       "  </tbody>\n",
       "</table>\n",
       "</div>"
      ],
      "text/plain": [
       "          id                        name  brewery_id state country  \\\n",
       "332   256314            Pilsen Paraguaya       34106   NaN      PY   \n",
       "1010  121330            Stout Au Bouleau       13905    QC      CA   \n",
       "2198  263893               Belfast Lager       38754    OR      US   \n",
       "2694   81826        Iwatekura Barleywine        4974   NaN      JP   \n",
       "2937  368158  Hipster in a Vanilla Field       48831    CA      US   \n",
       "\n",
       "                       style availability   abv                   notes  \\\n",
       "332           German Pilsner   Year-round   5.0  No notes at this time.   \n",
       "1010         Irish Dry Stout   Year-round   4.9  No notes at this time.   \n",
       "2198            Vienna Lager   Year-round   4.5  No notes at this time.   \n",
       "2694     American Barleywine   Year-round  14.3  No notes at this time.   \n",
       "2937  Russian Imperial Stout     Rotating  10.0  No notes at this time.   \n",
       "\n",
       "     retired  score  \n",
       "332        f   2.79  \n",
       "1010       f   5.00  \n",
       "2198       f   5.00  \n",
       "2694       f   4.87  \n",
       "2937       f   5.00  "
      ]
     },
     "execution_count": 24,
     "metadata": {},
     "output_type": "execute_result"
    }
   ],
   "source": [
    "best_idx = reviews_score.groupby([\"country\"])[\"score\"].transform(max) == reviews_score[\"score\"]\n",
    "bests = reviews_score[best_idx]\n",
    "bests.head()"
   ]
  },
  {
   "cell_type": "code",
   "execution_count": 14,
   "metadata": {},
   "outputs": [
    {
     "data": {
      "text/html": [
       "<div>\n",
       "<style scoped>\n",
       "    .dataframe tbody tr th:only-of-type {\n",
       "        vertical-align: middle;\n",
       "    }\n",
       "\n",
       "    .dataframe tbody tr th {\n",
       "        vertical-align: top;\n",
       "    }\n",
       "\n",
       "    .dataframe thead th {\n",
       "        text-align: right;\n",
       "    }\n",
       "</style>\n",
       "<table border=\"1\" class=\"dataframe\">\n",
       "  <thead>\n",
       "    <tr style=\"text-align: right;\">\n",
       "      <th></th>\n",
       "      <th>id</th>\n",
       "      <th>name</th>\n",
       "      <th>brewery_id</th>\n",
       "      <th>state</th>\n",
       "      <th>country</th>\n",
       "      <th>style</th>\n",
       "      <th>availability</th>\n",
       "      <th>abv</th>\n",
       "      <th>notes</th>\n",
       "      <th>retired</th>\n",
       "      <th>score</th>\n",
       "    </tr>\n",
       "  </thead>\n",
       "  <tbody>\n",
       "    <tr>\n",
       "      <th>332</th>\n",
       "      <td>256314</td>\n",
       "      <td>Pilsen Paraguaya</td>\n",
       "      <td>34106</td>\n",
       "      <td>NaN</td>\n",
       "      <td>PY</td>\n",
       "      <td>German Pilsner</td>\n",
       "      <td>Year-round</td>\n",
       "      <td>5.0</td>\n",
       "      <td>No notes at this time.</td>\n",
       "      <td>f</td>\n",
       "      <td>1</td>\n",
       "    </tr>\n",
       "    <tr>\n",
       "      <th>2564</th>\n",
       "      <td>2476</td>\n",
       "      <td>Castle Lager</td>\n",
       "      <td>466</td>\n",
       "      <td>NaN</td>\n",
       "      <td>ZA</td>\n",
       "      <td>American Adjunct Lager</td>\n",
       "      <td>Year-round</td>\n",
       "      <td>5.0</td>\n",
       "      <td>No notes at this time.</td>\n",
       "      <td>f</td>\n",
       "      <td>154</td>\n",
       "    </tr>\n",
       "    <tr>\n",
       "      <th>5267</th>\n",
       "      <td>75488</td>\n",
       "      <td>Mamba</td>\n",
       "      <td>27346</td>\n",
       "      <td>NaN</td>\n",
       "      <td>CI</td>\n",
       "      <td>American Malt Liquor</td>\n",
       "      <td>Year-round</td>\n",
       "      <td>NaN</td>\n",
       "      <td>No notes at this time.</td>\n",
       "      <td>f</td>\n",
       "      <td>9</td>\n",
       "    </tr>\n",
       "    <tr>\n",
       "      <th>7657</th>\n",
       "      <td>34</td>\n",
       "      <td>La Fin Du Monde</td>\n",
       "      <td>22</td>\n",
       "      <td>QC</td>\n",
       "      <td>CA</td>\n",
       "      <td>Belgian Tripel</td>\n",
       "      <td>Year-round</td>\n",
       "      <td>9.0</td>\n",
       "      <td>La Fin du Monde was developed through 18 month...</td>\n",
       "      <td>f</td>\n",
       "      <td>10295</td>\n",
       "    </tr>\n",
       "    <tr>\n",
       "      <th>9700</th>\n",
       "      <td>5181</td>\n",
       "      <td>Club Premium Lager</td>\n",
       "      <td>1487</td>\n",
       "      <td>NaN</td>\n",
       "      <td>GH</td>\n",
       "      <td>American Adjunct Lager</td>\n",
       "      <td>Year-round</td>\n",
       "      <td>5.0</td>\n",
       "      <td>No notes at this time.</td>\n",
       "      <td>f</td>\n",
       "      <td>11</td>\n",
       "    </tr>\n",
       "  </tbody>\n",
       "</table>\n",
       "</div>"
      ],
      "text/plain": [
       "          id                name  brewery_id state country  \\\n",
       "332   256314    Pilsen Paraguaya       34106   NaN      PY   \n",
       "2564    2476        Castle Lager         466   NaN      ZA   \n",
       "5267   75488               Mamba       27346   NaN      CI   \n",
       "7657      34     La Fin Du Monde          22    QC      CA   \n",
       "9700    5181  Club Premium Lager        1487   NaN      GH   \n",
       "\n",
       "                       style availability  abv  \\\n",
       "332           German Pilsner   Year-round  5.0   \n",
       "2564  American Adjunct Lager   Year-round  5.0   \n",
       "5267    American Malt Liquor   Year-round  NaN   \n",
       "7657          Belgian Tripel   Year-round  9.0   \n",
       "9700  American Adjunct Lager   Year-round  5.0   \n",
       "\n",
       "                                                  notes retired  score  \n",
       "332                              No notes at this time.       f      1  \n",
       "2564                             No notes at this time.       f    154  \n",
       "5267                             No notes at this time.       f      9  \n",
       "7657  La Fin du Monde was developed through 18 month...       f  10295  \n",
       "9700                             No notes at this time.       f     11  "
      ]
     },
     "execution_count": 14,
     "metadata": {},
     "output_type": "execute_result"
    }
   ],
   "source": [
    "popularity_idx = reviews.groupby([\"country\"])[\"score\"].transform(max) == reviews[\"score\"]\n",
    "pop = reviews[popularity_idx]\n",
    "pop.head()"
   ]
  },
  {
   "cell_type": "code",
   "execution_count": 34,
   "metadata": {},
   "outputs": [
    {
     "name": "stdout",
     "output_type": "stream",
     "text": [
      "\n",
      " BESTS:\n",
      "                             name                      style  score\n",
      "7522                 Gastro-Weiße          German Hefeweizen    5.0\n",
      "38700                 Best Bitter             English Bitter    5.0\n",
      "49274    Wiesbadener Double Stout    American Imperial Stout    5.0\n",
      "127573          Erlkönig Pilsener             German Pilsner    5.0\n",
      "138790       Griess Bock Hefetrüb                German Bock    5.0\n",
      "139182    Rhöner Imperial Pilsner  American Imperial Pilsner    5.0\n",
      "209372  Wiesbadener 1486 Pale Ale    American Pale Ale (APA)    5.0\n",
      "212868     Wiesbadener Summer Ale    American Pale Ale (APA)    5.0\n",
      "\n",
      " Pop:\n",
      "                                name              style  score\n",
      "32034  Weihenstephaner Hefeweissbier  German Hefeweizen   8669\n"
     ]
    }
   ],
   "source": [
    "code = \"DE\"\n",
    "print(\"\\n BESTS:\")\n",
    "print(bests[bests[\"country\"] == code][[\"name\",\"style\",\"score\"]])\n",
    "print(\"\\n Pop:\")\n",
    "print(pop[pop[\"country\"] == code][[\"name\",\"style\",\"score\"]])"
   ]
  },
  {
   "cell_type": "markdown",
   "metadata": {},
   "source": [
    "---\n",
    "# Analysis"
   ]
  },
  {
   "cell_type": "markdown",
   "metadata": {},
   "source": [
    "### Repartition of the reviews\n",
    "\n",
    "On the x axis you have the number of reviews and on the y axis the number of beer that have this many reviews (in log scale).\n",
    "Hence this is the density of beers on the reviews axis.\n",
    "We can see that most of the beers only have really few number of reviews. (between 0 and 50) since a only few beers has more than 2000 reviews"
   ]
  },
  {
   "cell_type": "code",
   "execution_count": 69,
   "metadata": {},
   "outputs": [
    {
     "data": {
      "text/plain": [
       "[]"
      ]
     },
     "execution_count": 69,
     "metadata": {},
     "output_type": "execute_result"
    },
    {
     "data": {
      "image/png": "[encoded data removed]",
      "text/plain": [
       "<Figure size 432x288 with 1 Axes>"
      ]
     },
     "metadata": {
      "needs_background": "light"
     },
     "output_type": "display_data"
    }
   ],
   "source": [
    "r_by_beers = reviews[[\"beer_id\",\"score\"]].groupby(\"beer_id\").count()\n",
    "\n",
    "bins = np.linspace(0,10000,200)\n",
    "plt.hist(r_by_beers[\"score\"],bins,log=True)\n",
    "plt.xlabel(\"nb_of_reviews\")\n",
    "plt.ylabel(\"density of beers\")\n",
    "plt.plot()"
   ]
  },
  {
   "cell_type": "markdown",
   "metadata": {},
   "source": [
    "Same graph but zoomed for beers with less than 100 reviews"
   ]
  },
  {
   "cell_type": "code",
   "execution_count": 70,
   "metadata": {
    "scrolled": true
   },
   "outputs": [
    {
     "data": {
      "image/png": "[encoded data removed]",
      "text/plain": [
       "<Figure size 432x288 with 1 Axes>"
      ]
     },
     "metadata": {
      "needs_background": "light"
     },
     "output_type": "display_data"
    }
   ],
   "source": [
    "bins = np.linspace(0,100,20)\n",
    "plt.hist(r_by_beers[\"score\"],bins,log=True)\n",
    "plt.xlabel(\"nb_of_reviews\")\n",
    "plt.ylabel(\"density of beers\")\n",
    "plt.plot()\n",
    "del(r_by_beers)"
   ]
  },
  {
   "cell_type": "markdown",
   "metadata": {},
   "source": [
    "### Repartition of styles of beers"
   ]
  },
  {
   "cell_type": "code",
   "execution_count": 1,
   "metadata": {
    "scrolled": false
   },
   "outputs": [
    {
     "ename": "NameError",
     "evalue": "name 'beer_and_breweries' is not defined",
     "output_type": "error",
     "traceback": [
      "\u001b[0;31m---------------------------------------------------------------------------\u001b[0m",
      "\u001b[0;31mNameError\u001b[0m                                 Traceback (most recent call last)",
      "\u001b[0;32m<ipython-input-1-81b1aba18cba>\u001b[0m in \u001b[0;36m<module>\u001b[0;34m\u001b[0m\n\u001b[0;32m----> 1\u001b[0;31m \u001b[0mn_styles\u001b[0m \u001b[0;34m=\u001b[0m \u001b[0mbeer_and_breweries\u001b[0m\u001b[0;34m[\u001b[0m\u001b[0;34m[\u001b[0m\u001b[0;34m\"style\"\u001b[0m\u001b[0;34m,\u001b[0m\u001b[0;34m\"beerName\"\u001b[0m\u001b[0;34m]\u001b[0m\u001b[0;34m]\u001b[0m\u001b[0;34m.\u001b[0m\u001b[0mgroupby\u001b[0m\u001b[0;34m(\u001b[0m\u001b[0;34m\"style\"\u001b[0m\u001b[0;34m)\u001b[0m\u001b[0;34m.\u001b[0m\u001b[0mcount\u001b[0m\u001b[0;34m(\u001b[0m\u001b[0;34m)\u001b[0m\u001b[0;34m\u001b[0m\u001b[0;34m\u001b[0m\u001b[0m\n\u001b[0m\u001b[1;32m      2\u001b[0m \u001b[0mn_styles_enough\u001b[0m\u001b[0;34m=\u001b[0m \u001b[0mn_styles\u001b[0m\u001b[0;34m[\u001b[0m\u001b[0;34m\"beerName\"\u001b[0m\u001b[0;34m]\u001b[0m \u001b[0;34m>\u001b[0m \u001b[0;36m5000\u001b[0m\u001b[0;34m\u001b[0m\u001b[0;34m\u001b[0m\u001b[0m\n\u001b[1;32m      3\u001b[0m \u001b[0msum_tot\u001b[0m \u001b[0;34m=\u001b[0m \u001b[0mn_styles\u001b[0m\u001b[0;34m.\u001b[0m\u001b[0msum\u001b[0m\u001b[0;34m(\u001b[0m\u001b[0;34m)\u001b[0m\u001b[0;34m\u001b[0m\u001b[0;34m\u001b[0m\u001b[0m\n\u001b[1;32m      4\u001b[0m \u001b[0;34m\u001b[0m\u001b[0m\n\u001b[1;32m      5\u001b[0m \u001b[0mn_styles\u001b[0m \u001b[0;34m=\u001b[0m \u001b[0mn_styles\u001b[0m\u001b[0;34m[\u001b[0m\u001b[0mn_styles_enough\u001b[0m\u001b[0;34m]\u001b[0m\u001b[0;34m\u001b[0m\u001b[0;34m\u001b[0m\u001b[0m\n",
      "\u001b[0;31mNameError\u001b[0m: name 'beer_and_breweries' is not defined"
     ]
    }
   ],
   "source": [
    "n_styles = beer_and_breweries[[\"style\",\"beerName\"]].groupby(\"style\").count()\n",
    "n_styles_enough= n_styles[\"beerName\"] > 5000\n",
    "sum_tot = n_styles.sum()\n",
    "\n",
    "n_styles = n_styles[n_styles_enough]\n",
    "n_others = sum_tot - n_styles.sum()\n",
    "n_styles.loc[\"other\"] = [n_others]\n",
    "plt.figure(figsize=(10,8))\n",
    "plt.pie(n_styles[\"beerName\"],labels=n_styles.index)\n",
    "\n",
    "plt.plot()\n",
    "del(n_styles)\n",
    "del(n_styles_enough)"
   ]
  },
  {
   "cell_type": "code",
   "execution_count": null,
   "metadata": {},
   "outputs": [],
   "source": []
  }
 ],
 "metadata": {
  "kernelspec": {
   "display_name": "Python 3",
   "language": "python",
   "name": "python3"
  },
  "language_info": {
   "codemirror_mode": {
    "name": "ipython",
    "version": 3
   },
   "file_extension": ".py",
   "mimetype": "text/x-python",
   "name": "python",
   "nbconvert_exporter": "python",
   "pygments_lexer": "ipython3",
   "version": "3.7.4"
  }
 },
 "nbformat": 4,
 "nbformat_minor": 2
}
