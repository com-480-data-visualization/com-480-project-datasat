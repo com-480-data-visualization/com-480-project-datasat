{
 "cells": [
  {
   "cell_type": "markdown",
   "metadata": {},
   "source": [
    "<h1>Load Data</h1>"
   ]
  },
  {
   "cell_type": "code",
   "execution_count": 1,
   "metadata": {},
   "outputs": [],
   "source": [
    "import pandas as pd\n",
    "import numpy as np\n",
    "import math\n",
    "import matplotlib.pyplot as plt"
   ]
  },
  {
   "cell_type": "markdown",
   "metadata": {},
   "source": [
    "### beers and breweries"
   ]
  },
  {
   "cell_type": "code",
   "execution_count": 7,
   "metadata": {},
   "outputs": [],
   "source": [
    "beer_file = r'../data/bigData/beers.csv'\n",
    "breweries_file = r'../data/bigData/breweries.csv'\n",
    "\n",
    "beers = pd.read_csv (beer_file)\n",
    "\n",
    "breweries = pd.read_csv (breweries_file)\n",
    "breweries.rename(columns={'id':'brewery_id'},inplace=True)\n",
    "\n",
    "reviews = pd.read_csv (r\"../data/bigData/reviews.csv\")"
   ]
  },
  {
   "cell_type": "markdown",
   "metadata": {},
   "source": [
    "### long and lat of cities"
   ]
  },
  {
   "cell_type": "code",
   "execution_count": 8,
   "metadata": {},
   "outputs": [],
   "source": [
    "cities_pos_file  = r'lat_long_03-05-2020_19:21.csv' \n",
    "\n",
    "cities_pos = pd.read_csv (cities_pos_file)"
   ]
  },
  {
   "cell_type": "markdown",
   "metadata": {},
   "source": [
    "### join_beer_brewery"
   ]
  },
  {
   "cell_type": "code",
   "execution_count": 9,
   "metadata": {},
   "outputs": [],
   "source": [
    "beer_and_breweries = pd.merge(beers,breweries,on=\"brewery_id\")\n",
    "beer_and_breweries.rename(columns={'name_x':'beer','name_y':'brewery','country_y':'country'},inplace=True)\n",
    "beer_and_breweries = beer_and_breweries[[\"id\",\"beer\",\"style\",\"availability\",\"abv\",\"retired\",\"brewery\",\"city\",\"country\",\"types\"]]\n"
   ]
  },
  {
   "cell_type": "markdown",
   "metadata": {},
   "source": [
    "### cleaning"
   ]
  },
  {
   "cell_type": "code",
   "execution_count": 10,
   "metadata": {},
   "outputs": [],
   "source": [
    "beer_and_breweries = beer_and_breweries[beer_and_breweries[\"abv\"]<70]"
   ]
  },
  {
   "cell_type": "markdown",
   "metadata": {},
   "source": [
    "Delete redondant data"
   ]
  },
  {
   "cell_type": "code",
   "execution_count": 11,
   "metadata": {},
   "outputs": [],
   "source": [
    "del beers\n",
    "del breweries"
   ]
  },
  {
   "cell_type": "markdown",
   "metadata": {},
   "source": [
    "### print data infos"
   ]
  },
  {
   "cell_type": "code",
   "execution_count": 12,
   "metadata": {},
   "outputs": [
    {
     "data": {
      "text/html": [
       "<div>\n",
       "<style scoped>\n",
       "    .dataframe tbody tr th:only-of-type {\n",
       "        vertical-align: middle;\n",
       "    }\n",
       "\n",
       "    .dataframe tbody tr th {\n",
       "        vertical-align: top;\n",
       "    }\n",
       "\n",
       "    .dataframe thead th {\n",
       "        text-align: right;\n",
       "    }\n",
       "</style>\n",
       "<table border=\"1\" class=\"dataframe\">\n",
       "  <thead>\n",
       "    <tr style=\"text-align: right;\">\n",
       "      <th></th>\n",
       "      <th>id</th>\n",
       "      <th>beer</th>\n",
       "      <th>style</th>\n",
       "      <th>availability</th>\n",
       "      <th>abv</th>\n",
       "      <th>retired</th>\n",
       "      <th>brewery</th>\n",
       "      <th>city</th>\n",
       "      <th>country</th>\n",
       "      <th>types</th>\n",
       "    </tr>\n",
       "  </thead>\n",
       "  <tbody>\n",
       "    <tr>\n",
       "      <td>0</td>\n",
       "      <td>202522</td>\n",
       "      <td>Olde Cogitator</td>\n",
       "      <td>English Oatmeal Stout</td>\n",
       "      <td>Rotating</td>\n",
       "      <td>7.3</td>\n",
       "      <td>f</td>\n",
       "      <td>Main Street Brewery</td>\n",
       "      <td>Pleasanton</td>\n",
       "      <td>US</td>\n",
       "      <td>Brewery, Bar, Eatery</td>\n",
       "    </tr>\n",
       "    <tr>\n",
       "      <td>1</td>\n",
       "      <td>8677</td>\n",
       "      <td>Red Leaf Strong Ale</td>\n",
       "      <td>American Strong Ale</td>\n",
       "      <td>Year-round</td>\n",
       "      <td>8.6</td>\n",
       "      <td>f</td>\n",
       "      <td>Main Street Brewery</td>\n",
       "      <td>Pleasanton</td>\n",
       "      <td>US</td>\n",
       "      <td>Brewery, Bar, Eatery</td>\n",
       "    </tr>\n",
       "  </tbody>\n",
       "</table>\n",
       "</div>"
      ],
      "text/plain": [
       "       id                 beer                  style availability  abv  \\\n",
       "0  202522       Olde Cogitator  English Oatmeal Stout     Rotating  7.3   \n",
       "1    8677  Red Leaf Strong Ale    American Strong Ale   Year-round  8.6   \n",
       "\n",
       "  retired              brewery        city country                 types  \n",
       "0       f  Main Street Brewery  Pleasanton      US  Brewery, Bar, Eatery  \n",
       "1       f  Main Street Brewery  Pleasanton      US  Brewery, Bar, Eatery  "
      ]
     },
     "execution_count": 12,
     "metadata": {},
     "output_type": "execute_result"
    }
   ],
   "source": [
    "beer_and_breweries.head(2)"
   ]
  },
  {
   "cell_type": "code",
   "execution_count": 13,
   "metadata": {},
   "outputs": [
    {
     "data": {
      "text/html": [
       "<div>\n",
       "<style scoped>\n",
       "    .dataframe tbody tr th:only-of-type {\n",
       "        vertical-align: middle;\n",
       "    }\n",
       "\n",
       "    .dataframe tbody tr th {\n",
       "        vertical-align: top;\n",
       "    }\n",
       "\n",
       "    .dataframe thead th {\n",
       "        text-align: right;\n",
       "    }\n",
       "</style>\n",
       "<table border=\"1\" class=\"dataframe\">\n",
       "  <thead>\n",
       "    <tr style=\"text-align: right;\">\n",
       "      <th></th>\n",
       "      <th>Country</th>\n",
       "      <th>City</th>\n",
       "      <th>lat</th>\n",
       "      <th>long</th>\n",
       "    </tr>\n",
       "  </thead>\n",
       "  <tbody>\n",
       "    <tr>\n",
       "      <td>0</td>\n",
       "      <td>BE</td>\n",
       "      <td>Erpe-Mere</td>\n",
       "      <td>50.93604</td>\n",
       "      <td>4.03550</td>\n",
       "    </tr>\n",
       "    <tr>\n",
       "      <td>1</td>\n",
       "      <td>US</td>\n",
       "      <td>Thousand Palms</td>\n",
       "      <td>33.82002</td>\n",
       "      <td>-116.39029</td>\n",
       "    </tr>\n",
       "  </tbody>\n",
       "</table>\n",
       "</div>"
      ],
      "text/plain": [
       "  Country            City       lat       long\n",
       "0      BE       Erpe-Mere  50.93604    4.03550\n",
       "1      US  Thousand Palms  33.82002 -116.39029"
      ]
     },
     "execution_count": 13,
     "metadata": {},
     "output_type": "execute_result"
    }
   ],
   "source": [
    "cities_pos.head(2)"
   ]
  },
  {
   "cell_type": "code",
   "execution_count": 14,
   "metadata": {},
   "outputs": [
    {
     "data": {
      "text/html": [
       "<div>\n",
       "<style scoped>\n",
       "    .dataframe tbody tr th:only-of-type {\n",
       "        vertical-align: middle;\n",
       "    }\n",
       "\n",
       "    .dataframe tbody tr th {\n",
       "        vertical-align: top;\n",
       "    }\n",
       "\n",
       "    .dataframe thead th {\n",
       "        text-align: right;\n",
       "    }\n",
       "</style>\n",
       "<table border=\"1\" class=\"dataframe\">\n",
       "  <thead>\n",
       "    <tr style=\"text-align: right;\">\n",
       "      <th></th>\n",
       "      <th>beer_id</th>\n",
       "      <th>username</th>\n",
       "      <th>date</th>\n",
       "      <th>text</th>\n",
       "      <th>look</th>\n",
       "      <th>smell</th>\n",
       "      <th>taste</th>\n",
       "      <th>feel</th>\n",
       "      <th>overall</th>\n",
       "      <th>score</th>\n",
       "    </tr>\n",
       "  </thead>\n",
       "  <tbody>\n",
       "    <tr>\n",
       "      <td>0</td>\n",
       "      <td>271781</td>\n",
       "      <td>bluejacket74</td>\n",
       "      <td>2017-03-17</td>\n",
       "      <td>750 ml bottle, 2016 vintage, bottle #304 of...</td>\n",
       "      <td>4.0</td>\n",
       "      <td>4.0</td>\n",
       "      <td>4.0</td>\n",
       "      <td>4.25</td>\n",
       "      <td>4.0</td>\n",
       "      <td>4.03</td>\n",
       "    </tr>\n",
       "    <tr>\n",
       "      <td>1</td>\n",
       "      <td>125646</td>\n",
       "      <td>_dirty_</td>\n",
       "      <td>2017-12-21</td>\n",
       "      <td></td>\n",
       "      <td>4.5</td>\n",
       "      <td>4.5</td>\n",
       "      <td>4.5</td>\n",
       "      <td>4.50</td>\n",
       "      <td>4.5</td>\n",
       "      <td>4.50</td>\n",
       "    </tr>\n",
       "  </tbody>\n",
       "</table>\n",
       "</div>"
      ],
      "text/plain": [
       "   beer_id      username        date  \\\n",
       "0   271781  bluejacket74  2017-03-17   \n",
       "1   125646       _dirty_  2017-12-21   \n",
       "\n",
       "                                                text  look  smell  taste  \\\n",
       "0     750 ml bottle, 2016 vintage, bottle #304 of...   4.0    4.0    4.0   \n",
       "1                                                      4.5    4.5    4.5   \n",
       "\n",
       "   feel  overall  score  \n",
       "0  4.25      4.0   4.03  \n",
       "1  4.50      4.5   4.50  "
      ]
     },
     "execution_count": 14,
     "metadata": {},
     "output_type": "execute_result"
    }
   ],
   "source": [
    "reviews.head(2)"
   ]
  },
  {
   "cell_type": "markdown",
   "metadata": {},
   "source": [
    "---\n",
    "# Raw data to decent json"
   ]
  },
  {
   "cell_type": "code",
   "execution_count": 65,
   "metadata": {},
   "outputs": [],
   "source": [
    "beer_and_breweries.set_index(\"id\").to_json(\"../data/raw_data.json\",orient='records')"
   ]
  },
  {
   "cell_type": "code",
   "execution_count": 67,
   "metadata": {},
   "outputs": [],
   "source": [
    "bpc = beer_and_breweries.groupby(\"country\").apply(lambda x: x.to_json(orient='records'))\n",
    "bpc.to_json(\"../data/raw_data_per_c.json\",orient=\"index\")"
   ]
  },
  {
   "cell_type": "markdown",
   "metadata": {},
   "source": [
    "---\n",
    "# Infos per country"
   ]
  },
  {
   "cell_type": "code",
   "execution_count": 38,
   "metadata": {},
   "outputs": [
    {
     "data": {
      "text/plain": [
       "187"
      ]
     },
     "execution_count": 38,
     "metadata": {},
     "output_type": "execute_result"
    }
   ],
   "source": [
    "countries = beer_and_breweries[[\"country\"]].drop_duplicates()\n",
    "len(countries)"
   ]
  },
  {
   "cell_type": "markdown",
   "metadata": {},
   "source": [
    "### nb_of_beers"
   ]
  },
  {
   "cell_type": "code",
   "execution_count": 39,
   "metadata": {},
   "outputs": [
    {
     "data": {
      "text/html": [
       "<div>\n",
       "<style scoped>\n",
       "    .dataframe tbody tr th:only-of-type {\n",
       "        vertical-align: middle;\n",
       "    }\n",
       "\n",
       "    .dataframe tbody tr th {\n",
       "        vertical-align: top;\n",
       "    }\n",
       "\n",
       "    .dataframe thead th {\n",
       "        text-align: right;\n",
       "    }\n",
       "</style>\n",
       "<table border=\"1\" class=\"dataframe\">\n",
       "  <thead>\n",
       "    <tr style=\"text-align: right;\">\n",
       "      <th></th>\n",
       "      <th>country</th>\n",
       "      <th>N_beer</th>\n",
       "    </tr>\n",
       "  </thead>\n",
       "  <tbody>\n",
       "    <tr>\n",
       "      <th>0</th>\n",
       "      <td>US</td>\n",
       "      <td>231940.0</td>\n",
       "    </tr>\n",
       "    <tr>\n",
       "      <th>1</th>\n",
       "      <td>NO</td>\n",
       "      <td>1095.0</td>\n",
       "    </tr>\n",
       "    <tr>\n",
       "      <th>2</th>\n",
       "      <td>JP</td>\n",
       "      <td>1582.0</td>\n",
       "    </tr>\n",
       "    <tr>\n",
       "      <th>3</th>\n",
       "      <td>IT</td>\n",
       "      <td>2523.0</td>\n",
       "    </tr>\n",
       "    <tr>\n",
       "      <th>4</th>\n",
       "      <td>CA</td>\n",
       "      <td>20053.0</td>\n",
       "    </tr>\n",
       "  </tbody>\n",
       "</table>\n",
       "</div>"
      ],
      "text/plain": [
       "  country    N_beer\n",
       "0      US  231940.0\n",
       "1      NO    1095.0\n",
       "2      JP    1582.0\n",
       "3      IT    2523.0\n",
       "4      CA   20053.0"
      ]
     },
     "execution_count": 39,
     "metadata": {},
     "output_type": "execute_result"
    }
   ],
   "source": [
    "temp = beer_and_breweries[[\"country\",\"id\"]].groupby(\"country\").count()\n",
    "temp.rename(columns={'id':'N_beer'},inplace=True)\n",
    "countries = pd.merge(countries,temp,how='left',left_on='country',right_on='country')\n",
    "del temp\n",
    "countries.head()"
   ]
  },
  {
   "cell_type": "markdown",
   "metadata": {},
   "source": [
    "### Average abv/beer"
   ]
  },
  {
   "cell_type": "code",
   "execution_count": 40,
   "metadata": {
    "scrolled": true
   },
   "outputs": [
    {
     "data": {
      "text/html": [
       "<div>\n",
       "<style scoped>\n",
       "    .dataframe tbody tr th:only-of-type {\n",
       "        vertical-align: middle;\n",
       "    }\n",
       "\n",
       "    .dataframe tbody tr th {\n",
       "        vertical-align: top;\n",
       "    }\n",
       "\n",
       "    .dataframe thead th {\n",
       "        text-align: right;\n",
       "    }\n",
       "</style>\n",
       "<table border=\"1\" class=\"dataframe\">\n",
       "  <thead>\n",
       "    <tr style=\"text-align: right;\">\n",
       "      <th></th>\n",
       "      <th>avg_abv</th>\n",
       "    </tr>\n",
       "    <tr>\n",
       "      <th>country</th>\n",
       "      <th></th>\n",
       "    </tr>\n",
       "  </thead>\n",
       "  <tbody>\n",
       "    <tr>\n",
       "      <th>AD</th>\n",
       "      <td>6.188889</td>\n",
       "    </tr>\n",
       "    <tr>\n",
       "      <th>AE</th>\n",
       "      <td>4.690000</td>\n",
       "    </tr>\n",
       "    <tr>\n",
       "      <th>AG</th>\n",
       "      <td>5.200000</td>\n",
       "    </tr>\n",
       "    <tr>\n",
       "      <th>AL</th>\n",
       "      <td>4.700000</td>\n",
       "    </tr>\n",
       "    <tr>\n",
       "      <th>AM</th>\n",
       "      <td>5.087500</td>\n",
       "    </tr>\n",
       "  </tbody>\n",
       "</table>\n",
       "</div>"
      ],
      "text/plain": [
       "          avg_abv\n",
       "country          \n",
       "AD       6.188889\n",
       "AE       4.690000\n",
       "AG       5.200000\n",
       "AL       4.700000\n",
       "AM       5.087500"
      ]
     },
     "execution_count": 40,
     "metadata": {},
     "output_type": "execute_result"
    }
   ],
   "source": [
    "temp = beer_and_breweries[[\"country\",\"abv\"]].groupby(\"country\").mean()\n",
    "temp.rename(columns={'abv':'avg_abv'},inplace=True)\n",
    "temp.head()"
   ]
  },
  {
   "cell_type": "code",
   "execution_count": 41,
   "metadata": {
    "scrolled": false
   },
   "outputs": [
    {
     "data": {
      "text/html": [
       "<div>\n",
       "<style scoped>\n",
       "    .dataframe tbody tr th:only-of-type {\n",
       "        vertical-align: middle;\n",
       "    }\n",
       "\n",
       "    .dataframe tbody tr th {\n",
       "        vertical-align: top;\n",
       "    }\n",
       "\n",
       "    .dataframe thead th {\n",
       "        text-align: right;\n",
       "    }\n",
       "</style>\n",
       "<table border=\"1\" class=\"dataframe\">\n",
       "  <thead>\n",
       "    <tr style=\"text-align: right;\">\n",
       "      <th></th>\n",
       "      <th>country</th>\n",
       "      <th>N_beer</th>\n",
       "      <th>avg_abv</th>\n",
       "    </tr>\n",
       "  </thead>\n",
       "  <tbody>\n",
       "    <tr>\n",
       "      <th>0</th>\n",
       "      <td>US</td>\n",
       "      <td>231940.0</td>\n",
       "      <td>6.721202</td>\n",
       "    </tr>\n",
       "    <tr>\n",
       "      <th>1</th>\n",
       "      <td>NO</td>\n",
       "      <td>1095.0</td>\n",
       "      <td>6.403205</td>\n",
       "    </tr>\n",
       "    <tr>\n",
       "      <th>2</th>\n",
       "      <td>JP</td>\n",
       "      <td>1582.0</td>\n",
       "      <td>5.682332</td>\n",
       "    </tr>\n",
       "    <tr>\n",
       "      <th>3</th>\n",
       "      <td>IT</td>\n",
       "      <td>2523.0</td>\n",
       "      <td>6.400460</td>\n",
       "    </tr>\n",
       "    <tr>\n",
       "      <th>4</th>\n",
       "      <td>CA</td>\n",
       "      <td>20053.0</td>\n",
       "      <td>6.096917</td>\n",
       "    </tr>\n",
       "  </tbody>\n",
       "</table>\n",
       "</div>"
      ],
      "text/plain": [
       "  country    N_beer   avg_abv\n",
       "0      US  231940.0  6.721202\n",
       "1      NO    1095.0  6.403205\n",
       "2      JP    1582.0  5.682332\n",
       "3      IT    2523.0  6.400460\n",
       "4      CA   20053.0  6.096917"
      ]
     },
     "execution_count": 41,
     "metadata": {},
     "output_type": "execute_result"
    }
   ],
   "source": [
    "countries = pd.merge(countries,temp,how='left',left_on='country',right_on='country')\n",
    "del temp\n",
    "countries.head()"
   ]
  },
  {
   "cell_type": "markdown",
   "metadata": {},
   "source": [
    "### median abv"
   ]
  },
  {
   "cell_type": "code",
   "execution_count": 42,
   "metadata": {
    "scrolled": true
   },
   "outputs": [
    {
     "data": {
      "text/html": [
       "<div>\n",
       "<style scoped>\n",
       "    .dataframe tbody tr th:only-of-type {\n",
       "        vertical-align: middle;\n",
       "    }\n",
       "\n",
       "    .dataframe tbody tr th {\n",
       "        vertical-align: top;\n",
       "    }\n",
       "\n",
       "    .dataframe thead th {\n",
       "        text-align: right;\n",
       "    }\n",
       "</style>\n",
       "<table border=\"1\" class=\"dataframe\">\n",
       "  <thead>\n",
       "    <tr style=\"text-align: right;\">\n",
       "      <th></th>\n",
       "      <th>median_abv</th>\n",
       "    </tr>\n",
       "    <tr>\n",
       "      <th>country</th>\n",
       "      <th></th>\n",
       "    </tr>\n",
       "  </thead>\n",
       "  <tbody>\n",
       "    <tr>\n",
       "      <th>AD</th>\n",
       "      <td>5.60</td>\n",
       "    </tr>\n",
       "    <tr>\n",
       "      <th>AE</th>\n",
       "      <td>4.69</td>\n",
       "    </tr>\n",
       "    <tr>\n",
       "      <th>AG</th>\n",
       "      <td>5.20</td>\n",
       "    </tr>\n",
       "    <tr>\n",
       "      <th>AL</th>\n",
       "      <td>4.30</td>\n",
       "    </tr>\n",
       "    <tr>\n",
       "      <th>AM</th>\n",
       "      <td>4.85</td>\n",
       "    </tr>\n",
       "  </tbody>\n",
       "</table>\n",
       "</div>"
      ],
      "text/plain": [
       "         median_abv\n",
       "country            \n",
       "AD             5.60\n",
       "AE             4.69\n",
       "AG             5.20\n",
       "AL             4.30\n",
       "AM             4.85"
      ]
     },
     "execution_count": 42,
     "metadata": {},
     "output_type": "execute_result"
    }
   ],
   "source": [
    "temp = beer_and_breweries[[\"country\",\"abv\"]].groupby(\"country\").median()\n",
    "temp.rename(columns={'abv':'median_abv'},inplace=True)\n",
    "temp.head()"
   ]
  },
  {
   "cell_type": "code",
   "execution_count": 43,
   "metadata": {
    "scrolled": false
   },
   "outputs": [
    {
     "data": {
      "text/html": [
       "<div>\n",
       "<style scoped>\n",
       "    .dataframe tbody tr th:only-of-type {\n",
       "        vertical-align: middle;\n",
       "    }\n",
       "\n",
       "    .dataframe tbody tr th {\n",
       "        vertical-align: top;\n",
       "    }\n",
       "\n",
       "    .dataframe thead th {\n",
       "        text-align: right;\n",
       "    }\n",
       "</style>\n",
       "<table border=\"1\" class=\"dataframe\">\n",
       "  <thead>\n",
       "    <tr style=\"text-align: right;\">\n",
       "      <th></th>\n",
       "      <th>country</th>\n",
       "      <th>N_beer</th>\n",
       "      <th>avg_abv</th>\n",
       "      <th>median_abv</th>\n",
       "    </tr>\n",
       "  </thead>\n",
       "  <tbody>\n",
       "    <tr>\n",
       "      <th>0</th>\n",
       "      <td>US</td>\n",
       "      <td>231940.0</td>\n",
       "      <td>6.721202</td>\n",
       "      <td>6.3</td>\n",
       "    </tr>\n",
       "    <tr>\n",
       "      <th>1</th>\n",
       "      <td>NO</td>\n",
       "      <td>1095.0</td>\n",
       "      <td>6.403205</td>\n",
       "      <td>6.0</td>\n",
       "    </tr>\n",
       "    <tr>\n",
       "      <th>2</th>\n",
       "      <td>JP</td>\n",
       "      <td>1582.0</td>\n",
       "      <td>5.682332</td>\n",
       "      <td>5.0</td>\n",
       "    </tr>\n",
       "    <tr>\n",
       "      <th>3</th>\n",
       "      <td>IT</td>\n",
       "      <td>2523.0</td>\n",
       "      <td>6.400460</td>\n",
       "      <td>6.0</td>\n",
       "    </tr>\n",
       "    <tr>\n",
       "      <th>4</th>\n",
       "      <td>CA</td>\n",
       "      <td>20053.0</td>\n",
       "      <td>6.096917</td>\n",
       "      <td>5.6</td>\n",
       "    </tr>\n",
       "  </tbody>\n",
       "</table>\n",
       "</div>"
      ],
      "text/plain": [
       "  country    N_beer   avg_abv  median_abv\n",
       "0      US  231940.0  6.721202         6.3\n",
       "1      NO    1095.0  6.403205         6.0\n",
       "2      JP    1582.0  5.682332         5.0\n",
       "3      IT    2523.0  6.400460         6.0\n",
       "4      CA   20053.0  6.096917         5.6"
      ]
     },
     "execution_count": 43,
     "metadata": {},
     "output_type": "execute_result"
    }
   ],
   "source": [
    "countries = pd.merge(countries,temp,how='left',left_on='country',right_on='country')\n",
    "del temp\n",
    "countries.head()"
   ]
  },
  {
   "cell_type": "markdown",
   "metadata": {},
   "source": [
    "### most abv"
   ]
  },
  {
   "cell_type": "code",
   "execution_count": 44,
   "metadata": {},
   "outputs": [
    {
     "data": {
      "text/html": [
       "<div>\n",
       "<style scoped>\n",
       "    .dataframe tbody tr th:only-of-type {\n",
       "        vertical-align: middle;\n",
       "    }\n",
       "\n",
       "    .dataframe tbody tr th {\n",
       "        vertical-align: top;\n",
       "    }\n",
       "\n",
       "    .dataframe thead th {\n",
       "        text-align: right;\n",
       "    }\n",
       "</style>\n",
       "<table border=\"1\" class=\"dataframe\">\n",
       "  <thead>\n",
       "    <tr style=\"text-align: right;\">\n",
       "      <th></th>\n",
       "      <th>max_abv</th>\n",
       "    </tr>\n",
       "    <tr>\n",
       "      <th>country</th>\n",
       "      <th></th>\n",
       "    </tr>\n",
       "  </thead>\n",
       "  <tbody>\n",
       "    <tr>\n",
       "      <th>AD</th>\n",
       "      <td>8.50</td>\n",
       "    </tr>\n",
       "    <tr>\n",
       "      <th>AE</th>\n",
       "      <td>4.69</td>\n",
       "    </tr>\n",
       "    <tr>\n",
       "      <th>AG</th>\n",
       "      <td>5.60</td>\n",
       "    </tr>\n",
       "    <tr>\n",
       "      <th>AL</th>\n",
       "      <td>6.50</td>\n",
       "    </tr>\n",
       "    <tr>\n",
       "      <th>AM</th>\n",
       "      <td>8.50</td>\n",
       "    </tr>\n",
       "  </tbody>\n",
       "</table>\n",
       "</div>"
      ],
      "text/plain": [
       "         max_abv\n",
       "country         \n",
       "AD          8.50\n",
       "AE          4.69\n",
       "AG          5.60\n",
       "AL          6.50\n",
       "AM          8.50"
      ]
     },
     "execution_count": 44,
     "metadata": {},
     "output_type": "execute_result"
    }
   ],
   "source": [
    "temp = beer_and_breweries[[\"country\",\"abv\"]].groupby(\"country\").max()\n",
    "temp.rename(columns={'abv':'max_abv'},inplace=True)\n",
    "temp.head()"
   ]
  },
  {
   "cell_type": "code",
   "execution_count": 45,
   "metadata": {},
   "outputs": [
    {
     "data": {
      "text/html": [
       "<div>\n",
       "<style scoped>\n",
       "    .dataframe tbody tr th:only-of-type {\n",
       "        vertical-align: middle;\n",
       "    }\n",
       "\n",
       "    .dataframe tbody tr th {\n",
       "        vertical-align: top;\n",
       "    }\n",
       "\n",
       "    .dataframe thead th {\n",
       "        text-align: right;\n",
       "    }\n",
       "</style>\n",
       "<table border=\"1\" class=\"dataframe\">\n",
       "  <thead>\n",
       "    <tr style=\"text-align: right;\">\n",
       "      <th></th>\n",
       "      <th>country</th>\n",
       "      <th>N_beer</th>\n",
       "      <th>avg_abv</th>\n",
       "      <th>median_abv</th>\n",
       "      <th>max_abv</th>\n",
       "    </tr>\n",
       "  </thead>\n",
       "  <tbody>\n",
       "    <tr>\n",
       "      <th>0</th>\n",
       "      <td>US</td>\n",
       "      <td>231940.0</td>\n",
       "      <td>6.721202</td>\n",
       "      <td>6.3</td>\n",
       "      <td>56.0</td>\n",
       "    </tr>\n",
       "    <tr>\n",
       "      <th>1</th>\n",
       "      <td>NO</td>\n",
       "      <td>1095.0</td>\n",
       "      <td>6.403205</td>\n",
       "      <td>6.0</td>\n",
       "      <td>20.0</td>\n",
       "    </tr>\n",
       "    <tr>\n",
       "      <th>2</th>\n",
       "      <td>JP</td>\n",
       "      <td>1582.0</td>\n",
       "      <td>5.682332</td>\n",
       "      <td>5.0</td>\n",
       "      <td>15.0</td>\n",
       "    </tr>\n",
       "    <tr>\n",
       "      <th>3</th>\n",
       "      <td>IT</td>\n",
       "      <td>2523.0</td>\n",
       "      <td>6.400460</td>\n",
       "      <td>6.0</td>\n",
       "      <td>16.0</td>\n",
       "    </tr>\n",
       "    <tr>\n",
       "      <th>4</th>\n",
       "      <td>CA</td>\n",
       "      <td>20053.0</td>\n",
       "      <td>6.096917</td>\n",
       "      <td>5.6</td>\n",
       "      <td>66.0</td>\n",
       "    </tr>\n",
       "  </tbody>\n",
       "</table>\n",
       "</div>"
      ],
      "text/plain": [
       "  country    N_beer   avg_abv  median_abv  max_abv\n",
       "0      US  231940.0  6.721202         6.3     56.0\n",
       "1      NO    1095.0  6.403205         6.0     20.0\n",
       "2      JP    1582.0  5.682332         5.0     15.0\n",
       "3      IT    2523.0  6.400460         6.0     16.0\n",
       "4      CA   20053.0  6.096917         5.6     66.0"
      ]
     },
     "execution_count": 45,
     "metadata": {},
     "output_type": "execute_result"
    }
   ],
   "source": [
    "countries = pd.merge(countries,temp,how='left',left_on='country',right_on='country')\n",
    "del temp\n",
    "countries.head()"
   ]
  },
  {
   "cell_type": "markdown",
   "metadata": {},
   "source": [
    "### number of breweries"
   ]
  },
  {
   "cell_type": "code",
   "execution_count": 54,
   "metadata": {},
   "outputs": [
    {
     "data": {
      "text/html": [
       "<div>\n",
       "<style scoped>\n",
       "    .dataframe tbody tr th:only-of-type {\n",
       "        vertical-align: middle;\n",
       "    }\n",
       "\n",
       "    .dataframe tbody tr th {\n",
       "        vertical-align: top;\n",
       "    }\n",
       "\n",
       "    .dataframe thead th {\n",
       "        text-align: right;\n",
       "    }\n",
       "</style>\n",
       "<table border=\"1\" class=\"dataframe\">\n",
       "  <thead>\n",
       "    <tr style=\"text-align: right;\">\n",
       "      <th></th>\n",
       "      <th>n_brewery</th>\n",
       "    </tr>\n",
       "    <tr>\n",
       "      <th>country</th>\n",
       "      <th></th>\n",
       "    </tr>\n",
       "  </thead>\n",
       "  <tbody>\n",
       "    <tr>\n",
       "      <th>AD</th>\n",
       "      <td>1</td>\n",
       "    </tr>\n",
       "    <tr>\n",
       "      <th>AE</th>\n",
       "      <td>1</td>\n",
       "    </tr>\n",
       "    <tr>\n",
       "      <th>AG</th>\n",
       "      <td>1</td>\n",
       "    </tr>\n",
       "    <tr>\n",
       "      <th>AL</th>\n",
       "      <td>7</td>\n",
       "    </tr>\n",
       "    <tr>\n",
       "      <th>AM</th>\n",
       "      <td>4</td>\n",
       "    </tr>\n",
       "  </tbody>\n",
       "</table>\n",
       "</div>"
      ],
      "text/plain": [
       "         n_brewery\n",
       "country           \n",
       "AD               1\n",
       "AE               1\n",
       "AG               1\n",
       "AL               7\n",
       "AM               4"
      ]
     },
     "execution_count": 54,
     "metadata": {},
     "output_type": "execute_result"
    }
   ],
   "source": [
    "temp = beer_and_breweries[[\"country\",\"brewery\"]].groupby(\"country\").nunique()[[\"brewery\"]]\n",
    "temp.rename(columns={'brewery':'n_brewery'},inplace=True)\n",
    "temp.head()"
   ]
  },
  {
   "cell_type": "code",
   "execution_count": 55,
   "metadata": {},
   "outputs": [
    {
     "data": {
      "text/html": [
       "<div>\n",
       "<style scoped>\n",
       "    .dataframe tbody tr th:only-of-type {\n",
       "        vertical-align: middle;\n",
       "    }\n",
       "\n",
       "    .dataframe tbody tr th {\n",
       "        vertical-align: top;\n",
       "    }\n",
       "\n",
       "    .dataframe thead th {\n",
       "        text-align: right;\n",
       "    }\n",
       "</style>\n",
       "<table border=\"1\" class=\"dataframe\">\n",
       "  <thead>\n",
       "    <tr style=\"text-align: right;\">\n",
       "      <th></th>\n",
       "      <th>country</th>\n",
       "      <th>N_beer</th>\n",
       "      <th>avg_abv</th>\n",
       "      <th>median_abv</th>\n",
       "      <th>max_abv</th>\n",
       "      <th>n_brewery</th>\n",
       "    </tr>\n",
       "  </thead>\n",
       "  <tbody>\n",
       "    <tr>\n",
       "      <th>0</th>\n",
       "      <td>US</td>\n",
       "      <td>231940.0</td>\n",
       "      <td>6.721202</td>\n",
       "      <td>6.3</td>\n",
       "      <td>56.0</td>\n",
       "      <td>7338.0</td>\n",
       "    </tr>\n",
       "    <tr>\n",
       "      <th>1</th>\n",
       "      <td>NO</td>\n",
       "      <td>1095.0</td>\n",
       "      <td>6.403205</td>\n",
       "      <td>6.0</td>\n",
       "      <td>20.0</td>\n",
       "      <td>77.0</td>\n",
       "    </tr>\n",
       "    <tr>\n",
       "      <th>2</th>\n",
       "      <td>JP</td>\n",
       "      <td>1582.0</td>\n",
       "      <td>5.682332</td>\n",
       "      <td>5.0</td>\n",
       "      <td>15.0</td>\n",
       "      <td>164.0</td>\n",
       "    </tr>\n",
       "    <tr>\n",
       "      <th>3</th>\n",
       "      <td>IT</td>\n",
       "      <td>2523.0</td>\n",
       "      <td>6.400460</td>\n",
       "      <td>6.0</td>\n",
       "      <td>16.0</td>\n",
       "      <td>367.0</td>\n",
       "    </tr>\n",
       "    <tr>\n",
       "      <th>4</th>\n",
       "      <td>CA</td>\n",
       "      <td>20053.0</td>\n",
       "      <td>6.096917</td>\n",
       "      <td>5.6</td>\n",
       "      <td>66.0</td>\n",
       "      <td>940.0</td>\n",
       "    </tr>\n",
       "  </tbody>\n",
       "</table>\n",
       "</div>"
      ],
      "text/plain": [
       "  country    N_beer   avg_abv  median_abv  max_abv  n_brewery\n",
       "0      US  231940.0  6.721202         6.3     56.0     7338.0\n",
       "1      NO    1095.0  6.403205         6.0     20.0       77.0\n",
       "2      JP    1582.0  5.682332         5.0     15.0      164.0\n",
       "3      IT    2523.0  6.400460         6.0     16.0      367.0\n",
       "4      CA   20053.0  6.096917         5.6     66.0      940.0"
      ]
     },
     "execution_count": 55,
     "metadata": {},
     "output_type": "execute_result"
    }
   ],
   "source": [
    "countries = pd.merge(countries,temp,how='left',left_on='country',right_on='country')\n",
    "del temp\n",
    "countries.head()"
   ]
  },
  {
   "cell_type": "markdown",
   "metadata": {},
   "source": [
    "## Saving to csv and json"
   ]
  },
  {
   "cell_type": "code",
   "execution_count": 60,
   "metadata": {},
   "outputs": [
    {
     "data": {
      "text/html": [
       "<div>\n",
       "<style scoped>\n",
       "    .dataframe tbody tr th:only-of-type {\n",
       "        vertical-align: middle;\n",
       "    }\n",
       "\n",
       "    .dataframe tbody tr th {\n",
       "        vertical-align: top;\n",
       "    }\n",
       "\n",
       "    .dataframe thead th {\n",
       "        text-align: right;\n",
       "    }\n",
       "</style>\n",
       "<table border=\"1\" class=\"dataframe\">\n",
       "  <thead>\n",
       "    <tr style=\"text-align: right;\">\n",
       "      <th></th>\n",
       "      <th>N_beer</th>\n",
       "      <th>avg_abv</th>\n",
       "      <th>median_abv</th>\n",
       "      <th>max_abv</th>\n",
       "      <th>n_brewery</th>\n",
       "    </tr>\n",
       "    <tr>\n",
       "      <th>country</th>\n",
       "      <th></th>\n",
       "      <th></th>\n",
       "      <th></th>\n",
       "      <th></th>\n",
       "      <th></th>\n",
       "    </tr>\n",
       "  </thead>\n",
       "  <tbody>\n",
       "    <tr>\n",
       "      <th>US</th>\n",
       "      <td>231940.0</td>\n",
       "      <td>6.721202</td>\n",
       "      <td>6.3</td>\n",
       "      <td>56.0</td>\n",
       "      <td>7338.0</td>\n",
       "    </tr>\n",
       "    <tr>\n",
       "      <th>NO</th>\n",
       "      <td>1095.0</td>\n",
       "      <td>6.403205</td>\n",
       "      <td>6.0</td>\n",
       "      <td>20.0</td>\n",
       "      <td>77.0</td>\n",
       "    </tr>\n",
       "    <tr>\n",
       "      <th>JP</th>\n",
       "      <td>1582.0</td>\n",
       "      <td>5.682332</td>\n",
       "      <td>5.0</td>\n",
       "      <td>15.0</td>\n",
       "      <td>164.0</td>\n",
       "    </tr>\n",
       "    <tr>\n",
       "      <th>IT</th>\n",
       "      <td>2523.0</td>\n",
       "      <td>6.400460</td>\n",
       "      <td>6.0</td>\n",
       "      <td>16.0</td>\n",
       "      <td>367.0</td>\n",
       "    </tr>\n",
       "    <tr>\n",
       "      <th>CA</th>\n",
       "      <td>20053.0</td>\n",
       "      <td>6.096917</td>\n",
       "      <td>5.6</td>\n",
       "      <td>66.0</td>\n",
       "      <td>940.0</td>\n",
       "    </tr>\n",
       "  </tbody>\n",
       "</table>\n",
       "</div>"
      ],
      "text/plain": [
       "           N_beer   avg_abv  median_abv  max_abv  n_brewery\n",
       "country                                                    \n",
       "US       231940.0  6.721202         6.3     56.0     7338.0\n",
       "NO         1095.0  6.403205         6.0     20.0       77.0\n",
       "JP         1582.0  5.682332         5.0     15.0      164.0\n",
       "IT         2523.0  6.400460         6.0     16.0      367.0\n",
       "CA        20053.0  6.096917         5.6     66.0      940.0"
      ]
     },
     "execution_count": 60,
     "metadata": {},
     "output_type": "execute_result"
    }
   ],
   "source": [
    "countries=countries.set_index(\"country\")\n",
    "countries.head()"
   ]
  },
  {
   "cell_type": "code",
   "execution_count": 61,
   "metadata": {},
   "outputs": [],
   "source": [
    "countries.to_csv(r\"../data/countries_basic_data.csv\")"
   ]
  },
  {
   "cell_type": "code",
   "execution_count": 63,
   "metadata": {},
   "outputs": [],
   "source": [
    "\n",
    "countries.to_json(r\"../data/countries_basic_data.json\",orient='index')"
   ]
  },
  {
   "cell_type": "markdown",
   "metadata": {},
   "source": [
    "---\n",
    "# Infos per city"
   ]
  },
  {
   "cell_type": "code",
   "execution_count": null,
   "metadata": {},
   "outputs": [],
   "source": []
  },
  {
   "cell_type": "code",
   "execution_count": null,
   "metadata": {},
   "outputs": [],
   "source": []
  },
  {
   "cell_type": "markdown",
   "metadata": {},
   "source": [
    "---\n",
    "# Draft"
   ]
  },
  {
   "cell_type": "code",
   "execution_count": 37,
   "metadata": {},
   "outputs": [
    {
     "data": {
      "text/plain": [
       "id                              104620\n",
       "beer                       Snake Venom\n",
       "style               British Barleywine\n",
       "availability     Limited (brewed once)\n",
       "abv                               67.5\n",
       "retired                              t\n",
       "brewery                    Brewmeister\n",
       "city                            Aboyne\n",
       "country                             GB\n",
       "types                          Brewery\n",
       "Name: 325099, dtype: object"
      ]
     },
     "execution_count": 37,
     "metadata": {},
     "output_type": "execute_result"
    }
   ],
   "source": [
    "beer_and_breweries.loc[beer_and_breweries[\"abv\"].idxmax()]"
   ]
  },
  {
   "cell_type": "markdown",
   "metadata": {},
   "source": [
    "## Beer types"
   ]
  },
  {
   "cell_type": "code",
   "execution_count": 16,
   "metadata": {},
   "outputs": [
    {
     "data": {
      "text/plain": [
       "Index(['id', 'beer', 'style', 'availability', 'abv', 'retired', 'brewery',\n",
       "       'city', 'country', 'types'],\n",
       "      dtype='object')"
      ]
     },
     "execution_count": 16,
     "metadata": {},
     "output_type": "execute_result"
    }
   ],
   "source": [
    "beer_and_breweries.columns"
   ]
  },
  {
   "cell_type": "code",
   "execution_count": 23,
   "metadata": {},
   "outputs": [],
   "source": [
    "beer_types = beer_and_breweries[['style','id']].groupby('style').agg('count').reset_index()"
   ]
  },
  {
   "cell_type": "code",
   "execution_count": 59,
   "metadata": {},
   "outputs": [],
   "source": [
    "IPA = beer_types[beer_types['style'].str.contains('IPA')]"
   ]
  },
  {
   "cell_type": "code",
   "execution_count": 136,
   "metadata": {},
   "outputs": [],
   "source": [
    "Lager = beer_types[(beer_types['style'].str.contains('Lager'))]"
   ]
  },
  {
   "cell_type": "code",
   "execution_count": 137,
   "metadata": {},
   "outputs": [],
   "source": [
    "Ale = beer_types[(beer_types['style'].str.contains('Ale')) | (beer_types['style'].str.contains('Gose'))]"
   ]
  },
  {
   "cell_type": "code",
   "execution_count": 138,
   "metadata": {},
   "outputs": [],
   "source": [
    "Stout = beer_types[(beer_types['style'].str.contains('Stout'))]"
   ]
  },
  {
   "cell_type": "code",
   "execution_count": 139,
   "metadata": {},
   "outputs": [],
   "source": [
    "Pilsner = beer_types[beer_types['style'].str.contains('Pils')]"
   ]
  },
  {
   "cell_type": "code",
   "execution_count": 140,
   "metadata": {},
   "outputs": [],
   "source": [
    "Porter = beer_types[beer_types['style'].str.contains('Porter')]"
   ]
  },
  {
   "cell_type": "code",
   "execution_count": 141,
   "metadata": {},
   "outputs": [],
   "source": [
    "Fruit = beer_types[beer_types['style'].str.contains('Fruit')]"
   ]
  },
  {
   "cell_type": "code",
   "execution_count": 142,
   "metadata": {},
   "outputs": [],
   "source": [
    "Roggenbier = beer_types[(beer_types['style'].str.contains('Roggen'))|(beer_types['style'].str.contains('Rye'))]"
   ]
  },
  {
   "cell_type": "code",
   "execution_count": 143,
   "metadata": {},
   "outputs": [],
   "source": [
    "Herb = beer_types[(beer_types['style'].str.contains('Herb'))]"
   ]
  },
  {
   "cell_type": "code",
   "execution_count": 144,
   "metadata": {},
   "outputs": [],
   "source": [
    "Smoke = beer_types[(beer_types['style'].str.contains('Smoke'))]"
   ]
  },
  {
   "cell_type": "code",
   "execution_count": 149,
   "metadata": {},
   "outputs": [],
   "source": [
    "Barleywine=beer_types[(beer_types['style'].str.contains('Barleywine'))]"
   ]
  },
  {
   "cell_type": "code",
   "execution_count": 52,
   "metadata": {},
   "outputs": [
    {
     "data": {
      "text/plain": [
       "['American Adjunct Lager',\n",
       " 'American Amber / Red Ale',\n",
       " 'American Amber / Red Lager',\n",
       " 'American Barleywine',\n",
       " 'American Black Ale',\n",
       " 'American Blonde Ale',\n",
       " 'American Brett',\n",
       " 'American Brown Ale',\n",
       " 'American Brut IPA',\n",
       " 'American Cream Ale',\n",
       " 'American Dark Wheat Ale',\n",
       " 'American IPA',\n",
       " 'American Imperial IPA',\n",
       " 'American Imperial Pilsner',\n",
       " 'American Imperial Porter',\n",
       " 'American Imperial Red Ale',\n",
       " 'American Imperial Stout',\n",
       " 'American Lager',\n",
       " 'American Light Lager',\n",
       " 'American Malt Liquor',\n",
       " 'American Pale Ale (APA)',\n",
       " 'American Pale Wheat Ale',\n",
       " 'American Porter',\n",
       " 'American Stout',\n",
       " 'American Strong Ale',\n",
       " 'American Wheatwine Ale',\n",
       " 'American Wild Ale',\n",
       " 'Baltic Porter',\n",
       " 'Belgian Blonde Ale',\n",
       " 'Belgian Dark Ale',\n",
       " 'Belgian Dubbel',\n",
       " 'Belgian Faro',\n",
       " 'Belgian Fruit Lambic',\n",
       " 'Belgian Gueuze',\n",
       " 'Belgian IPA',\n",
       " 'Belgian Lambic',\n",
       " 'Belgian Pale Ale',\n",
       " 'Belgian Quadrupel (Quad)',\n",
       " 'Belgian Saison',\n",
       " 'Belgian Strong Dark Ale',\n",
       " 'Belgian Strong Pale Ale',\n",
       " 'Belgian Tripel',\n",
       " 'Belgian Witbier',\n",
       " 'Berliner Weisse',\n",
       " 'Bière de Champagne / Bière Brut',\n",
       " 'Bohemian Pilsener',\n",
       " 'Braggot',\n",
       " 'British Barleywine',\n",
       " 'California Common / Steam Beer',\n",
       " 'Chile Beer',\n",
       " 'English Bitter',\n",
       " 'English Brown Ale',\n",
       " 'English Dark Mild Ale',\n",
       " 'English Extra Special / Strong Bitter (ESB)',\n",
       " 'English India Pale Ale (IPA)',\n",
       " 'English Oatmeal Stout',\n",
       " 'English Old Ale',\n",
       " 'English Pale Ale',\n",
       " 'English Pale Mild Ale',\n",
       " 'English Porter',\n",
       " 'English Stout',\n",
       " 'English Strong Ale',\n",
       " 'English Sweet / Milk Stout',\n",
       " 'European Dark Lager',\n",
       " 'European Export / Dortmunder',\n",
       " 'European Pale Lager',\n",
       " 'European Strong Lager',\n",
       " 'Finnish Sahti',\n",
       " 'Flanders Oud Bruin',\n",
       " 'Flanders Red Ale',\n",
       " 'Foreign / Export Stout',\n",
       " 'French Bière de Garde',\n",
       " 'Fruit and Field Beer',\n",
       " 'German Altbier',\n",
       " 'German Bock',\n",
       " 'German Doppelbock',\n",
       " 'German Dunkelweizen',\n",
       " 'German Eisbock',\n",
       " 'German Hefeweizen',\n",
       " 'German Helles',\n",
       " 'German Kellerbier / Zwickelbier',\n",
       " 'German Kristalweizen',\n",
       " 'German Kölsch',\n",
       " 'German Maibock',\n",
       " 'German Märzen / Oktoberfest',\n",
       " 'German Pilsner',\n",
       " 'German Rauchbier',\n",
       " 'German Roggenbier',\n",
       " 'German Schwarzbier',\n",
       " 'German Weizenbock',\n",
       " 'Herb and Spice Beer',\n",
       " 'Irish Dry Stout',\n",
       " 'Irish Red Ale',\n",
       " 'Japanese Happoshu',\n",
       " 'Japanese Rice Lager',\n",
       " 'Leipzig Gose',\n",
       " 'Low Alcohol Beer',\n",
       " 'Munich Dunkel Lager',\n",
       " 'New England IPA',\n",
       " 'Pumpkin Beer',\n",
       " 'Robust Porter',\n",
       " 'Russian Imperial Stout',\n",
       " 'Russian Kvass',\n",
       " 'Rye Beer',\n",
       " 'Scotch Ale / Wee Heavy',\n",
       " 'Scottish Ale',\n",
       " 'Scottish Gruit / Ancient Herbed Ale',\n",
       " 'Smoke Beer',\n",
       " 'Smoke Porter',\n",
       " 'Vienna Lager',\n",
       " 'Wild/Sour Beers',\n",
       " 'Winter Warmer']"
      ]
     },
     "execution_count": 52,
     "metadata": {},
     "output_type": "execute_result"
    }
   ],
   "source": [
    "beer_types['style'].to_list()"
   ]
  },
  {
   "cell_type": "code",
   "execution_count": 148,
   "metadata": {},
   "outputs": [
    {
     "data": {
      "text/html": [
       "<div>\n",
       "<style scoped>\n",
       "    .dataframe tbody tr th:only-of-type {\n",
       "        vertical-align: middle;\n",
       "    }\n",
       "\n",
       "    .dataframe tbody tr th {\n",
       "        vertical-align: top;\n",
       "    }\n",
       "\n",
       "    .dataframe thead th {\n",
       "        text-align: right;\n",
       "    }\n",
       "</style>\n",
       "<table border=\"1\" class=\"dataframe\">\n",
       "  <thead>\n",
       "    <tr style=\"text-align: right;\">\n",
       "      <th></th>\n",
       "      <th>style</th>\n",
       "      <th>id</th>\n",
       "    </tr>\n",
       "  </thead>\n",
       "  <tbody>\n",
       "    <tr>\n",
       "      <td>3</td>\n",
       "      <td>American Barleywine</td>\n",
       "      <td>2967</td>\n",
       "    </tr>\n",
       "    <tr>\n",
       "      <td>47</td>\n",
       "      <td>British Barleywine</td>\n",
       "      <td>1442</td>\n",
       "    </tr>\n",
       "  </tbody>\n",
       "</table>\n",
       "</div>"
      ],
      "text/plain": [
       "                  style    id\n",
       "3   American Barleywine  2967\n",
       "47   British Barleywine  1442"
      ]
     },
     "execution_count": 148,
     "metadata": {},
     "output_type": "execute_result"
    }
   ],
   "source": []
  },
  {
   "cell_type": "code",
   "execution_count": null,
   "metadata": {},
   "outputs": [],
   "source": []
  }
 ],
 "metadata": {
  "kernelspec": {
   "display_name": "Python 3",
   "language": "python",
   "name": "python3"
  },
  "language_info": {
   "codemirror_mode": {
    "name": "ipython",
    "version": 3
   },
   "file_extension": ".py",
   "mimetype": "text/x-python",
   "name": "python",
   "nbconvert_exporter": "python",
   "pygments_lexer": "ipython3",
   "version": "3.7.4"
  }
 },
 "nbformat": 4,
 "nbformat_minor": 4
}
