{
 "cells": [
  {
   "cell_type": "markdown",
   "metadata": {},
   "source": [
    "<h1>Load Data</h1>"
   ]
  },
  {
   "cell_type": "code",
   "execution_count": 1,
   "metadata": {},
   "outputs": [],
   "source": [
    "import pandas as pd\n",
    "import numpy as np\n",
    "import math\n",
    "import matplotlib.pyplot as plt"
   ]
  },
  {
   "cell_type": "markdown",
   "metadata": {},
   "source": [
    "### beers and breweries"
   ]
  },
  {
   "cell_type": "code",
   "execution_count": 46,
   "metadata": {},
   "outputs": [],
   "source": [
    "beer_file = r'../data/bigData/beers.csv'\n",
    "breweries_file = r'../data/bigData/breweries.csv'\n",
    "\n",
    "beers = pd.read_csv (beer_file)\n",
    "\n",
    "breweries = pd.read_csv (breweries_file)\n",
    "breweries.rename(columns={'id':'brewery_id'},inplace=True)\n",
    "\n",
    "reviews = pd.read_csv (r\"../data/bigData/reviews.csv\")"
   ]
  },
  {
   "cell_type": "markdown",
   "metadata": {},
   "source": [
    "### long and lat of cities"
   ]
  },
  {
   "cell_type": "code",
   "execution_count": 3,
   "metadata": {},
   "outputs": [],
   "source": [
    "cities_pos_file  = r'lat_long_03-05-2020_19:21.csv' \n",
    "\n",
    "cities_pos = pd.read_csv (cities_pos_file)"
   ]
  },
  {
   "cell_type": "markdown",
   "metadata": {},
   "source": [
    "### join_beer_brewery"
   ]
  },
  {
   "cell_type": "code",
   "execution_count": 4,
   "metadata": {},
   "outputs": [],
   "source": [
    "beer_and_breweries = pd.merge(beers,breweries,on=\"brewery_id\")\n",
    "beer_and_breweries.rename(columns={'name_x':'beer','name_y':'brewery','country_y':'country'},inplace=True)\n",
    "beer_and_breweries = beer_and_breweries[[\"id\",\"beer\",\"style\",\"availability\",\"abv\",\"retired\",\"brewery\",\"city\",\"country\",\"types\"]]\n"
   ]
  },
  {
   "cell_type": "markdown",
   "metadata": {},
   "source": [
    "### cleaning"
   ]
  },
  {
   "cell_type": "code",
   "execution_count": 5,
   "metadata": {},
   "outputs": [],
   "source": [
    "beer_and_breweries = beer_and_breweries[beer_and_breweries[\"abv\"]<70]"
   ]
  },
  {
   "cell_type": "markdown",
   "metadata": {},
   "source": [
    "Delete redondant data"
   ]
  },
  {
   "cell_type": "code",
   "execution_count": 6,
   "metadata": {},
   "outputs": [],
   "source": [
    "del beers\n",
    "del breweries"
   ]
  },
  {
   "cell_type": "markdown",
   "metadata": {},
   "source": [
    "### print data infos"
   ]
  },
  {
   "cell_type": "code",
   "execution_count": 12,
   "metadata": {
    "scrolled": true
   },
   "outputs": [
    {
     "data": {
      "text/html": [
       "<div>\n",
       "<style scoped>\n",
       "    .dataframe tbody tr th:only-of-type {\n",
       "        vertical-align: middle;\n",
       "    }\n",
       "\n",
       "    .dataframe tbody tr th {\n",
       "        vertical-align: top;\n",
       "    }\n",
       "\n",
       "    .dataframe thead th {\n",
       "        text-align: right;\n",
       "    }\n",
       "</style>\n",
       "<table border=\"1\" class=\"dataframe\">\n",
       "  <thead>\n",
       "    <tr style=\"text-align: right;\">\n",
       "      <th></th>\n",
       "      <th>id</th>\n",
       "      <th>beer</th>\n",
       "      <th>style</th>\n",
       "      <th>availability</th>\n",
       "      <th>abv</th>\n",
       "      <th>retired</th>\n",
       "      <th>brewery</th>\n",
       "      <th>city</th>\n",
       "      <th>country</th>\n",
       "      <th>types</th>\n",
       "    </tr>\n",
       "  </thead>\n",
       "  <tbody>\n",
       "    <tr>\n",
       "      <td>0</td>\n",
       "      <td>202522</td>\n",
       "      <td>Olde Cogitator</td>\n",
       "      <td>English Oatmeal Stout</td>\n",
       "      <td>Rotating</td>\n",
       "      <td>7.3</td>\n",
       "      <td>f</td>\n",
       "      <td>Main Street Brewery</td>\n",
       "      <td>Pleasanton</td>\n",
       "      <td>US</td>\n",
       "      <td>Brewery, Bar, Eatery</td>\n",
       "    </tr>\n",
       "    <tr>\n",
       "      <td>1</td>\n",
       "      <td>8677</td>\n",
       "      <td>Red Leaf Strong Ale</td>\n",
       "      <td>American Strong Ale</td>\n",
       "      <td>Year-round</td>\n",
       "      <td>8.6</td>\n",
       "      <td>f</td>\n",
       "      <td>Main Street Brewery</td>\n",
       "      <td>Pleasanton</td>\n",
       "      <td>US</td>\n",
       "      <td>Brewery, Bar, Eatery</td>\n",
       "    </tr>\n",
       "  </tbody>\n",
       "</table>\n",
       "</div>"
      ],
      "text/plain": [
       "       id                 beer                  style availability  abv  \\\n",
       "0  202522       Olde Cogitator  English Oatmeal Stout     Rotating  7.3   \n",
       "1    8677  Red Leaf Strong Ale    American Strong Ale   Year-round  8.6   \n",
       "\n",
       "  retired              brewery        city country                 types  \n",
       "0       f  Main Street Brewery  Pleasanton      US  Brewery, Bar, Eatery  \n",
       "1       f  Main Street Brewery  Pleasanton      US  Brewery, Bar, Eatery  "
      ]
     },
     "execution_count": 12,
     "metadata": {},
     "output_type": "execute_result"
    }
   ],
   "source": [
    "beer_and_breweries.head(2)"
   ]
  },
  {
   "cell_type": "code",
   "execution_count": 13,
   "metadata": {},
   "outputs": [
    {
     "data": {
      "text/html": [
       "<div>\n",
       "<style scoped>\n",
       "    .dataframe tbody tr th:only-of-type {\n",
       "        vertical-align: middle;\n",
       "    }\n",
       "\n",
       "    .dataframe tbody tr th {\n",
       "        vertical-align: top;\n",
       "    }\n",
       "\n",
       "    .dataframe thead th {\n",
       "        text-align: right;\n",
       "    }\n",
       "</style>\n",
       "<table border=\"1\" class=\"dataframe\">\n",
       "  <thead>\n",
       "    <tr style=\"text-align: right;\">\n",
       "      <th></th>\n",
       "      <th>Country</th>\n",
       "      <th>City</th>\n",
       "      <th>lat</th>\n",
       "      <th>long</th>\n",
       "    </tr>\n",
       "  </thead>\n",
       "  <tbody>\n",
       "    <tr>\n",
       "      <td>0</td>\n",
       "      <td>BE</td>\n",
       "      <td>Erpe-Mere</td>\n",
       "      <td>50.93604</td>\n",
       "      <td>4.03550</td>\n",
       "    </tr>\n",
       "    <tr>\n",
       "      <td>1</td>\n",
       "      <td>US</td>\n",
       "      <td>Thousand Palms</td>\n",
       "      <td>33.82002</td>\n",
       "      <td>-116.39029</td>\n",
       "    </tr>\n",
       "  </tbody>\n",
       "</table>\n",
       "</div>"
      ],
      "text/plain": [
       "  Country            City       lat       long\n",
       "0      BE       Erpe-Mere  50.93604    4.03550\n",
       "1      US  Thousand Palms  33.82002 -116.39029"
      ]
     },
     "execution_count": 13,
     "metadata": {},
     "output_type": "execute_result"
    }
   ],
   "source": [
    "cities_pos.head(2)"
   ]
  },
  {
   "cell_type": "code",
   "execution_count": 14,
   "metadata": {},
   "outputs": [
    {
     "data": {
      "text/html": [
       "<div>\n",
       "<style scoped>\n",
       "    .dataframe tbody tr th:only-of-type {\n",
       "        vertical-align: middle;\n",
       "    }\n",
       "\n",
       "    .dataframe tbody tr th {\n",
       "        vertical-align: top;\n",
       "    }\n",
       "\n",
       "    .dataframe thead th {\n",
       "        text-align: right;\n",
       "    }\n",
       "</style>\n",
       "<table border=\"1\" class=\"dataframe\">\n",
       "  <thead>\n",
       "    <tr style=\"text-align: right;\">\n",
       "      <th></th>\n",
       "      <th>beer_id</th>\n",
       "      <th>username</th>\n",
       "      <th>date</th>\n",
       "      <th>text</th>\n",
       "      <th>look</th>\n",
       "      <th>smell</th>\n",
       "      <th>taste</th>\n",
       "      <th>feel</th>\n",
       "      <th>overall</th>\n",
       "      <th>score</th>\n",
       "    </tr>\n",
       "  </thead>\n",
       "  <tbody>\n",
       "    <tr>\n",
       "      <td>0</td>\n",
       "      <td>271781</td>\n",
       "      <td>bluejacket74</td>\n",
       "      <td>2017-03-17</td>\n",
       "      <td>750 ml bottle, 2016 vintage, bottle #304 of...</td>\n",
       "      <td>4.0</td>\n",
       "      <td>4.0</td>\n",
       "      <td>4.0</td>\n",
       "      <td>4.25</td>\n",
       "      <td>4.0</td>\n",
       "      <td>4.03</td>\n",
       "    </tr>\n",
       "    <tr>\n",
       "      <td>1</td>\n",
       "      <td>125646</td>\n",
       "      <td>_dirty_</td>\n",
       "      <td>2017-12-21</td>\n",
       "      <td></td>\n",
       "      <td>4.5</td>\n",
       "      <td>4.5</td>\n",
       "      <td>4.5</td>\n",
       "      <td>4.50</td>\n",
       "      <td>4.5</td>\n",
       "      <td>4.50</td>\n",
       "    </tr>\n",
       "  </tbody>\n",
       "</table>\n",
       "</div>"
      ],
      "text/plain": [
       "   beer_id      username        date  \\\n",
       "0   271781  bluejacket74  2017-03-17   \n",
       "1   125646       _dirty_  2017-12-21   \n",
       "\n",
       "                                                text  look  smell  taste  \\\n",
       "0     750 ml bottle, 2016 vintage, bottle #304 of...   4.0    4.0    4.0   \n",
       "1                                                      4.5    4.5    4.5   \n",
       "\n",
       "   feel  overall  score  \n",
       "0  4.25      4.0   4.03  \n",
       "1  4.50      4.5   4.50  "
      ]
     },
     "execution_count": 14,
     "metadata": {},
     "output_type": "execute_result"
    }
   ],
   "source": [
    "reviews.head(2)"
   ]
  },
  {
   "cell_type": "markdown",
   "metadata": {},
   "source": [
    "---\n",
    "# Raw data to decent json"
   ]
  },
  {
   "cell_type": "code",
   "execution_count": 65,
   "metadata": {},
   "outputs": [],
   "source": [
    "beer_and_breweries.set_index(\"id\").to_json(\"../data/raw_data.json\",orient='records')"
   ]
  },
  {
   "cell_type": "code",
   "execution_count": 67,
   "metadata": {},
   "outputs": [],
   "source": [
    "bpc = beer_and_breweries.groupby(\"country\").apply(lambda x: x.to_json(orient='records'))\n",
    "bpc.to_json(\"../data/raw_data_per_c.json\",orient=\"index\")"
   ]
  },
  {
   "cell_type": "markdown",
   "metadata": {},
   "source": [
    "---\n",
    "# Infos per country"
   ]
  },
  {
   "cell_type": "code",
   "execution_count": 7,
   "metadata": {},
   "outputs": [
    {
     "data": {
      "text/plain": [
       "187"
      ]
     },
     "execution_count": 7,
     "metadata": {},
     "output_type": "execute_result"
    }
   ],
   "source": [
    "countries = beer_and_breweries[[\"country\"]].drop_duplicates()\n",
    "len(countries)"
   ]
  },
  {
   "cell_type": "markdown",
   "metadata": {},
   "source": [
    "### nb_of_beers"
   ]
  },
  {
   "cell_type": "code",
   "execution_count": 8,
   "metadata": {},
   "outputs": [
    {
     "data": {
      "text/html": [
       "<div>\n",
       "<style scoped>\n",
       "    .dataframe tbody tr th:only-of-type {\n",
       "        vertical-align: middle;\n",
       "    }\n",
       "\n",
       "    .dataframe tbody tr th {\n",
       "        vertical-align: top;\n",
       "    }\n",
       "\n",
       "    .dataframe thead th {\n",
       "        text-align: right;\n",
       "    }\n",
       "</style>\n",
       "<table border=\"1\" class=\"dataframe\">\n",
       "  <thead>\n",
       "    <tr style=\"text-align: right;\">\n",
       "      <th></th>\n",
       "      <th>country</th>\n",
       "      <th>N_beer</th>\n",
       "    </tr>\n",
       "  </thead>\n",
       "  <tbody>\n",
       "    <tr>\n",
       "      <td>0</td>\n",
       "      <td>US</td>\n",
       "      <td>231940.0</td>\n",
       "    </tr>\n",
       "    <tr>\n",
       "      <td>1</td>\n",
       "      <td>NO</td>\n",
       "      <td>1095.0</td>\n",
       "    </tr>\n",
       "    <tr>\n",
       "      <td>2</td>\n",
       "      <td>JP</td>\n",
       "      <td>1582.0</td>\n",
       "    </tr>\n",
       "    <tr>\n",
       "      <td>3</td>\n",
       "      <td>IT</td>\n",
       "      <td>2523.0</td>\n",
       "    </tr>\n",
       "    <tr>\n",
       "      <td>4</td>\n",
       "      <td>CA</td>\n",
       "      <td>20053.0</td>\n",
       "    </tr>\n",
       "  </tbody>\n",
       "</table>\n",
       "</div>"
      ],
      "text/plain": [
       "  country    N_beer\n",
       "0      US  231940.0\n",
       "1      NO    1095.0\n",
       "2      JP    1582.0\n",
       "3      IT    2523.0\n",
       "4      CA   20053.0"
      ]
     },
     "execution_count": 8,
     "metadata": {},
     "output_type": "execute_result"
    }
   ],
   "source": [
    "temp = beer_and_breweries[[\"country\",\"id\"]].groupby(\"country\").count()\n",
    "temp.rename(columns={'id':'N_beer'},inplace=True)\n",
    "countries = pd.merge(countries,temp,how='left',left_on='country',right_on='country')\n",
    "del temp\n",
    "countries.head()"
   ]
  },
  {
   "cell_type": "markdown",
   "metadata": {},
   "source": [
    "### Average abv/beer"
   ]
  },
  {
   "cell_type": "code",
   "execution_count": 9,
   "metadata": {
    "scrolled": true
   },
   "outputs": [
    {
     "data": {
      "text/html": [
       "<div>\n",
       "<style scoped>\n",
       "    .dataframe tbody tr th:only-of-type {\n",
       "        vertical-align: middle;\n",
       "    }\n",
       "\n",
       "    .dataframe tbody tr th {\n",
       "        vertical-align: top;\n",
       "    }\n",
       "\n",
       "    .dataframe thead th {\n",
       "        text-align: right;\n",
       "    }\n",
       "</style>\n",
       "<table border=\"1\" class=\"dataframe\">\n",
       "  <thead>\n",
       "    <tr style=\"text-align: right;\">\n",
       "      <th></th>\n",
       "      <th>avg_abv</th>\n",
       "    </tr>\n",
       "    <tr>\n",
       "      <th>country</th>\n",
       "      <th></th>\n",
       "    </tr>\n",
       "  </thead>\n",
       "  <tbody>\n",
       "    <tr>\n",
       "      <td>AD</td>\n",
       "      <td>6.188889</td>\n",
       "    </tr>\n",
       "    <tr>\n",
       "      <td>AE</td>\n",
       "      <td>4.690000</td>\n",
       "    </tr>\n",
       "    <tr>\n",
       "      <td>AG</td>\n",
       "      <td>5.200000</td>\n",
       "    </tr>\n",
       "    <tr>\n",
       "      <td>AL</td>\n",
       "      <td>4.700000</td>\n",
       "    </tr>\n",
       "    <tr>\n",
       "      <td>AM</td>\n",
       "      <td>5.087500</td>\n",
       "    </tr>\n",
       "  </tbody>\n",
       "</table>\n",
       "</div>"
      ],
      "text/plain": [
       "          avg_abv\n",
       "country          \n",
       "AD       6.188889\n",
       "AE       4.690000\n",
       "AG       5.200000\n",
       "AL       4.700000\n",
       "AM       5.087500"
      ]
     },
     "execution_count": 9,
     "metadata": {},
     "output_type": "execute_result"
    }
   ],
   "source": [
    "temp = beer_and_breweries[[\"country\",\"abv\"]].groupby(\"country\").mean()\n",
    "temp.rename(columns={'abv':'avg_abv'},inplace=True)\n",
    "temp.head()"
   ]
  },
  {
   "cell_type": "code",
   "execution_count": 10,
   "metadata": {
    "scrolled": false
   },
   "outputs": [
    {
     "data": {
      "text/html": [
       "<div>\n",
       "<style scoped>\n",
       "    .dataframe tbody tr th:only-of-type {\n",
       "        vertical-align: middle;\n",
       "    }\n",
       "\n",
       "    .dataframe tbody tr th {\n",
       "        vertical-align: top;\n",
       "    }\n",
       "\n",
       "    .dataframe thead th {\n",
       "        text-align: right;\n",
       "    }\n",
       "</style>\n",
       "<table border=\"1\" class=\"dataframe\">\n",
       "  <thead>\n",
       "    <tr style=\"text-align: right;\">\n",
       "      <th></th>\n",
       "      <th>country</th>\n",
       "      <th>N_beer</th>\n",
       "      <th>avg_abv</th>\n",
       "    </tr>\n",
       "  </thead>\n",
       "  <tbody>\n",
       "    <tr>\n",
       "      <td>0</td>\n",
       "      <td>US</td>\n",
       "      <td>231940.0</td>\n",
       "      <td>6.721202</td>\n",
       "    </tr>\n",
       "    <tr>\n",
       "      <td>1</td>\n",
       "      <td>NO</td>\n",
       "      <td>1095.0</td>\n",
       "      <td>6.403205</td>\n",
       "    </tr>\n",
       "    <tr>\n",
       "      <td>2</td>\n",
       "      <td>JP</td>\n",
       "      <td>1582.0</td>\n",
       "      <td>5.682332</td>\n",
       "    </tr>\n",
       "    <tr>\n",
       "      <td>3</td>\n",
       "      <td>IT</td>\n",
       "      <td>2523.0</td>\n",
       "      <td>6.400460</td>\n",
       "    </tr>\n",
       "    <tr>\n",
       "      <td>4</td>\n",
       "      <td>CA</td>\n",
       "      <td>20053.0</td>\n",
       "      <td>6.096917</td>\n",
       "    </tr>\n",
       "  </tbody>\n",
       "</table>\n",
       "</div>"
      ],
      "text/plain": [
       "  country    N_beer   avg_abv\n",
       "0      US  231940.0  6.721202\n",
       "1      NO    1095.0  6.403205\n",
       "2      JP    1582.0  5.682332\n",
       "3      IT    2523.0  6.400460\n",
       "4      CA   20053.0  6.096917"
      ]
     },
     "execution_count": 10,
     "metadata": {},
     "output_type": "execute_result"
    }
   ],
   "source": [
    "countries = pd.merge(countries,temp,how='left',left_on='country',right_on='country')\n",
    "del temp\n",
    "countries.head()"
   ]
  },
  {
   "cell_type": "markdown",
   "metadata": {},
   "source": [
    "### median abv"
   ]
  },
  {
   "cell_type": "code",
   "execution_count": 11,
   "metadata": {
    "scrolled": true
   },
   "outputs": [
    {
     "data": {
      "text/html": [
       "<div>\n",
       "<style scoped>\n",
       "    .dataframe tbody tr th:only-of-type {\n",
       "        vertical-align: middle;\n",
       "    }\n",
       "\n",
       "    .dataframe tbody tr th {\n",
       "        vertical-align: top;\n",
       "    }\n",
       "\n",
       "    .dataframe thead th {\n",
       "        text-align: right;\n",
       "    }\n",
       "</style>\n",
       "<table border=\"1\" class=\"dataframe\">\n",
       "  <thead>\n",
       "    <tr style=\"text-align: right;\">\n",
       "      <th></th>\n",
       "      <th>median_abv</th>\n",
       "    </tr>\n",
       "    <tr>\n",
       "      <th>country</th>\n",
       "      <th></th>\n",
       "    </tr>\n",
       "  </thead>\n",
       "  <tbody>\n",
       "    <tr>\n",
       "      <td>AD</td>\n",
       "      <td>5.60</td>\n",
       "    </tr>\n",
       "    <tr>\n",
       "      <td>AE</td>\n",
       "      <td>4.69</td>\n",
       "    </tr>\n",
       "    <tr>\n",
       "      <td>AG</td>\n",
       "      <td>5.20</td>\n",
       "    </tr>\n",
       "    <tr>\n",
       "      <td>AL</td>\n",
       "      <td>4.30</td>\n",
       "    </tr>\n",
       "    <tr>\n",
       "      <td>AM</td>\n",
       "      <td>4.85</td>\n",
       "    </tr>\n",
       "  </tbody>\n",
       "</table>\n",
       "</div>"
      ],
      "text/plain": [
       "         median_abv\n",
       "country            \n",
       "AD             5.60\n",
       "AE             4.69\n",
       "AG             5.20\n",
       "AL             4.30\n",
       "AM             4.85"
      ]
     },
     "execution_count": 11,
     "metadata": {},
     "output_type": "execute_result"
    }
   ],
   "source": [
    "temp = beer_and_breweries[[\"country\",\"abv\"]].groupby(\"country\").median()\n",
    "temp.rename(columns={'abv':'median_abv'},inplace=True)\n",
    "temp.head()"
   ]
  },
  {
   "cell_type": "code",
   "execution_count": 12,
   "metadata": {
    "scrolled": false
   },
   "outputs": [
    {
     "data": {
      "text/html": [
       "<div>\n",
       "<style scoped>\n",
       "    .dataframe tbody tr th:only-of-type {\n",
       "        vertical-align: middle;\n",
       "    }\n",
       "\n",
       "    .dataframe tbody tr th {\n",
       "        vertical-align: top;\n",
       "    }\n",
       "\n",
       "    .dataframe thead th {\n",
       "        text-align: right;\n",
       "    }\n",
       "</style>\n",
       "<table border=\"1\" class=\"dataframe\">\n",
       "  <thead>\n",
       "    <tr style=\"text-align: right;\">\n",
       "      <th></th>\n",
       "      <th>country</th>\n",
       "      <th>N_beer</th>\n",
       "      <th>avg_abv</th>\n",
       "      <th>median_abv</th>\n",
       "    </tr>\n",
       "  </thead>\n",
       "  <tbody>\n",
       "    <tr>\n",
       "      <td>0</td>\n",
       "      <td>US</td>\n",
       "      <td>231940.0</td>\n",
       "      <td>6.721202</td>\n",
       "      <td>6.3</td>\n",
       "    </tr>\n",
       "    <tr>\n",
       "      <td>1</td>\n",
       "      <td>NO</td>\n",
       "      <td>1095.0</td>\n",
       "      <td>6.403205</td>\n",
       "      <td>6.0</td>\n",
       "    </tr>\n",
       "    <tr>\n",
       "      <td>2</td>\n",
       "      <td>JP</td>\n",
       "      <td>1582.0</td>\n",
       "      <td>5.682332</td>\n",
       "      <td>5.0</td>\n",
       "    </tr>\n",
       "    <tr>\n",
       "      <td>3</td>\n",
       "      <td>IT</td>\n",
       "      <td>2523.0</td>\n",
       "      <td>6.400460</td>\n",
       "      <td>6.0</td>\n",
       "    </tr>\n",
       "    <tr>\n",
       "      <td>4</td>\n",
       "      <td>CA</td>\n",
       "      <td>20053.0</td>\n",
       "      <td>6.096917</td>\n",
       "      <td>5.6</td>\n",
       "    </tr>\n",
       "  </tbody>\n",
       "</table>\n",
       "</div>"
      ],
      "text/plain": [
       "  country    N_beer   avg_abv  median_abv\n",
       "0      US  231940.0  6.721202         6.3\n",
       "1      NO    1095.0  6.403205         6.0\n",
       "2      JP    1582.0  5.682332         5.0\n",
       "3      IT    2523.0  6.400460         6.0\n",
       "4      CA   20053.0  6.096917         5.6"
      ]
     },
     "execution_count": 12,
     "metadata": {},
     "output_type": "execute_result"
    }
   ],
   "source": [
    "countries = pd.merge(countries,temp,how='left',left_on='country',right_on='country')\n",
    "del temp\n",
    "countries.head()"
   ]
  },
  {
   "cell_type": "markdown",
   "metadata": {},
   "source": [
    "### most abv"
   ]
  },
  {
   "cell_type": "code",
   "execution_count": 13,
   "metadata": {},
   "outputs": [
    {
     "data": {
      "text/html": [
       "<div>\n",
       "<style scoped>\n",
       "    .dataframe tbody tr th:only-of-type {\n",
       "        vertical-align: middle;\n",
       "    }\n",
       "\n",
       "    .dataframe tbody tr th {\n",
       "        vertical-align: top;\n",
       "    }\n",
       "\n",
       "    .dataframe thead th {\n",
       "        text-align: right;\n",
       "    }\n",
       "</style>\n",
       "<table border=\"1\" class=\"dataframe\">\n",
       "  <thead>\n",
       "    <tr style=\"text-align: right;\">\n",
       "      <th></th>\n",
       "      <th>max_abv</th>\n",
       "    </tr>\n",
       "    <tr>\n",
       "      <th>country</th>\n",
       "      <th></th>\n",
       "    </tr>\n",
       "  </thead>\n",
       "  <tbody>\n",
       "    <tr>\n",
       "      <td>AD</td>\n",
       "      <td>8.50</td>\n",
       "    </tr>\n",
       "    <tr>\n",
       "      <td>AE</td>\n",
       "      <td>4.69</td>\n",
       "    </tr>\n",
       "    <tr>\n",
       "      <td>AG</td>\n",
       "      <td>5.60</td>\n",
       "    </tr>\n",
       "    <tr>\n",
       "      <td>AL</td>\n",
       "      <td>6.50</td>\n",
       "    </tr>\n",
       "    <tr>\n",
       "      <td>AM</td>\n",
       "      <td>8.50</td>\n",
       "    </tr>\n",
       "  </tbody>\n",
       "</table>\n",
       "</div>"
      ],
      "text/plain": [
       "         max_abv\n",
       "country         \n",
       "AD          8.50\n",
       "AE          4.69\n",
       "AG          5.60\n",
       "AL          6.50\n",
       "AM          8.50"
      ]
     },
     "execution_count": 13,
     "metadata": {},
     "output_type": "execute_result"
    }
   ],
   "source": [
    "temp = beer_and_breweries[[\"country\",\"abv\"]].groupby(\"country\").max()\n",
    "temp.rename(columns={'abv':'max_abv'},inplace=True)\n",
    "temp.head()"
   ]
  },
  {
   "cell_type": "code",
   "execution_count": 14,
   "metadata": {},
   "outputs": [
    {
     "data": {
      "text/html": [
       "<div>\n",
       "<style scoped>\n",
       "    .dataframe tbody tr th:only-of-type {\n",
       "        vertical-align: middle;\n",
       "    }\n",
       "\n",
       "    .dataframe tbody tr th {\n",
       "        vertical-align: top;\n",
       "    }\n",
       "\n",
       "    .dataframe thead th {\n",
       "        text-align: right;\n",
       "    }\n",
       "</style>\n",
       "<table border=\"1\" class=\"dataframe\">\n",
       "  <thead>\n",
       "    <tr style=\"text-align: right;\">\n",
       "      <th></th>\n",
       "      <th>country</th>\n",
       "      <th>N_beer</th>\n",
       "      <th>avg_abv</th>\n",
       "      <th>median_abv</th>\n",
       "      <th>max_abv</th>\n",
       "    </tr>\n",
       "  </thead>\n",
       "  <tbody>\n",
       "    <tr>\n",
       "      <td>0</td>\n",
       "      <td>US</td>\n",
       "      <td>231940.0</td>\n",
       "      <td>6.721202</td>\n",
       "      <td>6.3</td>\n",
       "      <td>56.0</td>\n",
       "    </tr>\n",
       "    <tr>\n",
       "      <td>1</td>\n",
       "      <td>NO</td>\n",
       "      <td>1095.0</td>\n",
       "      <td>6.403205</td>\n",
       "      <td>6.0</td>\n",
       "      <td>20.0</td>\n",
       "    </tr>\n",
       "    <tr>\n",
       "      <td>2</td>\n",
       "      <td>JP</td>\n",
       "      <td>1582.0</td>\n",
       "      <td>5.682332</td>\n",
       "      <td>5.0</td>\n",
       "      <td>15.0</td>\n",
       "    </tr>\n",
       "    <tr>\n",
       "      <td>3</td>\n",
       "      <td>IT</td>\n",
       "      <td>2523.0</td>\n",
       "      <td>6.400460</td>\n",
       "      <td>6.0</td>\n",
       "      <td>16.0</td>\n",
       "    </tr>\n",
       "    <tr>\n",
       "      <td>4</td>\n",
       "      <td>CA</td>\n",
       "      <td>20053.0</td>\n",
       "      <td>6.096917</td>\n",
       "      <td>5.6</td>\n",
       "      <td>66.0</td>\n",
       "    </tr>\n",
       "  </tbody>\n",
       "</table>\n",
       "</div>"
      ],
      "text/plain": [
       "  country    N_beer   avg_abv  median_abv  max_abv\n",
       "0      US  231940.0  6.721202         6.3     56.0\n",
       "1      NO    1095.0  6.403205         6.0     20.0\n",
       "2      JP    1582.0  5.682332         5.0     15.0\n",
       "3      IT    2523.0  6.400460         6.0     16.0\n",
       "4      CA   20053.0  6.096917         5.6     66.0"
      ]
     },
     "execution_count": 14,
     "metadata": {},
     "output_type": "execute_result"
    }
   ],
   "source": [
    "countries = pd.merge(countries,temp,how='left',left_on='country',right_on='country')\n",
    "del temp\n",
    "countries.head()"
   ]
  },
  {
   "cell_type": "markdown",
   "metadata": {},
   "source": [
    "### number of breweries"
   ]
  },
  {
   "cell_type": "code",
   "execution_count": 15,
   "metadata": {},
   "outputs": [
    {
     "data": {
      "text/html": [
       "<div>\n",
       "<style scoped>\n",
       "    .dataframe tbody tr th:only-of-type {\n",
       "        vertical-align: middle;\n",
       "    }\n",
       "\n",
       "    .dataframe tbody tr th {\n",
       "        vertical-align: top;\n",
       "    }\n",
       "\n",
       "    .dataframe thead th {\n",
       "        text-align: right;\n",
       "    }\n",
       "</style>\n",
       "<table border=\"1\" class=\"dataframe\">\n",
       "  <thead>\n",
       "    <tr style=\"text-align: right;\">\n",
       "      <th></th>\n",
       "      <th>n_brewery</th>\n",
       "    </tr>\n",
       "    <tr>\n",
       "      <th>country</th>\n",
       "      <th></th>\n",
       "    </tr>\n",
       "  </thead>\n",
       "  <tbody>\n",
       "    <tr>\n",
       "      <td>AD</td>\n",
       "      <td>1</td>\n",
       "    </tr>\n",
       "    <tr>\n",
       "      <td>AE</td>\n",
       "      <td>1</td>\n",
       "    </tr>\n",
       "    <tr>\n",
       "      <td>AG</td>\n",
       "      <td>1</td>\n",
       "    </tr>\n",
       "    <tr>\n",
       "      <td>AL</td>\n",
       "      <td>7</td>\n",
       "    </tr>\n",
       "    <tr>\n",
       "      <td>AM</td>\n",
       "      <td>4</td>\n",
       "    </tr>\n",
       "  </tbody>\n",
       "</table>\n",
       "</div>"
      ],
      "text/plain": [
       "         n_brewery\n",
       "country           \n",
       "AD               1\n",
       "AE               1\n",
       "AG               1\n",
       "AL               7\n",
       "AM               4"
      ]
     },
     "execution_count": 15,
     "metadata": {},
     "output_type": "execute_result"
    }
   ],
   "source": [
    "temp = beer_and_breweries[[\"country\",\"brewery\"]].groupby(\"country\").nunique()[[\"brewery\"]]\n",
    "temp.rename(columns={'brewery':'n_brewery'},inplace=True)\n",
    "temp.head()"
   ]
  },
  {
   "cell_type": "code",
   "execution_count": 16,
   "metadata": {},
   "outputs": [
    {
     "data": {
      "text/html": [
       "<div>\n",
       "<style scoped>\n",
       "    .dataframe tbody tr th:only-of-type {\n",
       "        vertical-align: middle;\n",
       "    }\n",
       "\n",
       "    .dataframe tbody tr th {\n",
       "        vertical-align: top;\n",
       "    }\n",
       "\n",
       "    .dataframe thead th {\n",
       "        text-align: right;\n",
       "    }\n",
       "</style>\n",
       "<table border=\"1\" class=\"dataframe\">\n",
       "  <thead>\n",
       "    <tr style=\"text-align: right;\">\n",
       "      <th></th>\n",
       "      <th>country</th>\n",
       "      <th>N_beer</th>\n",
       "      <th>avg_abv</th>\n",
       "      <th>median_abv</th>\n",
       "      <th>max_abv</th>\n",
       "      <th>n_brewery</th>\n",
       "    </tr>\n",
       "  </thead>\n",
       "  <tbody>\n",
       "    <tr>\n",
       "      <td>0</td>\n",
       "      <td>US</td>\n",
       "      <td>231940.0</td>\n",
       "      <td>6.721202</td>\n",
       "      <td>6.3</td>\n",
       "      <td>56.0</td>\n",
       "      <td>7338.0</td>\n",
       "    </tr>\n",
       "    <tr>\n",
       "      <td>1</td>\n",
       "      <td>NO</td>\n",
       "      <td>1095.0</td>\n",
       "      <td>6.403205</td>\n",
       "      <td>6.0</td>\n",
       "      <td>20.0</td>\n",
       "      <td>77.0</td>\n",
       "    </tr>\n",
       "    <tr>\n",
       "      <td>2</td>\n",
       "      <td>JP</td>\n",
       "      <td>1582.0</td>\n",
       "      <td>5.682332</td>\n",
       "      <td>5.0</td>\n",
       "      <td>15.0</td>\n",
       "      <td>164.0</td>\n",
       "    </tr>\n",
       "    <tr>\n",
       "      <td>3</td>\n",
       "      <td>IT</td>\n",
       "      <td>2523.0</td>\n",
       "      <td>6.400460</td>\n",
       "      <td>6.0</td>\n",
       "      <td>16.0</td>\n",
       "      <td>367.0</td>\n",
       "    </tr>\n",
       "    <tr>\n",
       "      <td>4</td>\n",
       "      <td>CA</td>\n",
       "      <td>20053.0</td>\n",
       "      <td>6.096917</td>\n",
       "      <td>5.6</td>\n",
       "      <td>66.0</td>\n",
       "      <td>940.0</td>\n",
       "    </tr>\n",
       "  </tbody>\n",
       "</table>\n",
       "</div>"
      ],
      "text/plain": [
       "  country    N_beer   avg_abv  median_abv  max_abv  n_brewery\n",
       "0      US  231940.0  6.721202         6.3     56.0     7338.0\n",
       "1      NO    1095.0  6.403205         6.0     20.0       77.0\n",
       "2      JP    1582.0  5.682332         5.0     15.0      164.0\n",
       "3      IT    2523.0  6.400460         6.0     16.0      367.0\n",
       "4      CA   20053.0  6.096917         5.6     66.0      940.0"
      ]
     },
     "execution_count": 16,
     "metadata": {},
     "output_type": "execute_result"
    }
   ],
   "source": [
    "countries = pd.merge(countries,temp,how='left',left_on='country',right_on='country')\n",
    "del temp\n",
    "countries.head()"
   ]
  },
  {
   "cell_type": "markdown",
   "metadata": {},
   "source": [
    "## Saving to csv and json"
   ]
  },
  {
   "cell_type": "code",
   "execution_count": 17,
   "metadata": {},
   "outputs": [
    {
     "data": {
      "text/html": [
       "<div>\n",
       "<style scoped>\n",
       "    .dataframe tbody tr th:only-of-type {\n",
       "        vertical-align: middle;\n",
       "    }\n",
       "\n",
       "    .dataframe tbody tr th {\n",
       "        vertical-align: top;\n",
       "    }\n",
       "\n",
       "    .dataframe thead th {\n",
       "        text-align: right;\n",
       "    }\n",
       "</style>\n",
       "<table border=\"1\" class=\"dataframe\">\n",
       "  <thead>\n",
       "    <tr style=\"text-align: right;\">\n",
       "      <th></th>\n",
       "      <th>N_beer</th>\n",
       "      <th>avg_abv</th>\n",
       "      <th>median_abv</th>\n",
       "      <th>max_abv</th>\n",
       "      <th>n_brewery</th>\n",
       "    </tr>\n",
       "    <tr>\n",
       "      <th>country</th>\n",
       "      <th></th>\n",
       "      <th></th>\n",
       "      <th></th>\n",
       "      <th></th>\n",
       "      <th></th>\n",
       "    </tr>\n",
       "  </thead>\n",
       "  <tbody>\n",
       "    <tr>\n",
       "      <td>US</td>\n",
       "      <td>231940.0</td>\n",
       "      <td>6.721202</td>\n",
       "      <td>6.3</td>\n",
       "      <td>56.0</td>\n",
       "      <td>7338.0</td>\n",
       "    </tr>\n",
       "    <tr>\n",
       "      <td>NO</td>\n",
       "      <td>1095.0</td>\n",
       "      <td>6.403205</td>\n",
       "      <td>6.0</td>\n",
       "      <td>20.0</td>\n",
       "      <td>77.0</td>\n",
       "    </tr>\n",
       "    <tr>\n",
       "      <td>JP</td>\n",
       "      <td>1582.0</td>\n",
       "      <td>5.682332</td>\n",
       "      <td>5.0</td>\n",
       "      <td>15.0</td>\n",
       "      <td>164.0</td>\n",
       "    </tr>\n",
       "    <tr>\n",
       "      <td>IT</td>\n",
       "      <td>2523.0</td>\n",
       "      <td>6.400460</td>\n",
       "      <td>6.0</td>\n",
       "      <td>16.0</td>\n",
       "      <td>367.0</td>\n",
       "    </tr>\n",
       "    <tr>\n",
       "      <td>CA</td>\n",
       "      <td>20053.0</td>\n",
       "      <td>6.096917</td>\n",
       "      <td>5.6</td>\n",
       "      <td>66.0</td>\n",
       "      <td>940.0</td>\n",
       "    </tr>\n",
       "  </tbody>\n",
       "</table>\n",
       "</div>"
      ],
      "text/plain": [
       "           N_beer   avg_abv  median_abv  max_abv  n_brewery\n",
       "country                                                    \n",
       "US       231940.0  6.721202         6.3     56.0     7338.0\n",
       "NO         1095.0  6.403205         6.0     20.0       77.0\n",
       "JP         1582.0  5.682332         5.0     15.0      164.0\n",
       "IT         2523.0  6.400460         6.0     16.0      367.0\n",
       "CA        20053.0  6.096917         5.6     66.0      940.0"
      ]
     },
     "execution_count": 17,
     "metadata": {},
     "output_type": "execute_result"
    }
   ],
   "source": [
    "countries=countries.set_index(\"country\")\n",
    "countries.head()"
   ]
  },
  {
   "cell_type": "code",
   "execution_count": 18,
   "metadata": {},
   "outputs": [],
   "source": [
    "countries.to_csv(r\"../data/countries_basic_data.csv\")"
   ]
  },
  {
   "cell_type": "code",
   "execution_count": 63,
   "metadata": {},
   "outputs": [],
   "source": [
    "\n",
    "countries.to_json(r\"../data/countries_basic_data.json\",orient='index')"
   ]
  },
  {
   "cell_type": "markdown",
   "metadata": {},
   "source": [
    "---\n",
    "# Infos per city"
   ]
  },
  {
   "cell_type": "code",
   "execution_count": null,
   "metadata": {},
   "outputs": [],
   "source": []
  },
  {
   "cell_type": "code",
   "execution_count": null,
   "metadata": {},
   "outputs": [],
   "source": []
  },
  {
   "cell_type": "markdown",
   "metadata": {},
   "source": [
    "---\n",
    "# Draft"
   ]
  },
  {
   "cell_type": "code",
   "execution_count": 37,
   "metadata": {},
   "outputs": [
    {
     "data": {
      "text/plain": [
       "id                              104620\n",
       "beer                       Snake Venom\n",
       "style               British Barleywine\n",
       "availability     Limited (brewed once)\n",
       "abv                               67.5\n",
       "retired                              t\n",
       "brewery                    Brewmeister\n",
       "city                            Aboyne\n",
       "country                             GB\n",
       "types                          Brewery\n",
       "Name: 325099, dtype: object"
      ]
     },
     "execution_count": 37,
     "metadata": {},
     "output_type": "execute_result"
    }
   ],
   "source": [
    "beer_and_breweries.loc[beer_and_breweries[\"abv\"].idxmax()]"
   ]
  },
  {
   "cell_type": "markdown",
   "metadata": {},
   "source": [
    "## Beer types"
   ]
  },
  {
   "cell_type": "code",
   "execution_count": 50,
   "metadata": {},
   "outputs": [],
   "source": [
    "beer_types = beer_and_breweries[['style','id']].groupby('style').agg('count').reset_index()"
   ]
  },
  {
   "cell_type": "code",
   "execution_count": 259,
   "metadata": {},
   "outputs": [],
   "source": [
    "beer_and_breweries = beer_and_breweries.set_index('id')"
   ]
  },
  {
   "cell_type": "code",
   "execution_count": 260,
   "metadata": {},
   "outputs": [],
   "source": [
    "IPA = beer_and_breweries[beer_and_breweries['style'].str.contains('IPA')]"
   ]
  },
  {
   "cell_type": "code",
   "execution_count": 261,
   "metadata": {},
   "outputs": [],
   "source": [
    "Lager = beer_and_breweries[(beer_and_breweries['style'].str.contains('Lager'))]"
   ]
  },
  {
   "cell_type": "code",
   "execution_count": 262,
   "metadata": {},
   "outputs": [],
   "source": [
    "Ale = beer_and_breweries[(beer_and_breweries['style'].str.contains('Ale')) | (beer_and_breweries['style'].str.contains('Gose'))]"
   ]
  },
  {
   "cell_type": "code",
   "execution_count": 263,
   "metadata": {},
   "outputs": [],
   "source": [
    "Stout = beer_and_breweries[(beer_and_breweries['style'].str.contains('Stout'))]"
   ]
  },
  {
   "cell_type": "code",
   "execution_count": 264,
   "metadata": {},
   "outputs": [],
   "source": [
    "Pilsner = beer_and_breweries[beer_and_breweries['style'].str.contains('Pils')]"
   ]
  },
  {
   "cell_type": "code",
   "execution_count": 265,
   "metadata": {},
   "outputs": [],
   "source": [
    "Porter = beer_and_breweries[beer_and_breweries['style'].str.contains('Porter')]"
   ]
  },
  {
   "cell_type": "code",
   "execution_count": 266,
   "metadata": {},
   "outputs": [],
   "source": [
    "Fruit =beer_and_breweries[beer_and_breweries['style'].str.contains('Fruit')]"
   ]
  },
  {
   "cell_type": "code",
   "execution_count": 267,
   "metadata": {},
   "outputs": [],
   "source": [
    "Roggenbier = beer_and_breweries[(beer_and_breweries['style'].str.contains('Roggen'))|(beer_and_breweries['style'].str.contains('Rye'))]"
   ]
  },
  {
   "cell_type": "code",
   "execution_count": 268,
   "metadata": {},
   "outputs": [],
   "source": [
    "Herb = beer_and_breweries[(beer_and_breweries['style'].str.contains('Herb'))]"
   ]
  },
  {
   "cell_type": "code",
   "execution_count": 269,
   "metadata": {},
   "outputs": [],
   "source": [
    "Smoke = beer_and_breweries[(beer_and_breweries['style'].str.contains('Smoke'))]"
   ]
  },
  {
   "cell_type": "code",
   "execution_count": 270,
   "metadata": {},
   "outputs": [],
   "source": [
    "Barleywine=beer_and_breweries[(beer_and_breweries['style'].str.contains('Barleywine'))]"
   ]
  },
  {
   "cell_type": "code",
   "execution_count": 271,
   "metadata": {},
   "outputs": [],
   "source": [
    "def get_data_filters(data):\n",
    "    #Number of beers\n",
    "    temp = data[[\"country\",\"id\"]].groupby(\"country\").count()\n",
    "    temp.rename(columns={'id':'N_beer'},inplace=True)\n",
    "    countries = pd.merge(countries,temp,how='left',left_on='country',right_on='country')\n",
    "    \n",
    "    #Average ABV\n",
    "    temp = data[[\"country\",\"abv\"]].groupby(\"country\").mean()\n",
    "    temp.rename(columns={'abv':'avg_abv'},inplace=True)\n",
    "    countries = pd.merge(countries,temp,how='left',left_on='country',right_on='country')\n",
    "    \n",
    "    # HIghest ABV\n",
    "    temp = data[[\"country\",\"abv\"]].groupby(\"country\").max()\n",
    "    temp.rename(columns={'abv':'max_abv'},inplace=True)\n",
    "    countries = pd.merge(countries,temp,how='left',left_on='country',right_on='country')\n",
    "\n",
    "    #Number of breweries\n",
    "    temp = data[[\"country\",\"brewery\"]].groupby(\"country\").nunique()[[\"brewery\"]]\n",
    "    temp.rename(columns={'brewery':'n_brewery'},inplace=True)\n",
    "    countries = pd.merge(countries,temp,how='left',left_on='country',right_on='country')\n",
    "    "
   ]
  },
  {
   "cell_type": "markdown",
   "metadata": {},
   "source": [
    "## Reviews for cloud words"
   ]
  },
  {
   "cell_type": "code",
   "execution_count": 126,
   "metadata": {},
   "outputs": [],
   "source": [
    "from nltk.corpus import stopwords\n",
    "from sklearn.feature_extraction.text import CountVectorizer\n",
    "import string"
   ]
  },
  {
   "cell_type": "code",
   "execution_count": 281,
   "metadata": {},
   "outputs": [],
   "source": [
    "def lower_punct_removal(text):\n",
    "    temp = text.lower()\n",
    "    return temp.translate(str.maketrans('', '', string.punctuation))\n",
    "def stopwords_removal(text):\n",
    "    obvious= ['beer','nice','like','good','well','bottle','bit','head','taste','flavor','smell','little',\\\n",
    "              'glass','pours','notes','body','carbonation','color','hops','really','mouthfeel','aroma','malt',\\\n",
    "             'one','overall','would','finish','much','medium','poured']\n",
    "    return ' '.join([x for x in text.split() if not (x in stopwords_en or x.isdigit() or x in obvious) ])\n",
    "\n",
    "\n",
    "\n",
    "def get_words_counts(beer_sub_type,number):\n",
    "    barley_reviews = reviews[reviews['beer_id'].isin(beer_sub_type.index.to_list())].copy()\n",
    "    barley_reviews['text']  = barley_reviews['text'].apply(lower_punct_removal)\n",
    "    barley_reviews['text']=barley_reviews['text'].apply(stopwords_removal)\n",
    "    \n",
    "    counter = CountVectorizer()\n",
    "    X = counter.fit_transform(list(barley_reviews['text']))\n",
    "    word_count= np.asarray(X.sum(axis =0))[0]\n",
    "    \n",
    "    indices = np.argsort(word_count)[-number:]\n",
    "    counts = np.sort(word_count)[-number:]\n",
    "    \n",
    "    return np.array(counter.get_feature_names())[indices],counts"
   ]
  },
  {
   "cell_type": "code",
   "execution_count": 101,
   "metadata": {},
   "outputs": [],
   "source": [
    "stopwords_en =stopwords.words('english')"
   ]
  },
  {
   "cell_type": "code",
   "execution_count": 216,
   "metadata": {},
   "outputs": [],
   "source": [
    "reviews = reviews[reviews['text']!= '\\xa0\\xa0']"
   ]
  },
  {
   "cell_type": "code",
   "execution_count": 274,
   "metadata": {
    "scrolled": true
   },
   "outputs": [
    {
     "data": {
      "text/plain": [
       "(array(['quite', 'strong', 'would', 'overall', 'thick', 'great',\n",
       "        'bitterness', 'medium', 'malts', 'sugar', 'poured', 'vanilla',\n",
       "        'smooth', 'much', 'big', 'bourbon', 'flavors', 'nose', 'lacing',\n",
       "        'sweetness', 'fruit', 'hop', 'toffee', 'finish', 'brown',\n",
       "        'barleywine', 'dark', 'caramel', 'alcohol', 'sweet'], dtype='<U81'),\n",
       " array([14755, 14927, 15576, 15898, 16030, 16451, 17180, 17356, 17560,\n",
       "        17806, 17851, 17983, 18226, 18534, 18891, 18897, 18947, 19745,\n",
       "        20149, 20221, 20380, 21117, 21269, 25044, 31552, 33089, 41850,\n",
       "        49512, 50082, 53089], dtype=int64))"
      ]
     },
     "execution_count": 274,
     "metadata": {},
     "output_type": "execute_result"
    }
   ],
   "source": [
    "get_words_counts(Barleywine,20)"
   ]
  },
  {
   "cell_type": "code",
   "execution_count": 275,
   "metadata": {},
   "outputs": [
    {
     "data": {
      "text/plain": [
       "(array(['fruit', 'much', 'poured', 'overall', 'caramel', 'nose', 'great',\n",
       "        'lacing', 'white', 'medium', 'finish', 'bitter', 'grapefruit',\n",
       "        'sweet', 'pine', 'bitterness', 'orange', 'citrus', 'hop', 'ipa'],\n",
       "       dtype='<U235'),\n",
       " array([118895, 122121, 136503, 139794, 144788, 147053, 158205, 195802,\n",
       "        202436, 203595, 204151, 209962, 213962, 220079, 227207, 231322,\n",
       "        239832, 338567, 343219, 355327], dtype=int64))"
      ]
     },
     "execution_count": 275,
     "metadata": {},
     "output_type": "execute_result"
    }
   ],
   "source": [
    "get_words_counts(IPA,20)"
   ]
  },
  {
   "cell_type": "code",
   "execution_count": 276,
   "metadata": {},
   "outputs": [
    {
     "data": {
      "text/plain": [
       "(array(['great', 'much', 'poured', 'flavors', 'creamy', 'vanilla',\n",
       "        'smooth', 'tan', 'medium', 'lacing', 'malts', 'finish', 'sweet',\n",
       "        'black', 'brown', 'roasted', 'porter', 'coffee', 'chocolate',\n",
       "        'dark'], dtype='<U103'),\n",
       " array([ 32097,  32288,  32353,  34885,  36019,  38778,  40206,  40596,\n",
       "         41620,  41623,  44958,  46258,  53890,  65132,  74439,  81359,\n",
       "        100837, 118149, 131624, 134195], dtype=int64))"
      ]
     },
     "execution_count": 276,
     "metadata": {},
     "output_type": "execute_result"
    }
   ],
   "source": [
    "get_words_counts(Porter,20)"
   ]
  },
  {
   "cell_type": "code",
   "execution_count": 277,
   "metadata": {},
   "outputs": [
    {
     "data": {
      "text/plain": [
       "(array(['floral', 'bitter', 'poured', 'dry', 'yellow', 'medium', 'grassy',\n",
       "        'style', 'clean', 'lacing', 'bitterness', 'clear', 'pils',\n",
       "        'golden', 'sweet', 'finish', 'crisp', 'hop', 'white', 'pilsner'],\n",
       "       dtype='<U80'),\n",
       " array([15144, 15144, 15289, 16120, 16292, 16330, 16615, 17903, 19306,\n",
       "        19449, 20514, 21196, 21229, 21730, 23886, 24540, 25296, 31371,\n",
       "        32534, 35235], dtype=int64))"
      ]
     },
     "execution_count": 277,
     "metadata": {},
     "output_type": "execute_result"
    }
   ],
   "source": [
    "get_words_counts(Pilsner,20)"
   ]
  },
  {
   "cell_type": "code",
   "execution_count": 278,
   "metadata": {},
   "outputs": [
    {
     "data": {
      "text/plain": [
       "(array(['pretty', 'drink', 'nose', 'sweetness', 'red', 'wheat', 'overall',\n",
       "        'medium', 'poured', 'lacing', 'would', 'white', 'raspberry',\n",
       "        'much', 'finish', 'sour', 'cherry', 'tart', 'fruit', 'sweet'],\n",
       "       dtype='<U133'),\n",
       " array([14540, 14985, 16012, 16625, 16628, 16672, 16943, 17007, 17670,\n",
       "        17820, 20455, 21679, 22410, 22912, 22974, 24255, 26611, 27783,\n",
       "        37319, 48155], dtype=int64))"
      ]
     },
     "execution_count": 278,
     "metadata": {},
     "output_type": "execute_result"
    }
   ],
   "source": [
    "get_words_counts(Fruit,20)"
   ]
  },
  {
   "cell_type": "code",
   "execution_count": 279,
   "metadata": {},
   "outputs": [
    {
     "data": {
      "text/plain": [
       "(array(['smooth', 'would', 'flavors', 'much', 'smokey', 'lacing', 'smoky',\n",
       "        'malts', 'medium', 'coffee', 'black', 'sweet', 'finish', 'roasted',\n",
       "        'porter', 'brown', 'chocolate', 'dark', 'smoked', 'smoke'],\n",
       "       dtype='<U108'),\n",
       " array([ 3636,  3690,  3835,  3963,  4166,  4379,  4461,  4865,  4919,\n",
       "         4938,  4984,  5051,  5079,  5552,  6473,  6676,  8391, 10888,\n",
       "        11397, 17502], dtype=int64))"
      ]
     },
     "execution_count": 279,
     "metadata": {},
     "output_type": "execute_result"
    }
   ],
   "source": [
    "get_words_counts(Smoke,20)"
   ]
  },
  {
   "cell_type": "code",
   "execution_count": 280,
   "metadata": {},
   "outputs": [
    {
     "data": {
      "text/plain": [
       "(array(['bitter', 'much', 'flavors', 'bourbon', 'malts', 'lacing', 'thick',\n",
       "        'creamy', 'smooth', 'finish', 'alcohol', 'vanilla', 'brown',\n",
       "        'sweet', 'roasted', 'stout', 'black', 'coffee', 'dark',\n",
       "        'chocolate'], dtype='<U193'),\n",
       " array([ 98334,  98851, 103069, 107168, 111018, 111717, 114940, 117970,\n",
       "        122051, 126036, 127354, 132964, 150820, 168854, 218100, 255488,\n",
       "        255555, 367834, 379359, 443778], dtype=int64))"
      ]
     },
     "execution_count": 280,
     "metadata": {},
     "output_type": "execute_result"
    }
   ],
   "source": [
    "get_words_counts(Stout,20)"
   ]
  }
 ],
 "metadata": {
  "kernelspec": {
   "display_name": "Python 3",
   "language": "python",
   "name": "python3"
  },
  "language_info": {
   "codemirror_mode": {
    "name": "ipython",
    "version": 3
   },
   "file_extension": ".py",
   "mimetype": "text/x-python",
   "name": "python",
   "nbconvert_exporter": "python",
   "pygments_lexer": "ipython3",
   "version": "3.7.4"
  }
 },
 "nbformat": 4,
 "nbformat_minor": 4
}
