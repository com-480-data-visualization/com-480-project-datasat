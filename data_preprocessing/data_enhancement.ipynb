{
 "cells": [
  {
   "cell_type": "markdown",
   "metadata": {},
   "source": [
    "<h1>Load Data</h1>"
   ]
  },
  {
   "cell_type": "code",
   "execution_count": 1,
   "metadata": {},
   "outputs": [],
   "source": [
    "import pandas as pd\n",
    "import numpy as np\n",
    "import math\n",
    "import matplotlib.pyplot as plt"
   ]
  },
  {
   "cell_type": "markdown",
   "metadata": {},
   "source": [
    "### beers and breweries"
   ]
  },
  {
   "cell_type": "code",
   "execution_count": 30,
   "metadata": {},
   "outputs": [],
   "source": [
    "beer_file = r'../data/bigData/beers.csv'\n",
    "breweries_file = r'../data/bigData/breweries.csv'\n",
    "\n",
    "beers = pd.read_csv (beer_file)\n",
    "\n",
    "breweries = pd.read_csv (breweries_file)\n",
    "breweries.rename(columns={'id':'brewery_id'},inplace=True)\n",
    "\n",
    "reviews = pd.read_csv (r\"../data/bigData/reviews.csv\")"
   ]
  },
  {
   "cell_type": "markdown",
   "metadata": {},
   "source": [
    "### long and lat of cities"
   ]
  },
  {
   "cell_type": "code",
   "execution_count": 31,
   "metadata": {},
   "outputs": [],
   "source": [
    "cities_pos_file  = r'lat_long_03-05-2020_19:21.csv' \n",
    "\n",
    "cities_pos = pd.read_csv (cities_pos_file)"
   ]
  },
  {
   "cell_type": "markdown",
   "metadata": {},
   "source": [
    "### join_beer_brewery"
   ]
  },
  {
   "cell_type": "code",
   "execution_count": 32,
   "metadata": {},
   "outputs": [],
   "source": [
    "beer_and_breweries = pd.merge(beers,breweries,on=\"brewery_id\")\n",
    "beer_and_breweries.rename(columns={'name_x':'beer','name_y':'brewery','country_y':'country'},inplace=True)\n",
    "beer_and_breweries = beer_and_breweries[[\"id\",\"beer\",\"style\",\"availability\",\"abv\",\"retired\",\"brewery\",\"city\",\"country\",\"types\"]]\n"
   ]
  },
  {
   "cell_type": "markdown",
   "metadata": {},
   "source": [
    "### cleaning"
   ]
  },
  {
   "cell_type": "code",
   "execution_count": 33,
   "metadata": {},
   "outputs": [],
   "source": [
    "beer_and_breweries = beer_and_breweries[beer_and_breweries[\"abv\"]<70]"
   ]
  },
  {
   "cell_type": "markdown",
   "metadata": {},
   "source": [
    "Delete redondant data"
   ]
  },
  {
   "cell_type": "code",
   "execution_count": 34,
   "metadata": {},
   "outputs": [],
   "source": [
    "del beers\n",
    "del breweries"
   ]
  },
  {
   "cell_type": "markdown",
   "metadata": {},
   "source": [
    "### print data infos"
   ]
  },
  {
   "cell_type": "code",
   "execution_count": 12,
   "metadata": {
    "scrolled": true
   },
   "outputs": [
    {
     "data": {
      "text/html": [
       "<div>\n",
       "<style scoped>\n",
       "    .dataframe tbody tr th:only-of-type {\n",
       "        vertical-align: middle;\n",
       "    }\n",
       "\n",
       "    .dataframe tbody tr th {\n",
       "        vertical-align: top;\n",
       "    }\n",
       "\n",
       "    .dataframe thead th {\n",
       "        text-align: right;\n",
       "    }\n",
       "</style>\n",
       "<table border=\"1\" class=\"dataframe\">\n",
       "  <thead>\n",
       "    <tr style=\"text-align: right;\">\n",
       "      <th></th>\n",
       "      <th>id</th>\n",
       "      <th>beer</th>\n",
       "      <th>style</th>\n",
       "      <th>availability</th>\n",
       "      <th>abv</th>\n",
       "      <th>retired</th>\n",
       "      <th>brewery</th>\n",
       "      <th>city</th>\n",
       "      <th>country</th>\n",
       "      <th>types</th>\n",
       "    </tr>\n",
       "  </thead>\n",
       "  <tbody>\n",
       "    <tr>\n",
       "      <td>0</td>\n",
       "      <td>202522</td>\n",
       "      <td>Olde Cogitator</td>\n",
       "      <td>English Oatmeal Stout</td>\n",
       "      <td>Rotating</td>\n",
       "      <td>7.3</td>\n",
       "      <td>f</td>\n",
       "      <td>Main Street Brewery</td>\n",
       "      <td>Pleasanton</td>\n",
       "      <td>US</td>\n",
       "      <td>Brewery, Bar, Eatery</td>\n",
       "    </tr>\n",
       "    <tr>\n",
       "      <td>1</td>\n",
       "      <td>8677</td>\n",
       "      <td>Red Leaf Strong Ale</td>\n",
       "      <td>American Strong Ale</td>\n",
       "      <td>Year-round</td>\n",
       "      <td>8.6</td>\n",
       "      <td>f</td>\n",
       "      <td>Main Street Brewery</td>\n",
       "      <td>Pleasanton</td>\n",
       "      <td>US</td>\n",
       "      <td>Brewery, Bar, Eatery</td>\n",
       "    </tr>\n",
       "  </tbody>\n",
       "</table>\n",
       "</div>"
      ],
      "text/plain": [
       "       id                 beer                  style availability  abv  \\\n",
       "0  202522       Olde Cogitator  English Oatmeal Stout     Rotating  7.3   \n",
       "1    8677  Red Leaf Strong Ale    American Strong Ale   Year-round  8.6   \n",
       "\n",
       "  retired              brewery        city country                 types  \n",
       "0       f  Main Street Brewery  Pleasanton      US  Brewery, Bar, Eatery  \n",
       "1       f  Main Street Brewery  Pleasanton      US  Brewery, Bar, Eatery  "
      ]
     },
     "execution_count": 12,
     "metadata": {},
     "output_type": "execute_result"
    }
   ],
   "source": [
    "beer_and_breweries.head(2)"
   ]
  },
  {
   "cell_type": "code",
   "execution_count": 13,
   "metadata": {},
   "outputs": [
    {
     "data": {
      "text/html": [
       "<div>\n",
       "<style scoped>\n",
       "    .dataframe tbody tr th:only-of-type {\n",
       "        vertical-align: middle;\n",
       "    }\n",
       "\n",
       "    .dataframe tbody tr th {\n",
       "        vertical-align: top;\n",
       "    }\n",
       "\n",
       "    .dataframe thead th {\n",
       "        text-align: right;\n",
       "    }\n",
       "</style>\n",
       "<table border=\"1\" class=\"dataframe\">\n",
       "  <thead>\n",
       "    <tr style=\"text-align: right;\">\n",
       "      <th></th>\n",
       "      <th>Country</th>\n",
       "      <th>City</th>\n",
       "      <th>lat</th>\n",
       "      <th>long</th>\n",
       "    </tr>\n",
       "  </thead>\n",
       "  <tbody>\n",
       "    <tr>\n",
       "      <td>0</td>\n",
       "      <td>BE</td>\n",
       "      <td>Erpe-Mere</td>\n",
       "      <td>50.93604</td>\n",
       "      <td>4.03550</td>\n",
       "    </tr>\n",
       "    <tr>\n",
       "      <td>1</td>\n",
       "      <td>US</td>\n",
       "      <td>Thousand Palms</td>\n",
       "      <td>33.82002</td>\n",
       "      <td>-116.39029</td>\n",
       "    </tr>\n",
       "  </tbody>\n",
       "</table>\n",
       "</div>"
      ],
      "text/plain": [
       "  Country            City       lat       long\n",
       "0      BE       Erpe-Mere  50.93604    4.03550\n",
       "1      US  Thousand Palms  33.82002 -116.39029"
      ]
     },
     "execution_count": 13,
     "metadata": {},
     "output_type": "execute_result"
    }
   ],
   "source": [
    "cities_pos.head(2)"
   ]
  },
  {
   "cell_type": "code",
   "execution_count": 14,
   "metadata": {},
   "outputs": [
    {
     "data": {
      "text/html": [
       "<div>\n",
       "<style scoped>\n",
       "    .dataframe tbody tr th:only-of-type {\n",
       "        vertical-align: middle;\n",
       "    }\n",
       "\n",
       "    .dataframe tbody tr th {\n",
       "        vertical-align: top;\n",
       "    }\n",
       "\n",
       "    .dataframe thead th {\n",
       "        text-align: right;\n",
       "    }\n",
       "</style>\n",
       "<table border=\"1\" class=\"dataframe\">\n",
       "  <thead>\n",
       "    <tr style=\"text-align: right;\">\n",
       "      <th></th>\n",
       "      <th>beer_id</th>\n",
       "      <th>username</th>\n",
       "      <th>date</th>\n",
       "      <th>text</th>\n",
       "      <th>look</th>\n",
       "      <th>smell</th>\n",
       "      <th>taste</th>\n",
       "      <th>feel</th>\n",
       "      <th>overall</th>\n",
       "      <th>score</th>\n",
       "    </tr>\n",
       "  </thead>\n",
       "  <tbody>\n",
       "    <tr>\n",
       "      <td>0</td>\n",
       "      <td>271781</td>\n",
       "      <td>bluejacket74</td>\n",
       "      <td>2017-03-17</td>\n",
       "      <td>750 ml bottle, 2016 vintage, bottle #304 of...</td>\n",
       "      <td>4.0</td>\n",
       "      <td>4.0</td>\n",
       "      <td>4.0</td>\n",
       "      <td>4.25</td>\n",
       "      <td>4.0</td>\n",
       "      <td>4.03</td>\n",
       "    </tr>\n",
       "    <tr>\n",
       "      <td>1</td>\n",
       "      <td>125646</td>\n",
       "      <td>_dirty_</td>\n",
       "      <td>2017-12-21</td>\n",
       "      <td></td>\n",
       "      <td>4.5</td>\n",
       "      <td>4.5</td>\n",
       "      <td>4.5</td>\n",
       "      <td>4.50</td>\n",
       "      <td>4.5</td>\n",
       "      <td>4.50</td>\n",
       "    </tr>\n",
       "  </tbody>\n",
       "</table>\n",
       "</div>"
      ],
      "text/plain": [
       "   beer_id      username        date  \\\n",
       "0   271781  bluejacket74  2017-03-17   \n",
       "1   125646       _dirty_  2017-12-21   \n",
       "\n",
       "                                                text  look  smell  taste  \\\n",
       "0     750 ml bottle, 2016 vintage, bottle #304 of...   4.0    4.0    4.0   \n",
       "1                                                      4.5    4.5    4.5   \n",
       "\n",
       "   feel  overall  score  \n",
       "0  4.25      4.0   4.03  \n",
       "1  4.50      4.5   4.50  "
      ]
     },
     "execution_count": 14,
     "metadata": {},
     "output_type": "execute_result"
    }
   ],
   "source": [
    "reviews.head(2)"
   ]
  },
  {
   "cell_type": "markdown",
   "metadata": {},
   "source": [
    "---\n",
    "# Raw data to decent json"
   ]
  },
  {
   "cell_type": "code",
   "execution_count": 26,
   "metadata": {},
   "outputs": [
    {
     "ename": "KeyError",
     "evalue": "\"None of ['id'] are in the columns\"",
     "output_type": "error",
     "traceback": [
      "\u001b[0;31m---------------------------------------------------------------------------\u001b[0m",
      "\u001b[0;31mKeyError\u001b[0m                                  Traceback (most recent call last)",
      "\u001b[0;32m<ipython-input-26-2fa23b0972d0>\u001b[0m in \u001b[0;36m<module>\u001b[0;34m\u001b[0m\n\u001b[0;32m----> 1\u001b[0;31m \u001b[0mbeer_and_breweries\u001b[0m\u001b[0;34m.\u001b[0m\u001b[0mset_index\u001b[0m\u001b[0;34m(\u001b[0m\u001b[0;34m\"id\"\u001b[0m\u001b[0;34m)\u001b[0m\u001b[0;34m.\u001b[0m\u001b[0mto_json\u001b[0m\u001b[0;34m(\u001b[0m\u001b[0;34m\"../data/raw_data.json\"\u001b[0m\u001b[0;34m,\u001b[0m\u001b[0morient\u001b[0m\u001b[0;34m=\u001b[0m\u001b[0;34m'records'\u001b[0m\u001b[0;34m)\u001b[0m\u001b[0;34m\u001b[0m\u001b[0;34m\u001b[0m\u001b[0m\n\u001b[0m",
      "\u001b[0;32m~/anaconda3/lib/python3.7/site-packages/pandas/core/frame.py\u001b[0m in \u001b[0;36mset_index\u001b[0;34m(self, keys, drop, append, inplace, verify_integrity)\u001b[0m\n\u001b[1;32m   4394\u001b[0m \u001b[0;34m\u001b[0m\u001b[0m\n\u001b[1;32m   4395\u001b[0m         \u001b[0;32mif\u001b[0m \u001b[0mmissing\u001b[0m\u001b[0;34m:\u001b[0m\u001b[0;34m\u001b[0m\u001b[0;34m\u001b[0m\u001b[0m\n\u001b[0;32m-> 4396\u001b[0;31m             \u001b[0;32mraise\u001b[0m \u001b[0mKeyError\u001b[0m\u001b[0;34m(\u001b[0m\u001b[0;34m\"None of {} are in the columns\"\u001b[0m\u001b[0;34m.\u001b[0m\u001b[0mformat\u001b[0m\u001b[0;34m(\u001b[0m\u001b[0mmissing\u001b[0m\u001b[0;34m)\u001b[0m\u001b[0;34m)\u001b[0m\u001b[0;34m\u001b[0m\u001b[0;34m\u001b[0m\u001b[0m\n\u001b[0m\u001b[1;32m   4397\u001b[0m \u001b[0;34m\u001b[0m\u001b[0m\n\u001b[1;32m   4398\u001b[0m         \u001b[0;32mif\u001b[0m \u001b[0minplace\u001b[0m\u001b[0;34m:\u001b[0m\u001b[0;34m\u001b[0m\u001b[0;34m\u001b[0m\u001b[0m\n",
      "\u001b[0;31mKeyError\u001b[0m: \"None of ['id'] are in the columns\""
     ]
    }
   ],
   "source": [
    "beer_and_breweries.set_index(\"id\").to_json(\"../data/raw_data.json\",orient='records')"
   ]
  },
  {
   "cell_type": "code",
   "execution_count": 67,
   "metadata": {},
   "outputs": [],
   "source": [
    "bpc = beer_and_breweries.groupby(\"country\").apply(lambda x: x.to_json(orient='records'))\n",
    "bpc.to_json(\"../data/raw_data_per_c.json\",orient=\"index\")"
   ]
  },
  {
   "cell_type": "markdown",
   "metadata": {},
   "source": [
    "---\n",
    "# Infos per country"
   ]
  },
  {
   "cell_type": "code",
   "execution_count": 66,
   "metadata": {},
   "outputs": [
    {
     "data": {
      "text/plain": [
       "187"
      ]
     },
     "execution_count": 66,
     "metadata": {},
     "output_type": "execute_result"
    }
   ],
   "source": [
    "countries = beer_and_breweries[[\"country\"]].drop_duplicates()\n",
    "len(countries)"
   ]
  },
  {
   "cell_type": "markdown",
   "metadata": {},
   "source": [
    "### nb_of_beers"
   ]
  },
  {
   "cell_type": "code",
   "execution_count": 67,
   "metadata": {},
   "outputs": [
    {
     "data": {
      "text/html": [
       "<div>\n",
       "<style scoped>\n",
       "    .dataframe tbody tr th:only-of-type {\n",
       "        vertical-align: middle;\n",
       "    }\n",
       "\n",
       "    .dataframe tbody tr th {\n",
       "        vertical-align: top;\n",
       "    }\n",
       "\n",
       "    .dataframe thead th {\n",
       "        text-align: right;\n",
       "    }\n",
       "</style>\n",
       "<table border=\"1\" class=\"dataframe\">\n",
       "  <thead>\n",
       "    <tr style=\"text-align: right;\">\n",
       "      <th></th>\n",
       "      <th>country</th>\n",
       "      <th>N_beer</th>\n",
       "    </tr>\n",
       "  </thead>\n",
       "  <tbody>\n",
       "    <tr>\n",
       "      <td>0</td>\n",
       "      <td>US</td>\n",
       "      <td>231940.0</td>\n",
       "    </tr>\n",
       "    <tr>\n",
       "      <td>1</td>\n",
       "      <td>NO</td>\n",
       "      <td>1095.0</td>\n",
       "    </tr>\n",
       "    <tr>\n",
       "      <td>2</td>\n",
       "      <td>JP</td>\n",
       "      <td>1582.0</td>\n",
       "    </tr>\n",
       "    <tr>\n",
       "      <td>3</td>\n",
       "      <td>IT</td>\n",
       "      <td>2523.0</td>\n",
       "    </tr>\n",
       "    <tr>\n",
       "      <td>4</td>\n",
       "      <td>CA</td>\n",
       "      <td>20053.0</td>\n",
       "    </tr>\n",
       "  </tbody>\n",
       "</table>\n",
       "</div>"
      ],
      "text/plain": [
       "  country    N_beer\n",
       "0      US  231940.0\n",
       "1      NO    1095.0\n",
       "2      JP    1582.0\n",
       "3      IT    2523.0\n",
       "4      CA   20053.0"
      ]
     },
     "execution_count": 67,
     "metadata": {},
     "output_type": "execute_result"
    }
   ],
   "source": [
    "temp = beer_and_breweries[[\"country\",\"id\"]].groupby(\"country\").count()\n",
    "temp.rename(columns={'id':'N_beer'},inplace=True)\n",
    "countries = pd.merge(countries,temp,how='left',left_on='country',right_on='country')\n",
    "del temp\n",
    "countries.head()"
   ]
  },
  {
   "cell_type": "markdown",
   "metadata": {},
   "source": [
    "### Average abv/beer"
   ]
  },
  {
   "cell_type": "code",
   "execution_count": 68,
   "metadata": {
    "scrolled": true
   },
   "outputs": [
    {
     "data": {
      "text/html": [
       "<div>\n",
       "<style scoped>\n",
       "    .dataframe tbody tr th:only-of-type {\n",
       "        vertical-align: middle;\n",
       "    }\n",
       "\n",
       "    .dataframe tbody tr th {\n",
       "        vertical-align: top;\n",
       "    }\n",
       "\n",
       "    .dataframe thead th {\n",
       "        text-align: right;\n",
       "    }\n",
       "</style>\n",
       "<table border=\"1\" class=\"dataframe\">\n",
       "  <thead>\n",
       "    <tr style=\"text-align: right;\">\n",
       "      <th></th>\n",
       "      <th>avg_abv</th>\n",
       "    </tr>\n",
       "    <tr>\n",
       "      <th>country</th>\n",
       "      <th></th>\n",
       "    </tr>\n",
       "  </thead>\n",
       "  <tbody>\n",
       "    <tr>\n",
       "      <td>AD</td>\n",
       "      <td>6.188889</td>\n",
       "    </tr>\n",
       "    <tr>\n",
       "      <td>AE</td>\n",
       "      <td>4.690000</td>\n",
       "    </tr>\n",
       "    <tr>\n",
       "      <td>AG</td>\n",
       "      <td>5.200000</td>\n",
       "    </tr>\n",
       "    <tr>\n",
       "      <td>AL</td>\n",
       "      <td>4.700000</td>\n",
       "    </tr>\n",
       "    <tr>\n",
       "      <td>AM</td>\n",
       "      <td>5.087500</td>\n",
       "    </tr>\n",
       "  </tbody>\n",
       "</table>\n",
       "</div>"
      ],
      "text/plain": [
       "          avg_abv\n",
       "country          \n",
       "AD       6.188889\n",
       "AE       4.690000\n",
       "AG       5.200000\n",
       "AL       4.700000\n",
       "AM       5.087500"
      ]
     },
     "execution_count": 68,
     "metadata": {},
     "output_type": "execute_result"
    }
   ],
   "source": [
    "temp = beer_and_breweries[[\"country\",\"abv\"]].groupby(\"country\").mean()\n",
    "temp.rename(columns={'abv':'avg_abv'},inplace=True)\n",
    "temp.head()"
   ]
  },
  {
   "cell_type": "code",
   "execution_count": 69,
   "metadata": {
    "scrolled": false
   },
   "outputs": [
    {
     "data": {
      "text/html": [
       "<div>\n",
       "<style scoped>\n",
       "    .dataframe tbody tr th:only-of-type {\n",
       "        vertical-align: middle;\n",
       "    }\n",
       "\n",
       "    .dataframe tbody tr th {\n",
       "        vertical-align: top;\n",
       "    }\n",
       "\n",
       "    .dataframe thead th {\n",
       "        text-align: right;\n",
       "    }\n",
       "</style>\n",
       "<table border=\"1\" class=\"dataframe\">\n",
       "  <thead>\n",
       "    <tr style=\"text-align: right;\">\n",
       "      <th></th>\n",
       "      <th>country</th>\n",
       "      <th>N_beer</th>\n",
       "      <th>avg_abv</th>\n",
       "    </tr>\n",
       "  </thead>\n",
       "  <tbody>\n",
       "    <tr>\n",
       "      <td>0</td>\n",
       "      <td>US</td>\n",
       "      <td>231940.0</td>\n",
       "      <td>6.721202</td>\n",
       "    </tr>\n",
       "    <tr>\n",
       "      <td>1</td>\n",
       "      <td>NO</td>\n",
       "      <td>1095.0</td>\n",
       "      <td>6.403205</td>\n",
       "    </tr>\n",
       "    <tr>\n",
       "      <td>2</td>\n",
       "      <td>JP</td>\n",
       "      <td>1582.0</td>\n",
       "      <td>5.682332</td>\n",
       "    </tr>\n",
       "    <tr>\n",
       "      <td>3</td>\n",
       "      <td>IT</td>\n",
       "      <td>2523.0</td>\n",
       "      <td>6.400460</td>\n",
       "    </tr>\n",
       "    <tr>\n",
       "      <td>4</td>\n",
       "      <td>CA</td>\n",
       "      <td>20053.0</td>\n",
       "      <td>6.096917</td>\n",
       "    </tr>\n",
       "  </tbody>\n",
       "</table>\n",
       "</div>"
      ],
      "text/plain": [
       "  country    N_beer   avg_abv\n",
       "0      US  231940.0  6.721202\n",
       "1      NO    1095.0  6.403205\n",
       "2      JP    1582.0  5.682332\n",
       "3      IT    2523.0  6.400460\n",
       "4      CA   20053.0  6.096917"
      ]
     },
     "execution_count": 69,
     "metadata": {},
     "output_type": "execute_result"
    }
   ],
   "source": [
    "countries = pd.merge(countries,temp,how='left',left_on='country',right_on='country')\n",
    "del temp\n",
    "countries.head()"
   ]
  },
  {
   "cell_type": "markdown",
   "metadata": {},
   "source": [
    "### median abv"
   ]
  },
  {
   "cell_type": "code",
   "execution_count": 70,
   "metadata": {
    "scrolled": true
   },
   "outputs": [
    {
     "data": {
      "text/html": [
       "<div>\n",
       "<style scoped>\n",
       "    .dataframe tbody tr th:only-of-type {\n",
       "        vertical-align: middle;\n",
       "    }\n",
       "\n",
       "    .dataframe tbody tr th {\n",
       "        vertical-align: top;\n",
       "    }\n",
       "\n",
       "    .dataframe thead th {\n",
       "        text-align: right;\n",
       "    }\n",
       "</style>\n",
       "<table border=\"1\" class=\"dataframe\">\n",
       "  <thead>\n",
       "    <tr style=\"text-align: right;\">\n",
       "      <th></th>\n",
       "      <th>median_abv</th>\n",
       "    </tr>\n",
       "    <tr>\n",
       "      <th>country</th>\n",
       "      <th></th>\n",
       "    </tr>\n",
       "  </thead>\n",
       "  <tbody>\n",
       "    <tr>\n",
       "      <td>AD</td>\n",
       "      <td>5.60</td>\n",
       "    </tr>\n",
       "    <tr>\n",
       "      <td>AE</td>\n",
       "      <td>4.69</td>\n",
       "    </tr>\n",
       "    <tr>\n",
       "      <td>AG</td>\n",
       "      <td>5.20</td>\n",
       "    </tr>\n",
       "    <tr>\n",
       "      <td>AL</td>\n",
       "      <td>4.30</td>\n",
       "    </tr>\n",
       "    <tr>\n",
       "      <td>AM</td>\n",
       "      <td>4.85</td>\n",
       "    </tr>\n",
       "  </tbody>\n",
       "</table>\n",
       "</div>"
      ],
      "text/plain": [
       "         median_abv\n",
       "country            \n",
       "AD             5.60\n",
       "AE             4.69\n",
       "AG             5.20\n",
       "AL             4.30\n",
       "AM             4.85"
      ]
     },
     "execution_count": 70,
     "metadata": {},
     "output_type": "execute_result"
    }
   ],
   "source": [
    "temp = beer_and_breweries[[\"country\",\"abv\"]].groupby(\"country\").median()\n",
    "temp.rename(columns={'abv':'median_abv'},inplace=True)\n",
    "temp.head()"
   ]
  },
  {
   "cell_type": "code",
   "execution_count": 71,
   "metadata": {
    "scrolled": false
   },
   "outputs": [
    {
     "data": {
      "text/html": [
       "<div>\n",
       "<style scoped>\n",
       "    .dataframe tbody tr th:only-of-type {\n",
       "        vertical-align: middle;\n",
       "    }\n",
       "\n",
       "    .dataframe tbody tr th {\n",
       "        vertical-align: top;\n",
       "    }\n",
       "\n",
       "    .dataframe thead th {\n",
       "        text-align: right;\n",
       "    }\n",
       "</style>\n",
       "<table border=\"1\" class=\"dataframe\">\n",
       "  <thead>\n",
       "    <tr style=\"text-align: right;\">\n",
       "      <th></th>\n",
       "      <th>country</th>\n",
       "      <th>N_beer</th>\n",
       "      <th>avg_abv</th>\n",
       "      <th>median_abv</th>\n",
       "    </tr>\n",
       "  </thead>\n",
       "  <tbody>\n",
       "    <tr>\n",
       "      <td>0</td>\n",
       "      <td>US</td>\n",
       "      <td>231940.0</td>\n",
       "      <td>6.721202</td>\n",
       "      <td>6.3</td>\n",
       "    </tr>\n",
       "    <tr>\n",
       "      <td>1</td>\n",
       "      <td>NO</td>\n",
       "      <td>1095.0</td>\n",
       "      <td>6.403205</td>\n",
       "      <td>6.0</td>\n",
       "    </tr>\n",
       "    <tr>\n",
       "      <td>2</td>\n",
       "      <td>JP</td>\n",
       "      <td>1582.0</td>\n",
       "      <td>5.682332</td>\n",
       "      <td>5.0</td>\n",
       "    </tr>\n",
       "    <tr>\n",
       "      <td>3</td>\n",
       "      <td>IT</td>\n",
       "      <td>2523.0</td>\n",
       "      <td>6.400460</td>\n",
       "      <td>6.0</td>\n",
       "    </tr>\n",
       "    <tr>\n",
       "      <td>4</td>\n",
       "      <td>CA</td>\n",
       "      <td>20053.0</td>\n",
       "      <td>6.096917</td>\n",
       "      <td>5.6</td>\n",
       "    </tr>\n",
       "  </tbody>\n",
       "</table>\n",
       "</div>"
      ],
      "text/plain": [
       "  country    N_beer   avg_abv  median_abv\n",
       "0      US  231940.0  6.721202         6.3\n",
       "1      NO    1095.0  6.403205         6.0\n",
       "2      JP    1582.0  5.682332         5.0\n",
       "3      IT    2523.0  6.400460         6.0\n",
       "4      CA   20053.0  6.096917         5.6"
      ]
     },
     "execution_count": 71,
     "metadata": {},
     "output_type": "execute_result"
    }
   ],
   "source": [
    "countries = pd.merge(countries,temp,how='left',left_on='country',right_on='country')\n",
    "del temp\n",
    "countries.head()"
   ]
  },
  {
   "cell_type": "markdown",
   "metadata": {},
   "source": [
    "### most abv"
   ]
  },
  {
   "cell_type": "code",
   "execution_count": 72,
   "metadata": {},
   "outputs": [
    {
     "data": {
      "text/html": [
       "<div>\n",
       "<style scoped>\n",
       "    .dataframe tbody tr th:only-of-type {\n",
       "        vertical-align: middle;\n",
       "    }\n",
       "\n",
       "    .dataframe tbody tr th {\n",
       "        vertical-align: top;\n",
       "    }\n",
       "\n",
       "    .dataframe thead th {\n",
       "        text-align: right;\n",
       "    }\n",
       "</style>\n",
       "<table border=\"1\" class=\"dataframe\">\n",
       "  <thead>\n",
       "    <tr style=\"text-align: right;\">\n",
       "      <th></th>\n",
       "      <th>max_abv</th>\n",
       "    </tr>\n",
       "    <tr>\n",
       "      <th>country</th>\n",
       "      <th></th>\n",
       "    </tr>\n",
       "  </thead>\n",
       "  <tbody>\n",
       "    <tr>\n",
       "      <td>AD</td>\n",
       "      <td>8.50</td>\n",
       "    </tr>\n",
       "    <tr>\n",
       "      <td>AE</td>\n",
       "      <td>4.69</td>\n",
       "    </tr>\n",
       "    <tr>\n",
       "      <td>AG</td>\n",
       "      <td>5.60</td>\n",
       "    </tr>\n",
       "    <tr>\n",
       "      <td>AL</td>\n",
       "      <td>6.50</td>\n",
       "    </tr>\n",
       "    <tr>\n",
       "      <td>AM</td>\n",
       "      <td>8.50</td>\n",
       "    </tr>\n",
       "  </tbody>\n",
       "</table>\n",
       "</div>"
      ],
      "text/plain": [
       "         max_abv\n",
       "country         \n",
       "AD          8.50\n",
       "AE          4.69\n",
       "AG          5.60\n",
       "AL          6.50\n",
       "AM          8.50"
      ]
     },
     "execution_count": 72,
     "metadata": {},
     "output_type": "execute_result"
    }
   ],
   "source": [
    "temp = beer_and_breweries[[\"country\",\"abv\"]].groupby(\"country\").max()\n",
    "temp.rename(columns={'abv':'max_abv'},inplace=True)\n",
    "temp.head()"
   ]
  },
  {
   "cell_type": "code",
   "execution_count": 73,
   "metadata": {},
   "outputs": [
    {
     "data": {
      "text/html": [
       "<div>\n",
       "<style scoped>\n",
       "    .dataframe tbody tr th:only-of-type {\n",
       "        vertical-align: middle;\n",
       "    }\n",
       "\n",
       "    .dataframe tbody tr th {\n",
       "        vertical-align: top;\n",
       "    }\n",
       "\n",
       "    .dataframe thead th {\n",
       "        text-align: right;\n",
       "    }\n",
       "</style>\n",
       "<table border=\"1\" class=\"dataframe\">\n",
       "  <thead>\n",
       "    <tr style=\"text-align: right;\">\n",
       "      <th></th>\n",
       "      <th>country</th>\n",
       "      <th>N_beer</th>\n",
       "      <th>avg_abv</th>\n",
       "      <th>median_abv</th>\n",
       "      <th>max_abv</th>\n",
       "    </tr>\n",
       "  </thead>\n",
       "  <tbody>\n",
       "    <tr>\n",
       "      <td>0</td>\n",
       "      <td>US</td>\n",
       "      <td>231940.0</td>\n",
       "      <td>6.721202</td>\n",
       "      <td>6.3</td>\n",
       "      <td>56.0</td>\n",
       "    </tr>\n",
       "    <tr>\n",
       "      <td>1</td>\n",
       "      <td>NO</td>\n",
       "      <td>1095.0</td>\n",
       "      <td>6.403205</td>\n",
       "      <td>6.0</td>\n",
       "      <td>20.0</td>\n",
       "    </tr>\n",
       "    <tr>\n",
       "      <td>2</td>\n",
       "      <td>JP</td>\n",
       "      <td>1582.0</td>\n",
       "      <td>5.682332</td>\n",
       "      <td>5.0</td>\n",
       "      <td>15.0</td>\n",
       "    </tr>\n",
       "    <tr>\n",
       "      <td>3</td>\n",
       "      <td>IT</td>\n",
       "      <td>2523.0</td>\n",
       "      <td>6.400460</td>\n",
       "      <td>6.0</td>\n",
       "      <td>16.0</td>\n",
       "    </tr>\n",
       "    <tr>\n",
       "      <td>4</td>\n",
       "      <td>CA</td>\n",
       "      <td>20053.0</td>\n",
       "      <td>6.096917</td>\n",
       "      <td>5.6</td>\n",
       "      <td>66.0</td>\n",
       "    </tr>\n",
       "  </tbody>\n",
       "</table>\n",
       "</div>"
      ],
      "text/plain": [
       "  country    N_beer   avg_abv  median_abv  max_abv\n",
       "0      US  231940.0  6.721202         6.3     56.0\n",
       "1      NO    1095.0  6.403205         6.0     20.0\n",
       "2      JP    1582.0  5.682332         5.0     15.0\n",
       "3      IT    2523.0  6.400460         6.0     16.0\n",
       "4      CA   20053.0  6.096917         5.6     66.0"
      ]
     },
     "execution_count": 73,
     "metadata": {},
     "output_type": "execute_result"
    }
   ],
   "source": [
    "countries = pd.merge(countries,temp,how='left',left_on='country',right_on='country')\n",
    "del temp\n",
    "countries.head()"
   ]
  },
  {
   "cell_type": "markdown",
   "metadata": {},
   "source": [
    "### number of breweries"
   ]
  },
  {
   "cell_type": "code",
   "execution_count": 74,
   "metadata": {},
   "outputs": [
    {
     "data": {
      "text/html": [
       "<div>\n",
       "<style scoped>\n",
       "    .dataframe tbody tr th:only-of-type {\n",
       "        vertical-align: middle;\n",
       "    }\n",
       "\n",
       "    .dataframe tbody tr th {\n",
       "        vertical-align: top;\n",
       "    }\n",
       "\n",
       "    .dataframe thead th {\n",
       "        text-align: right;\n",
       "    }\n",
       "</style>\n",
       "<table border=\"1\" class=\"dataframe\">\n",
       "  <thead>\n",
       "    <tr style=\"text-align: right;\">\n",
       "      <th></th>\n",
       "      <th>n_brewery</th>\n",
       "    </tr>\n",
       "    <tr>\n",
       "      <th>country</th>\n",
       "      <th></th>\n",
       "    </tr>\n",
       "  </thead>\n",
       "  <tbody>\n",
       "    <tr>\n",
       "      <td>AD</td>\n",
       "      <td>1</td>\n",
       "    </tr>\n",
       "    <tr>\n",
       "      <td>AE</td>\n",
       "      <td>1</td>\n",
       "    </tr>\n",
       "    <tr>\n",
       "      <td>AG</td>\n",
       "      <td>1</td>\n",
       "    </tr>\n",
       "    <tr>\n",
       "      <td>AL</td>\n",
       "      <td>7</td>\n",
       "    </tr>\n",
       "    <tr>\n",
       "      <td>AM</td>\n",
       "      <td>4</td>\n",
       "    </tr>\n",
       "  </tbody>\n",
       "</table>\n",
       "</div>"
      ],
      "text/plain": [
       "         n_brewery\n",
       "country           \n",
       "AD               1\n",
       "AE               1\n",
       "AG               1\n",
       "AL               7\n",
       "AM               4"
      ]
     },
     "execution_count": 74,
     "metadata": {},
     "output_type": "execute_result"
    }
   ],
   "source": [
    "temp = beer_and_breweries[[\"country\",\"brewery\"]].groupby(\"country\").nunique()[[\"brewery\"]]\n",
    "temp.rename(columns={'brewery':'n_brewery'},inplace=True)\n",
    "temp.head()"
   ]
  },
  {
   "cell_type": "code",
   "execution_count": 75,
   "metadata": {},
   "outputs": [
    {
     "data": {
      "text/html": [
       "<div>\n",
       "<style scoped>\n",
       "    .dataframe tbody tr th:only-of-type {\n",
       "        vertical-align: middle;\n",
       "    }\n",
       "\n",
       "    .dataframe tbody tr th {\n",
       "        vertical-align: top;\n",
       "    }\n",
       "\n",
       "    .dataframe thead th {\n",
       "        text-align: right;\n",
       "    }\n",
       "</style>\n",
       "<table border=\"1\" class=\"dataframe\">\n",
       "  <thead>\n",
       "    <tr style=\"text-align: right;\">\n",
       "      <th></th>\n",
       "      <th>country</th>\n",
       "      <th>N_beer</th>\n",
       "      <th>avg_abv</th>\n",
       "      <th>median_abv</th>\n",
       "      <th>max_abv</th>\n",
       "      <th>n_brewery</th>\n",
       "    </tr>\n",
       "  </thead>\n",
       "  <tbody>\n",
       "    <tr>\n",
       "      <td>0</td>\n",
       "      <td>US</td>\n",
       "      <td>231940.0</td>\n",
       "      <td>6.721202</td>\n",
       "      <td>6.3</td>\n",
       "      <td>56.0</td>\n",
       "      <td>7338.0</td>\n",
       "    </tr>\n",
       "    <tr>\n",
       "      <td>1</td>\n",
       "      <td>NO</td>\n",
       "      <td>1095.0</td>\n",
       "      <td>6.403205</td>\n",
       "      <td>6.0</td>\n",
       "      <td>20.0</td>\n",
       "      <td>77.0</td>\n",
       "    </tr>\n",
       "    <tr>\n",
       "      <td>2</td>\n",
       "      <td>JP</td>\n",
       "      <td>1582.0</td>\n",
       "      <td>5.682332</td>\n",
       "      <td>5.0</td>\n",
       "      <td>15.0</td>\n",
       "      <td>164.0</td>\n",
       "    </tr>\n",
       "    <tr>\n",
       "      <td>3</td>\n",
       "      <td>IT</td>\n",
       "      <td>2523.0</td>\n",
       "      <td>6.400460</td>\n",
       "      <td>6.0</td>\n",
       "      <td>16.0</td>\n",
       "      <td>367.0</td>\n",
       "    </tr>\n",
       "    <tr>\n",
       "      <td>4</td>\n",
       "      <td>CA</td>\n",
       "      <td>20053.0</td>\n",
       "      <td>6.096917</td>\n",
       "      <td>5.6</td>\n",
       "      <td>66.0</td>\n",
       "      <td>940.0</td>\n",
       "    </tr>\n",
       "  </tbody>\n",
       "</table>\n",
       "</div>"
      ],
      "text/plain": [
       "  country    N_beer   avg_abv  median_abv  max_abv  n_brewery\n",
       "0      US  231940.0  6.721202         6.3     56.0     7338.0\n",
       "1      NO    1095.0  6.403205         6.0     20.0       77.0\n",
       "2      JP    1582.0  5.682332         5.0     15.0      164.0\n",
       "3      IT    2523.0  6.400460         6.0     16.0      367.0\n",
       "4      CA   20053.0  6.096917         5.6     66.0      940.0"
      ]
     },
     "execution_count": 75,
     "metadata": {},
     "output_type": "execute_result"
    }
   ],
   "source": [
    "countries = pd.merge(countries,temp,how='left',left_on='country',right_on='country')\n",
    "del temp\n",
    "countries.head()"
   ]
  },
  {
   "cell_type": "markdown",
   "metadata": {},
   "source": [
    "---\n",
    "# Draft"
   ]
  },
  {
   "cell_type": "code",
   "execution_count": 37,
   "metadata": {},
   "outputs": [
    {
     "data": {
      "text/plain": [
       "id                              104620\n",
       "beer                       Snake Venom\n",
       "style               British Barleywine\n",
       "availability     Limited (brewed once)\n",
       "abv                               67.5\n",
       "retired                              t\n",
       "brewery                    Brewmeister\n",
       "city                            Aboyne\n",
       "country                             GB\n",
       "types                          Brewery\n",
       "Name: 325099, dtype: object"
      ]
     },
     "execution_count": 37,
     "metadata": {},
     "output_type": "execute_result"
    }
   ],
   "source": [
    "beer_and_breweries.loc[beer_and_breweries[\"abv\"].idxmax()]"
   ]
  },
  {
   "cell_type": "markdown",
   "metadata": {},
   "source": [
    "## Beer types"
   ]
  },
  {
   "cell_type": "code",
   "execution_count": 35,
   "metadata": {},
   "outputs": [],
   "source": [
    "beer_types = beer_and_breweries[['style','id']].groupby('style').agg('count').reset_index()"
   ]
  },
  {
   "cell_type": "code",
   "execution_count": 36,
   "metadata": {},
   "outputs": [],
   "source": [
    "IPA = beer_and_breweries[beer_and_breweries['style'].str.contains('IPA')]"
   ]
  },
  {
   "cell_type": "code",
   "execution_count": 37,
   "metadata": {},
   "outputs": [],
   "source": [
    "Lager = beer_and_breweries[(beer_and_breweries['style'].str.contains('Lager'))]"
   ]
  },
  {
   "cell_type": "code",
   "execution_count": 38,
   "metadata": {},
   "outputs": [],
   "source": [
    "Ale = beer_and_breweries[(beer_and_breweries['style'].str.contains('Ale')) | (beer_and_breweries['style'].str.contains('Gose'))]"
   ]
  },
  {
   "cell_type": "code",
   "execution_count": 39,
   "metadata": {},
   "outputs": [],
   "source": [
    "Stout = beer_and_breweries[(beer_and_breweries['style'].str.contains('Stout'))]"
   ]
  },
  {
   "cell_type": "code",
   "execution_count": 40,
   "metadata": {},
   "outputs": [],
   "source": [
    "Pilsner = beer_and_breweries[beer_and_breweries['style'].str.contains('Pils')]"
   ]
  },
  {
   "cell_type": "code",
   "execution_count": 41,
   "metadata": {},
   "outputs": [],
   "source": [
    "Porter = beer_and_breweries[beer_and_breweries['style'].str.contains('Porter')]"
   ]
  },
  {
   "cell_type": "code",
   "execution_count": 42,
   "metadata": {},
   "outputs": [],
   "source": [
    "Fruit =beer_and_breweries[beer_and_breweries['style'].str.contains('Fruit')]"
   ]
  },
  {
   "cell_type": "code",
   "execution_count": 43,
   "metadata": {},
   "outputs": [],
   "source": [
    "Roggenbier = beer_and_breweries[(beer_and_breweries['style'].str.contains('Roggen'))|(beer_and_breweries['style'].str.contains('Rye'))]"
   ]
  },
  {
   "cell_type": "code",
   "execution_count": 44,
   "metadata": {},
   "outputs": [],
   "source": [
    "Herb = beer_and_breweries[(beer_and_breweries['style'].str.contains('Herb'))]"
   ]
  },
  {
   "cell_type": "code",
   "execution_count": 45,
   "metadata": {},
   "outputs": [],
   "source": [
    "Smoke = beer_and_breweries[(beer_and_breweries['style'].str.contains('Smoke'))]"
   ]
  },
  {
   "cell_type": "code",
   "execution_count": 46,
   "metadata": {},
   "outputs": [],
   "source": [
    "Barleywine=beer_and_breweries[(beer_and_breweries['style'].str.contains('Barleywine'))]"
   ]
  },
  {
   "cell_type": "code",
   "execution_count": 63,
   "metadata": {},
   "outputs": [],
   "source": [
    "def get_data_filters(data,name,countries):\n",
    "    #Number of beers\n",
    "    temp = data[[\"country\",\"id\"]].groupby(\"country\").count()\n",
    "    temp.rename(columns={'id':'N_beer_'+name},inplace=True)\n",
    "    countries = pd.merge(countries,temp,how='left',left_on='country',right_on='country')\n",
    "    \n",
    "    #Average ABV\n",
    "    temp = data[[\"country\",\"abv\"]].groupby(\"country\").mean()\n",
    "    temp.rename(columns={'abv':'avg_abv_'+name},inplace=True)\n",
    "    countries = pd.merge(countries,temp,how='left',left_on='country',right_on='country')\n",
    "    \n",
    "    # HIghest ABV\n",
    "    temp = data[[\"country\",\"abv\"]].groupby(\"country\").max()\n",
    "    temp.rename(columns={'abv':'max_abv_'+name},inplace=True)\n",
    "    countries = pd.merge(countries,temp,how='left',left_on='country',right_on='country')\n",
    "\n",
    "    #Number of breweries\n",
    "    temp = data[[\"country\",\"brewery\"]].groupby(\"country\").nunique()[[\"brewery\"]]\n",
    "    temp.rename(columns={'brewery':'n_brewery_'+name},inplace=True)\n",
    "    countries = pd.merge(countries,temp,how='left',left_on='country',right_on='country')\n",
    "    \n",
    "    return countries\n",
    "    "
   ]
  },
  {
   "cell_type": "code",
   "execution_count": 76,
   "metadata": {},
   "outputs": [],
   "source": [
    "countries =get_data_filters(IPA,\"IPA\",countries)\n",
    "countries =get_data_filters(Lager,'Lager',countries)\n",
    "countries =get_data_filters(Ale,'Ale',countries)\n",
    "countries =get_data_filters(Stout,\"Stout\",countries)\n",
    "countries =get_data_filters(Pilsner,'Pilsner',countries)\n",
    "countries =get_data_filters(Porter,'Porter',countries)\n",
    "countries =get_data_filters(Fruit,'Fruit',countries)\n",
    "countries =get_data_filters(Roggenbier,'Roggenbier',countries)\n",
    "countries =get_data_filters(Herb,'Herb',countries)\n",
    "countries =get_data_filters(Smoke,'Smoke',countries)\n",
    "countries =get_data_filters(Barleywine,'Barleywine',countries)"
   ]
  },
  {
   "cell_type": "markdown",
   "metadata": {},
   "source": [
    "## Saving to csv and json"
   ]
  },
  {
   "cell_type": "code",
   "execution_count": null,
   "metadata": {},
   "outputs": [],
   "source": [
    "countries=countries.set_index(\"country\")\n",
    "\n",
    "countries.to_csv(r\"../data/countries_basic_data.csv\")\n",
    "countries.to_json(r\"../data/countries_basic_data.json\",orient='index')"
   ]
  },
  {
   "cell_type": "markdown",
   "metadata": {},
   "source": [
    "## Reviews for cloud words"
   ]
  },
  {
   "cell_type": "code",
   "execution_count": 22,
   "metadata": {},
   "outputs": [],
   "source": [
    "from nltk.corpus import stopwords\n",
    "from sklearn.feature_extraction.text import CountVectorizer\n",
    "import string\n",
    "from tqdm import tqdm_notebook"
   ]
  },
  {
   "cell_type": "code",
   "execution_count": null,
   "metadata": {},
   "outputs": [],
   "source": [
    "beer_and_breweries = beer_and_breweries.set_index('id')"
   ]
  },
  {
   "cell_type": "code",
   "execution_count": 297,
   "metadata": {},
   "outputs": [],
   "source": [
    "def lower_punct_removal(text):\n",
    "    temp = text.lower()\n",
    "    return temp.translate(str.maketrans('', '', string.punctuation))\n",
    "def stopwords_removal(text):\n",
    "    obvious= ['beer','nice','like','good','well','bottle','bit','head','taste','flavor','smell','little',\\\n",
    "              'glass','pours','notes','body','carbonation','color','hops','really','mouthfeel','aroma','malt',\\\n",
    "             'one','overall','would','finish','much','medium','poured']\n",
    "    return ' '.join([x for x in text.split() if not (x in stopwords_en or x.isdigit() or x in obvious) ])\n",
    "\n",
    "\n",
    "\n",
    "def get_words_counts(beer_sub_type,number):\n",
    "    barley_reviews = reviews[reviews['beer_id'].isin(beer_sub_type.index.to_list())].copy()\n",
    "    barley_reviews['text']  = barley_reviews['text'].apply(lower_punct_removal)\n",
    "    barley_reviews['text']=barley_reviews['text'].apply(stopwords_removal)\n",
    "    \n",
    "    counter = CountVectorizer()\n",
    "    X = counter.fit_transform(list(barley_reviews['text']))\n",
    "    word_count= np.asarray(X.sum(axis =0))[0]\n",
    "    \n",
    "    indices = np.argsort(word_count)[-number:]\n",
    "    counts = np.sort(word_count)[-number:]\n",
    "    \n",
    "    return np.array(counter.get_feature_names())[indices],counts\n",
    "\n",
    "\n",
    "def store_words_(data,beer_types):\n",
    "    result = pd.DataFrame(columns=['beer_type','words'])\n",
    "    result['beer_type'] = beer_types\n",
    "    for j in tqdm_notebook(range(len(beer_types))):\n",
    "        words,counts = get_words_counts(data[j],20)\n",
    "        liste = []\n",
    "        for i in range(len(words)):\n",
    "            liste.append({\"x\":words[i],\"value\": counts[i]})\n",
    "        result.loc[beer_types[j],'words'] = liste\n",
    "\n",
    "    return result"
   ]
  },
  {
   "cell_type": "code",
   "execution_count": 101,
   "metadata": {},
   "outputs": [],
   "source": [
    "stopwords_en =stopwords.words('english')"
   ]
  },
  {
   "cell_type": "code",
   "execution_count": 216,
   "metadata": {},
   "outputs": [],
   "source": [
    "reviews = reviews[reviews['text']!= '\\xa0\\xa0']"
   ]
  },
  {
   "cell_type": "code",
   "execution_count": 283,
   "metadata": {
    "scrolled": true
   },
   "outputs": [
    {
     "data": {
      "text/plain": [
       "(array(['malts', 'sugar', 'vanilla', 'smooth', 'big', 'bourbon', 'flavors',\n",
       "        'nose', 'lacing', 'sweetness', 'fruit', 'hop', 'toffee', 'light',\n",
       "        'brown', 'barleywine', 'dark', 'caramel', 'alcohol', 'sweet'],\n",
       "       dtype='<U81'),\n",
       " array([17560, 17806, 17983, 18226, 18891, 18897, 18947, 19745, 20149,\n",
       "        20221, 20380, 21117, 21269, 26439, 31552, 33089, 41850, 49512,\n",
       "        50082, 53089], dtype=int64))"
      ]
     },
     "execution_count": 283,
     "metadata": {},
     "output_type": "execute_result"
    }
   ],
   "source": [
    "get_words_counts(Barleywine,20)"
   ]
  },
  {
   "cell_type": "code",
   "execution_count": 284,
   "metadata": {},
   "outputs": [
    {
     "data": {
      "text/plain": [
       "(array(['alcohol', 'sweetness', 'floral', 'hoppy', 'fruit', 'caramel',\n",
       "        'nose', 'great', 'lacing', 'white', 'bitter', 'grapefruit',\n",
       "        'sweet', 'pine', 'light', 'bitterness', 'orange', 'citrus', 'hop',\n",
       "        'ipa'], dtype='<U235'),\n",
       " array([115175, 116725, 117310, 118542, 118895, 144788, 147053, 158205,\n",
       "        195802, 202436, 209962, 213962, 220079, 227207, 230014, 231322,\n",
       "        239832, 338567, 343219, 355327], dtype=int64))"
      ]
     },
     "execution_count": 284,
     "metadata": {},
     "output_type": "execute_result"
    }
   ],
   "source": [
    "get_words_counts(IPA,20)"
   ]
  },
  {
   "cell_type": "code",
   "execution_count": 285,
   "metadata": {},
   "outputs": [
    {
     "data": {
      "text/plain": [
       "(array(['caramel', 'bitter', 'nose', 'great', 'flavors', 'creamy',\n",
       "        'vanilla', 'smooth', 'tan', 'lacing', 'malts', 'sweet', 'black',\n",
       "        'light', 'brown', 'roasted', 'porter', 'coffee', 'chocolate',\n",
       "        'dark'], dtype='<U103'),\n",
       " array([ 30712,  31195,  31819,  32097,  34885,  36019,  38778,  40206,\n",
       "         40596,  41623,  44958,  53890,  65132,  71082,  74439,  81359,\n",
       "        100837, 118149, 131624, 134195], dtype=int64))"
      ]
     },
     "execution_count": 285,
     "metadata": {},
     "output_type": "execute_result"
    }
   ],
   "source": [
    "get_words_counts(Porter,20)"
   ]
  },
  {
   "cell_type": "code",
   "execution_count": 286,
   "metadata": {},
   "outputs": [
    {
     "data": {
      "text/plain": [
       "(array(['slightly', 'pale', 'bitter', 'floral', 'dry', 'yellow', 'grassy',\n",
       "        'style', 'clean', 'lacing', 'bitterness', 'clear', 'pils',\n",
       "        'golden', 'sweet', 'crisp', 'hop', 'white', 'pilsner', 'light'],\n",
       "       dtype='<U80'),\n",
       " array([14876, 14991, 15144, 15144, 16120, 16292, 16615, 17903, 19306,\n",
       "        19449, 20514, 21196, 21229, 21730, 23886, 25296, 31371, 32534,\n",
       "        35235, 51075], dtype=int64))"
      ]
     },
     "execution_count": 286,
     "metadata": {},
     "output_type": "execute_result"
    }
   ],
   "source": [
    "get_words_counts(Pilsner,20)"
   ]
  },
  {
   "cell_type": "code",
   "execution_count": 287,
   "metadata": {},
   "outputs": [
    {
     "data": {
      "text/plain": [
       "(array(['flavors', 'great', 'slightly', 'cherries', 'fruity', 'pretty',\n",
       "        'drink', 'nose', 'sweetness', 'red', 'wheat', 'lacing', 'white',\n",
       "        'raspberry', 'sour', 'cherry', 'tart', 'fruit', 'light', 'sweet'],\n",
       "       dtype='<U133'),\n",
       " array([13637, 13727, 13817, 14179, 14498, 14540, 14985, 16012, 16625,\n",
       "        16628, 16672, 17820, 21679, 22410, 24255, 26611, 27783, 37319,\n",
       "        46716, 48155], dtype=int64))"
      ]
     },
     "execution_count": 287,
     "metadata": {},
     "output_type": "execute_result"
    }
   ],
   "source": [
    "get_words_counts(Fruit,20)"
   ]
  },
  {
   "cell_type": "code",
   "execution_count": 288,
   "metadata": {},
   "outputs": [
    {
     "data": {
      "text/plain": [
       "(array(['smokiness', 'nose', 'tan', 'smooth', 'flavors', 'smokey',\n",
       "        'lacing', 'smoky', 'malts', 'coffee', 'black', 'sweet', 'roasted',\n",
       "        'porter', 'brown', 'light', 'chocolate', 'dark', 'smoked', 'smoke'],\n",
       "       dtype='<U108'),\n",
       " array([ 3399,  3444,  3472,  3636,  3835,  4166,  4379,  4461,  4865,\n",
       "         4938,  4984,  5051,  5552,  6473,  6676,  8264,  8391, 10888,\n",
       "        11397, 17502], dtype=int64))"
      ]
     },
     "execution_count": 288,
     "metadata": {},
     "output_type": "execute_result"
    }
   ],
   "source": [
    "get_words_counts(Smoke,20)"
   ]
  },
  {
   "cell_type": "code",
   "execution_count": 289,
   "metadata": {},
   "outputs": [
    {
     "data": {
      "text/plain": [
       "(array(['great', 'bitter', 'flavors', 'bourbon', 'malts', 'lacing',\n",
       "        'thick', 'creamy', 'smooth', 'alcohol', 'vanilla', 'brown',\n",
       "        'light', 'sweet', 'roasted', 'stout', 'black', 'coffee', 'dark',\n",
       "        'chocolate'], dtype='<U193'),\n",
       " array([ 97684,  98334, 103069, 107168, 111018, 111717, 114940, 117970,\n",
       "        122051, 127354, 132964, 150820, 151876, 168854, 218100, 255488,\n",
       "        255555, 367834, 379359, 443778], dtype=int64))"
      ]
     },
     "execution_count": 289,
     "metadata": {},
     "output_type": "execute_result"
    }
   ],
   "source": [
    "get_words_counts(Stout,20)"
   ]
  },
  {
   "cell_type": "code",
   "execution_count": 298,
   "metadata": {},
   "outputs": [
    {
     "data": {
      "application/vnd.jupyter.widget-view+json": {
       "model_id": "bcf38ed1b9a24333b36424e68efd9c3b",
       "version_major": 2,
       "version_minor": 0
      },
      "text/plain": [
       "HBox(children=(IntProgress(value=0, max=11), HTML(value='')))"
      ]
     },
     "metadata": {},
     "output_type": "display_data"
    },
    {
     "name": "stdout",
     "output_type": "stream",
     "text": [
      "\n"
     ]
    }
   ],
   "source": [
    "beer_types = ['IPA','Lager','Ale','Stout','Pilsner','Porter','Fruit','Roggenbier','Smoke','Barleywine','Herb']\n",
    "data = [IPA, Lager, Ale, Stout,Pilsner,Porter,Fruit,Roggenbier,Smoke,Barleywine,Herb]\n",
    "\n",
    "result = store_words_(data,beer_types)"
   ]
  },
  {
   "cell_type": "code",
   "execution_count": null,
   "metadata": {},
   "outputs": [],
   "source": []
  }
 ],
 "metadata": {
  "kernelspec": {
   "display_name": "Python 3",
   "language": "python",
   "name": "python3"
  },
  "language_info": {
   "codemirror_mode": {
    "name": "ipython",
    "version": 3
   },
   "file_extension": ".py",
   "mimetype": "text/x-python",
   "name": "python",
   "nbconvert_exporter": "python",
   "pygments_lexer": "ipython3",
   "version": "3.7.4"
  }
 },
 "nbformat": 4,
 "nbformat_minor": 4
}
